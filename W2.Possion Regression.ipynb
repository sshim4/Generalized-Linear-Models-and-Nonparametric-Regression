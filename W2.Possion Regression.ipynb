{
 "cells": [
  {
   "cell_type": "code",
   "execution_count": 1,
   "id": "6380a021",
   "metadata": {},
   "outputs": [
    {
     "name": "stdout",
     "output_type": "stream",
     "text": [
      "Last updated  Wed Oct 12 14:54:06 2022"
     ]
    }
   ],
   "source": [
    "cat('Last updated ', date())"
   ]
  },
  {
   "cell_type": "markdown",
   "id": "1dab5968",
   "metadata": {},
   "source": [
    "_This is a study note while I am taking __Generalized Linear Models and Nonparametric Regression__ offered by University of Colorado Boulder in Coursera_"
   ]
  },
  {
   "cell_type": "markdown",
   "id": "67b6f5aa",
   "metadata": {},
   "source": [
    "__markdown mathematical formula__\n",
    "https://nocomplexity.com/documents/jupyterlab/notebooks/TypesettingEquations.html\n",
    "\n",
    "__HTML color chart__\n",
    "https://www.htmlcodes.ws/color/html-color-code-generator.cfm?hexColor=FF0000"
   ]
  },
  {
   "cell_type": "markdown",
   "id": "6d2503fd",
   "metadata": {},
   "source": [
    "# Week2 Models for Count Data"
   ]
  },
  {
   "cell_type": "markdown",
   "id": "334b6b81",
   "metadata": {},
   "source": [
    "## I. Poission Regression Basics"
   ]
  },
  {
   "cell_type": "markdown",
   "id": "e6c2cff5",
   "metadata": {},
   "source": [
    "__Recall__ : Generalized linear models consist of three main components. \n",
    "\n",
    "1. Random component which is the reponse variable that from the exponential famlily of distribution. \n",
    "2. A systematic component\n",
    "3. A link function between 1 and 2."
   ]
  },
  {
   "cell_type": "markdown",
   "id": "a5353e4c",
   "metadata": {},
   "source": [
    "### 1. Possion Regression: A new Model for Count Data"
   ]
  },
  {
   "cell_type": "markdown",
   "id": "e4801cf4",
   "metadata": {},
   "source": [
    "Each $y_i$ is a realization from a Poission distribution random varaible $Y_i$. $Y_i \\sim Poission(\\lambda_i)$, $P(Y_i=y_i)=\\frac{e^{-\\lambda_i}\\lambda_i^{y_i}}{y_i!}$, where $y_i= 0,1,\\cdots,n$\n",
    "\n",
    "\n",
    "\n",
    "* $\\mathbf{y}$ : Reponse (Random component)\n",
    "* $\\mathbf{x_1, x_2, \\cdots, x_p}$ : Covariate class (Systematic component)"
   ]
  },
  {
   "cell_type": "markdown",
   "id": "b5810aa0",
   "metadata": {},
   "source": [
    "\\begin{pmatrix}\n",
    "\\mathbf{y} & \\mathbf{x_1} & \\mathbf{x_2}  & \\mathbf{\\cdots} & \\mathbf{x_p}\\\\\n",
    "        y_1 &  x_{1,1} & x_{1,2} & \\cdots & x_{1,p}   \\\\\n",
    "        y_2 &  x_{2,1} & x_{2,2} & \\cdots & x_{2,p}   \\\\\n",
    "        \\vdots & \\vdots & \\vdots & \\ddots & \\vdots \\\\ \n",
    "        y_n & x_{n,1} & x_{n,2} & \\cdots & x_{n,p}\n",
    "\\end{pmatrix}  "
   ]
  },
  {
   "cell_type": "markdown",
   "id": "12e9fc69",
   "metadata": {},
   "source": [
    "#### 1) Random Component: Conditionend on the predictors:\n",
    "$$Y_i\\stackrel{i}{\\sim} Possion(\\lambda_i)$$\n",
    "\n",
    "__Goal:__ Predict or Explain $\\mu_i=\\lambda_i$ using a covariabe class, $x_{i,1},\\cdots,x_{i,p}$\n",
    "\n",
    "* mean: $\\mu_i=E(Y_i)=\\lambda_i$\n",
    "* variance:$\\sigma_i^2=Var(Y_i)=\\lambda_i$\n",
    "* canonical parameter: $\\theta_i=log(\\mu_i)=log(\\lambda_i)$"
   ]
  },
  {
   "cell_type": "markdown",
   "id": "93f334be",
   "metadata": {},
   "source": [
    "#### 2) Systematic component\n",
    "\n",
    "$$\\eta = \\beta_0 + \\beta x_{1} + \\cdots + \\beta_p x_{p}$$"
   ]
  },
  {
   "cell_type": "markdown",
   "id": "1ba8a72c",
   "metadata": {},
   "source": [
    "As with binomial regression, we can't simply use an estimate of $\\eta$ the systematic component to directly predict $\\mu_i$. This linear predictor $\\eta$ will be positive. That is required of a rate. But if you input x values and get $\\beta$ and get negative value, the negative valus in Poission in this context would be a prediction of a rate. That would not be quite right. So we must have a function to link the mean of this poission distribution which is positive to this systematic component. "
   ]
  },
  {
   "cell_type": "markdown",
   "id": "2d623a42",
   "metadata": {},
   "source": [
    "#### 3) The link function, g, describes how the mean response, $\\mu=E(Y)$ is linked $\\eta$\n",
    "\n",
    "* $g(\\lambda_i) = log(\\lambda_i)$\n",
    "* $\\eta_i \\stackrel{i}= g(\\lambda_i)=log(\\lambda_i)=\n",
    "\\theta$, which is the canonical parameter in the exponentianl familly formulation of the Poission.\n",
    "* $\\lambda_i = e^{\\eta_i}$"
   ]
  },
  {
   "cell_type": "markdown",
   "id": "1a131da5",
   "metadata": {},
   "source": [
    "#### 4) Rate response and the offset term\n",
    "\n",
    "* $\\mathbf{y}$ : Reponse\n",
    "* $\\mathbf{x_1, x_2, \\cdots, x_p}$ : Covariate class"
   ]
  },
  {
   "cell_type": "markdown",
   "id": "dea86ed0",
   "metadata": {},
   "source": [
    "\\begin{pmatrix}\n",
    "\\mathbf{y} & \\mathbf{x_1} & \\mathbf{x_2}  & \\mathbf{\\cdots} & \\mathbf{x_p}\\\\\n",
    "        y_1=3 &  x_{1,1} & x_{1,2} & \\cdots & x_{1,p}   \\\\\n",
    "        y_2=2 &  x_{2,1} & x_{2,2} & \\cdots & x_{2,p}   \\\\\n",
    "        y_3=0 &  x_{3,1} & x_{3,2} & \\cdots & x_{3,p}   \\\\\n",
    "        y_4=1 &  x_{4,1} & x_{4,2} & \\cdots & x_{4,p}   \\\\\n",
    "        \\vdots & \\vdots & \\vdots & \\ddots & \\vdots \\\\ \n",
    "        y_n=1 & x_{n,1} & x_{n,2} & \\cdots & x_{n,p}\n",
    "\\end{pmatrix}  "
   ]
  },
  {
   "cell_type": "markdown",
   "id": "723427c0",
   "metadata": {},
   "source": [
    "Suppose, we would like to construct a model that can predict __the number of times__ an individual would be admitted to a hospotal. The covariabe class might be include age, gender, other health conditions. <br>\n",
    "\n",
    "Suppose the individual 3, $y_3$ was observed 1 month, and $y_1$ is obseved 1 year. That means $y_1$ had a longer period of time for hospitalization to occur. So we can modify our Poission model to include this information. "
   ]
  },
  {
   "cell_type": "markdown",
   "id": "a8a4ba7b",
   "metadata": {},
   "source": [
    "In rate models, the mean of our response should include the exposure. In the example, the length of time individuals were observed in the exposure period. \n",
    "\n",
    "The mean $\\mu_i=\\lambda_i$ is really a count over the exposure:\n",
    "$$\\mu_i = \\lambda_i = \\frac{count_i}{exposure_i}=\\frac{y_i}{e_i}$$\n",
    "\n",
    "Using the log-link function, we wee that:\n",
    "$$g(\\lambda_i)=log(\\lambda_i)=log(\\frac{y_i}{e_i})=log(y_i)-log(e_i)$$\n",
    "\n",
    "In R, \n",
    "glm(Responsd ~ predictor + ...+ offset(log(exposure)), ...)"
   ]
  },
  {
   "cell_type": "markdown",
   "id": "78b25cd4",
   "metadata": {},
   "source": [
    "## II. Poisson Regression Parameter Estimation"
   ]
  },
  {
   "cell_type": "markdown",
   "id": "22b2b42e",
   "metadata": {},
   "source": [
    "Parameter estimation - Maximum likelihood estimation\n",
    "1. Marginal Pmf\n",
    "2. Joing pmf\n",
    "3. Likelihood function \n",
    "4. Log-likelihood function\n",
    "5. Maximize"
   ]
  },
  {
   "cell_type": "markdown",
   "id": "39520474",
   "metadata": {},
   "source": [
    "### 1. Marginal pmf\n",
    "$$P(Y_i=y_y)=\\frac{e^{\\lambda_i}\\lambda_i^{y_i}}{y_i!}, v y_i=0,1,2,\\cdots,\\lambda_i$$"
   ]
  },
  {
   "cell_type": "markdown",
   "id": "c7c180cf",
   "metadata": {},
   "source": [
    "### 2. Joint pmf\n",
    "$$f(\\mathbf{\\underline y};\\mathbf{\\underline \\lambda})=\\prod_{i=1}^{n}(\\frac{e^{-\\lambda_i}\\lambda_i^{y_i}}{y_i!})$$"
   ]
  },
  {
   "cell_type": "markdown",
   "id": "6b0b3d2e",
   "metadata": {},
   "source": [
    "### 3. Likelihood function \n",
    "$$L(\\mathbf{\\underline \\beta})=\\prod_{i=1}^{n}(\\frac{e^{-\\lambda_i}\\lambda_i^{y_i}}{y_i!})=\\prod_{i=1}^{n}(\\frac{exp\\{-e^{\\eta_i}\\}exp\\{y_i\\eta_i\\}}{y_i!})=\\prod_{i=1}^{n}(\\frac{exp\\{y_i\\eta_i-e^{\\eta_i}\\}}{y_i!})$$    \n",
    "\n",
    "\n",
    "Where, $\\lambda_i=g(\\lambda_i)=log(\\lambda_i)\\rightarrow \\lambda_i=e^{\\eta_i}=e^{(\\beta_0+\\beta_1x_{i,1}+\\cdots+\\beta_px_{i,p})}$"
   ]
  },
  {
   "cell_type": "markdown",
   "id": "531e4925",
   "metadata": {},
   "source": [
    "### 4.Log-likelihood function \n",
    "$$l(\\mathbf{\\underline \\beta})=\\sum_{i=1}^{n}[y_i\\eta_i-e^{\\eta_i}-log(y_i!)]$$\n"
   ]
  },
  {
   "cell_type": "markdown",
   "id": "efba9d0c",
   "metadata": {},
   "source": [
    "### 5. Maximaze\n",
    "The log-likelihood function is not a simple liner maximize. Instaed, we will some iterative technique. So, we won't get an exact solution.\n",
    "We will get an approximation solution usaing a numerical iterative technique."
   ]
  },
  {
   "cell_type": "markdown",
   "id": "400bd418",
   "metadata": {},
   "source": [
    "## III. Interpreting the Poisson Regression Model"
   ]
  },
  {
   "cell_type": "markdown",
   "id": "36002c93",
   "metadata": {},
   "source": [
    "$$g(\\lambda_i)=log(\\lambda_i)=\\eta_i=\\beta_0+\\beta_1x_{i,1}+\\cdots+\\beta_px_{i,p}$$ \n",
    "\n",
    "Where $\\hspace{0.2cm} log(\\lambda_i)=$log-link function"
   ]
  },
  {
   "cell_type": "markdown",
   "id": "41e61125",
   "metadata": {},
   "source": [
    "From the log-link function, \n",
    "\n",
    "$$g(\\lambda_i)=log(\\lambda_i)=\\eta_i=\\beta_0+\\beta_1x_{i,1}+\\cdots+\\beta_px_{i,p}$$ \n",
    "$$\\Downarrow$$\n",
    "$$Y_i=\\lambda_i=exp\\{\\beta_0+\\beta_1x_{i,1}+\\cdots+\\beta_px_{i,p}\\}$$\n"
   ]
  },
  {
   "cell_type": "markdown",
   "id": "0672fc97",
   "metadata": {},
   "source": [
    "### 1. Interpretation\n",
    "\n",
    "* $\\beta_0: e^{\\beta_0}$ can be interpreted as __the mean of the response__when __each paredictor__ is set to zero. \n",
    "\n",
    "* $\\beta_j: e^{\\beta_j}$ can be interpreted as __the multiplicative increase in the mean of response__ for __a one unit increase__ in $x_{i,j}$, holding all other predictos constant. Why?\n",
    "    * $$\\begin{eqnarray} \n",
    "y_i^{+1} &=& \\hat{\\lambda_i}^{+1} \\\\\n",
    "            &=& exp\\{\\hat{\\beta_0}+\\hat{\\beta_1}x_i+\\cdots+\\hat{\\beta_j}(x_{i,j}+1)+\\cdots+\\hat{\\beta_p}x_{i,p}\\}\\\\\n",
    "            &=& exp\\{\\hat{\\beta_j}\\} exp\\{\\hat{\\beta_0}+\\hat{\\beta_1}x_i+\\cdots+\\hat{\\beta_j}x_{i,j}+\\cdots+\\hat{\\beta_p}x_{i,p}\\}\\\\ &=& exp\\{\\hat{\\beta_j}\\}\\hat{\\lambda_i}\n",
    "\\end{eqnarray}$$"
   ]
  },
  {
   "cell_type": "markdown",
   "id": "b4fd3bb7",
   "metadata": {},
   "source": [
    "$$\\begin{eqnarray} \n",
    "y_i^{+1} &=& \\hat{\\lambda_i}^{+1} \\\\\n",
    "            &=& exp\\{\\hat{\\beta_0}+\\hat{\\beta_1}x_i+\\cdots+\\hat{\\beta_j}(x_{i,j}+1)+\\cdots+\\hat{\\beta_p}x_{i,p}\\}\\\\\n",
    "            &=& exp\\{\\hat{\\beta_j}\\} exp\\{\\hat{\\beta_0}+\\hat{\\beta_1}x_i+\\cdots+\\hat{\\beta_j}x_{i,j}+\\cdots+\\hat{\\beta_p}x_{i,p}\\}\\\\ &=& exp\\{\\hat{\\beta_j}\\}\\hat{\\lambda_i}\n",
    "\\end{eqnarray}$$"
   ]
  },
  {
   "cell_type": "code",
   "execution_count": null,
   "id": "94350643",
   "metadata": {},
   "outputs": [],
   "source": []
  }
 ],
 "metadata": {
  "kernelspec": {
   "display_name": "R",
   "language": "R",
   "name": "ir"
  },
  "language_info": {
   "codemirror_mode": "r",
   "file_extension": ".r",
   "mimetype": "text/x-r-source",
   "name": "R",
   "pygments_lexer": "r",
   "version": "4.1.3"
  }
 },
 "nbformat": 4,
 "nbformat_minor": 5
}
