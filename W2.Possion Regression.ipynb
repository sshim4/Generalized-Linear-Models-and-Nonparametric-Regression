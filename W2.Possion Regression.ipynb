{
 "cells": [
  {
   "cell_type": "code",
   "execution_count": 19,
   "id": "6380a021",
   "metadata": {},
   "outputs": [
    {
     "name": "stdout",
     "output_type": "stream",
     "text": [
      "Last updated  Thu Oct 13 18:45:36 2022"
     ]
    }
   ],
   "source": [
    "cat('Last updated ', date())"
   ]
  },
  {
   "cell_type": "markdown",
   "id": "1dab5968",
   "metadata": {},
   "source": [
    "_This is a study note while I am taking __Generalized Linear Models and Nonparametric Regression__ offered by University of Colorado Boulder in Coursera_"
   ]
  },
  {
   "cell_type": "markdown",
   "id": "67b6f5aa",
   "metadata": {},
   "source": [
    "__markdown mathematical formula__\n",
    "https://nocomplexity.com/documents/jupyterlab/notebooks/TypesettingEquations.html\n",
    "\n",
    "__HTML color chart__\n",
    "https://www.htmlcodes.ws/color/html-color-code-generator.cfm?hexColor=FF0000"
   ]
  },
  {
   "cell_type": "markdown",
   "id": "6d2503fd",
   "metadata": {},
   "source": [
    "# Week2 Models for Count Data"
   ]
  },
  {
   "cell_type": "markdown",
   "id": "334b6b81",
   "metadata": {},
   "source": [
    "## I. Poission Regression Basics"
   ]
  },
  {
   "cell_type": "markdown",
   "id": "e6c2cff5",
   "metadata": {},
   "source": [
    "__Recall__ : Generalized linear models consist of three main components. \n",
    "\n",
    "1. Random component which is the reponse variable that from the exponential famlily of distribution. \n",
    "2. A systematic component\n",
    "3. A link function between 1 and 2."
   ]
  },
  {
   "cell_type": "markdown",
   "id": "a5353e4c",
   "metadata": {},
   "source": [
    "### 1. Possion Regression: A new Model for Count Data"
   ]
  },
  {
   "cell_type": "markdown",
   "id": "e4801cf4",
   "metadata": {},
   "source": [
    "Each $y_i$ is a realization from a Poission distribution random varaible $Y_i$. $Y_i \\sim Poission(\\lambda_i)$, $P(Y_i=y_i)=\\frac{e^{-\\lambda_i}\\lambda_i^{y_i}}{y_i!}$, where $y_i= 0,1,\\cdots,n$\n",
    "\n",
    "\n",
    "\n",
    "* $\\mathbf{y}$ : Reponse (Random component)\n",
    "* $\\mathbf{x_1, x_2, \\cdots, x_p}$ : Covariate class (Systematic component)"
   ]
  },
  {
   "cell_type": "markdown",
   "id": "b5810aa0",
   "metadata": {},
   "source": [
    "\\begin{pmatrix}\n",
    "\\mathbf{y} & \\mathbf{x_1} & \\mathbf{x_2}  & \\mathbf{\\cdots} & \\mathbf{x_p}\\\\\n",
    "        y_1 &  x_{1,1} & x_{1,2} & \\cdots & x_{1,p}   \\\\\n",
    "        y_2 &  x_{2,1} & x_{2,2} & \\cdots & x_{2,p}   \\\\\n",
    "        \\vdots & \\vdots & \\vdots & \\ddots & \\vdots \\\\ \n",
    "        y_n & x_{n,1} & x_{n,2} & \\cdots & x_{n,p}\n",
    "\\end{pmatrix}  "
   ]
  },
  {
   "cell_type": "markdown",
   "id": "12e9fc69",
   "metadata": {},
   "source": [
    "#### 1) Random Component: Conditionend on the predictors:\n",
    "$$Y_i\\stackrel{i}{\\sim} Possion(\\lambda_i)$$\n",
    "\n",
    "__Goal:__ Predict or Explain $\\mu_i=\\lambda_i$ using a covariabe class, $x_{i,1},\\cdots,x_{i,p}$\n",
    "\n",
    "* mean: $\\mu_i=E(Y_i)=\\lambda_i$\n",
    "* variance:$\\sigma_i^2=Var(Y_i)=\\lambda_i$\n",
    "* canonical parameter: $\\theta_i=log(\\mu_i)=log(\\lambda_i)$"
   ]
  },
  {
   "cell_type": "markdown",
   "id": "93f334be",
   "metadata": {},
   "source": [
    "#### 2) Systematic component\n",
    "\n",
    "$$\\eta = \\beta_0 + \\beta x_{1} + \\cdots + \\beta_p x_{p}$$"
   ]
  },
  {
   "cell_type": "markdown",
   "id": "1ba8a72c",
   "metadata": {},
   "source": [
    "As with binomial regression, we can't simply use an estimate of $\\eta$ the systematic component to directly predict $\\mu_i$. This linear predictor $\\eta$ will be positive. That is required of a rate. But if you input x values and get $\\beta$ and get negative value, the negative valus in Poission in this context would be a prediction of a rate. That would not be quite right. So we must have a function to link the mean of this poission distribution which is positive to this systematic component. "
   ]
  },
  {
   "cell_type": "markdown",
   "id": "2d623a42",
   "metadata": {},
   "source": [
    "#### 3) The link function, g, describes how the mean response, $\\mu=E(Y)$ is linked $\\eta$\n",
    "\n",
    "* $g(\\lambda_i) = log(\\lambda_i)$\n",
    "* $\\eta_i \\stackrel{i}= g(\\lambda_i)=log(\\lambda_i)=\n",
    "\\theta$, which is the canonical parameter in the exponentianl familly formulation of the Poission.\n",
    "* $\\lambda_i = e^{\\eta_i}$"
   ]
  },
  {
   "cell_type": "markdown",
   "id": "1a131da5",
   "metadata": {},
   "source": [
    "#### 4) Rate response and the offset term\n",
    "\n",
    "* $\\mathbf{y}$ : Reponse\n",
    "* $\\mathbf{x_1, x_2, \\cdots, x_p}$ : Covariate class"
   ]
  },
  {
   "cell_type": "markdown",
   "id": "dea86ed0",
   "metadata": {},
   "source": [
    "\\begin{pmatrix}\n",
    "\\mathbf{y} & \\mathbf{x_1} & \\mathbf{x_2}  & \\mathbf{\\cdots} & \\mathbf{x_p}\\\\\n",
    "        y_1=3 &  x_{1,1} & x_{1,2} & \\cdots & x_{1,p}   \\\\\n",
    "        y_2=2 &  x_{2,1} & x_{2,2} & \\cdots & x_{2,p}   \\\\\n",
    "        y_3=0 &  x_{3,1} & x_{3,2} & \\cdots & x_{3,p}   \\\\\n",
    "        y_4=1 &  x_{4,1} & x_{4,2} & \\cdots & x_{4,p}   \\\\\n",
    "        \\vdots & \\vdots & \\vdots & \\ddots & \\vdots \\\\ \n",
    "        y_n=1 & x_{n,1} & x_{n,2} & \\cdots & x_{n,p}\n",
    "\\end{pmatrix}  "
   ]
  },
  {
   "cell_type": "markdown",
   "id": "723427c0",
   "metadata": {},
   "source": [
    "Suppose, we would like to construct a model that can predict __the number of times__ an individual would be admitted to a hospotal. The covariabe class might be include age, gender, other health conditions. <br>\n",
    "\n",
    "Suppose the individual 3, $y_3$ was observed 1 month, and $y_1$ is obseved 1 year. That means $y_1$ had a longer period of time for hospitalization to occur. So we can modify our Poission model to include this information. "
   ]
  },
  {
   "cell_type": "markdown",
   "id": "a8a4ba7b",
   "metadata": {},
   "source": [
    "In rate models, the mean of our response should include the exposure. In the example, the length of time individuals were observed in the exposure period$(e_i)$. \n",
    "\n",
    "The mean $\\mu_i=\\lambda_i$ is really a count over the exposure:\n",
    "$$\\mu_i = \\lambda_i = \\frac{count_i}{exposure_i}=\\frac{y_i}{e_i}$$\n",
    "\n",
    "Using the log-link function, we wee that:\n",
    "$$g(\\lambda_i)=log(\\lambda_i)=log(\\frac{y_i}{e_i})=log(y_i)-log(e_i)$$\n",
    "\n",
    "In R, \n",
    "glm(Responsd ~ predictor + ...+ offset(log(exposure)), ...)"
   ]
  },
  {
   "cell_type": "markdown",
   "id": "a71cdc73",
   "metadata": {},
   "source": [
    "### 2. Poisson Regression Parameter Estimation"
   ]
  },
  {
   "cell_type": "markdown",
   "id": "8b32a257",
   "metadata": {},
   "source": [
    "Parameter estimation - Maximum likelihood estimation\n",
    "1. Marginal Pmf\n",
    "2. Joing pmf\n",
    "3. Likelihood function \n",
    "4. Log-likelihood function\n",
    "5. Maximize"
   ]
  },
  {
   "cell_type": "markdown",
   "id": "20892c56",
   "metadata": {},
   "source": [
    "#### 1) Marginal pmf\n",
    "$$P(Y_i=y_y)=\\frac{e^{\\lambda_i}\\lambda_i^{y_i}}{y_i!}, v y_i=0,1,2,\\cdots,\\lambda_i$$"
   ]
  },
  {
   "cell_type": "markdown",
   "id": "888ccd01",
   "metadata": {},
   "source": [
    "#### 2). Joint pmf\n",
    "$$f(\\mathbf{\\underline y};\\mathbf{\\underline \\lambda})=\\prod_{i=1}^{n}(\\frac{e^{-\\lambda_i}\\lambda_i^{y_i}}{y_i!})$$"
   ]
  },
  {
   "cell_type": "markdown",
   "id": "d2bc1bbf",
   "metadata": {},
   "source": [
    "#### 3). Likelihood function \n",
    "$$L(\\mathbf{\\underline \\beta})=\\prod_{i=1}^{n}(\\frac{e^{-\\lambda_i}\\lambda_i^{y_i}}{y_i!})=\\prod_{i=1}^{n}(\\frac{exp\\{-e^{\\eta_i}\\}exp\\{y_i\\eta_i\\}}{y_i!})=\\prod_{i=1}^{n}(\\frac{exp\\{y_i\\eta_i-e^{\\eta_i}\\}}{y_i!})$$    \n",
    "\n",
    "\n",
    "Where, $\\lambda_i=g(\\lambda_i)=log(\\lambda_i)\\rightarrow \\lambda_i=e^{\\eta_i}=e^{(\\beta_0+\\beta_1x_{i,1}+\\cdots+\\beta_px_{i,p})}$"
   ]
  },
  {
   "cell_type": "markdown",
   "id": "03b1b502",
   "metadata": {},
   "source": [
    "#### 4).Log-likelihood function \n",
    "$$l(\\mathbf{\\underline \\beta})=\\sum_{i=1}^{n}[y_i\\eta_i-e^{\\eta_i}-log(y_i!)]$$\n"
   ]
  },
  {
   "cell_type": "markdown",
   "id": "4daea2d7",
   "metadata": {},
   "source": [
    "#### 5). Maximaze\n",
    "The log-likelihood function is not a simple liner maximize. Instaed, we will some iterative technique. So, we won't get an exact solution.\n",
    "We will get an approximation solution usaing a numerical iterative technique."
   ]
  },
  {
   "cell_type": "markdown",
   "id": "b6d29763",
   "metadata": {},
   "source": [
    "### 3. Interpreting the Poisson Regression Model"
   ]
  },
  {
   "cell_type": "markdown",
   "id": "fd6cd228",
   "metadata": {},
   "source": [
    "$$g(\\lambda_i)=log(\\lambda_i)=\\eta_i=\\beta_0+\\beta_1x_{i,1}+\\cdots+\\beta_px_{i,p}$$ \n",
    "\n",
    "Where $\\hspace{0.2cm} log(\\lambda_i)=$log-link function"
   ]
  },
  {
   "cell_type": "markdown",
   "id": "06af4399",
   "metadata": {},
   "source": [
    "From the log-link function, \n",
    "\n",
    "$$g(\\lambda_i)=log(\\lambda_i)=\\eta_i=\\beta_0+\\beta_1x_{i,1}+\\cdots+\\beta_px_{i,p}$$ \n",
    "$$\\Downarrow$$\n",
    "$$Y_i=\\lambda_i=exp\\{\\beta_0+\\beta_1x_{i,1}+\\cdots+\\beta_px_{i,p}\\}$$\n"
   ]
  },
  {
   "cell_type": "markdown",
   "id": "539159e3",
   "metadata": {},
   "source": [
    "#### 1). Interpretation\n",
    "\n",
    "* $\\beta_0: e^{\\beta_0}$ can be interpreted as __the mean of the response__when __each paredictor__ is set to zero. \n",
    "\n",
    "* $\\beta_j: e^{\\beta_j}$ can be interpreted as __the multiplicative increase in the mean of response__ for __a one unit increase__ in $x_{i,j}$, holding all other predictos constant. Why?"
   ]
  },
  {
   "cell_type": "markdown",
   "id": "4a1e8659",
   "metadata": {},
   "source": [
    "$$\\begin{eqnarray} \n",
    "y_i^{+1} &=& \\hat{\\lambda_i}^{+1} \\\\\n",
    "            &=& exp\\{\\hat{\\beta_0}+\\hat{\\beta_1}x_i+\\cdots+\\hat{\\beta_j}(x_{i,j}+1)+\\cdots+\\hat{\\beta_p}x_{i,p}\\}\\\\\n",
    "            &=& exp\\{\\hat{\\beta_j}\\} exp\\{\\hat{\\beta_0}+\\hat{\\beta_1}x_i+\\cdots+\\hat{\\beta_j}x_{i,j}+\\cdots+\\hat{\\beta_p}x_{i,p}\\}\\\\ &=& exp\\{\\hat{\\beta_j}\\}\\hat{\\lambda_i}\n",
    "\\end{eqnarray}$$"
   ]
  },
  {
   "cell_type": "markdown",
   "id": "a78a4393",
   "metadata": {},
   "source": [
    "#### 2). Examples"
   ]
  },
  {
   "cell_type": "markdown",
   "id": "30fb88da",
   "metadata": {},
   "source": [
    "Consider a model that attempts to explain the number of awards earned by students at a high school in a year based on their math final exam score and the type of program that they are enrolled in. The categorical predictor variable has three levels indicating the type of program in which the students is enrolled. The categorical predictor levels are “Remedial”,  “Standard” and “Honors”.  Here's some output from a Poisson regression.\n",
    "\n",
    "glm(formula = num_awards ~ prog + math, family = \"poisson\", data = p) <br>\n",
    "\n",
    "\n",
    "\n",
    "Coeffieicnts:\n",
    "\n",
    "\n",
    "\n",
    "- | Estimate | Std.Error | z value |Pr(>$\\vert z\\vert$)\n",
    "--- | --- | --- | --- | ---\n",
    "(Intercept) |  -5.2471 | 0.6585  |  -7.97  | 1.6e-15 ***\n",
    "progStandard| 1.0839 | 0.3583 | 3.03 | 0.0025 ** \n",
    "progHonors |0.3698| 0.4411 | 0.84 | 0.4018\n",
    "math | 0.0702 | 0.0106 | 6.62  | 3.6e-11 ***\n",
    "|<img width=10/>|<img width=10/>|<img width=10/>|<img width=10/>\n",
    "\n",
    "What is the expected number of awards for a student who is in the honors program and who's math final exam score is set to the mean of the sample:  math = 53? Round to the nearest hundredth place."
   ]
  },
  {
   "cell_type": "markdown",
   "id": "454c42be",
   "metadata": {},
   "source": [
    "Solutions: In this example, first we notice the model is poission regression. We start to write the formula. \n",
    "\n",
    "* $Y_i=\\lambda_i=exp\\{\\beta_0+\\beta_1x_{i,1}+\\cdots+\\beta_px_{i,p}\\}$\n",
    "* We want to find the expected number of award $\\hat{\\lambda_i}$\n",
    "* Apply the coefficeint into the model, $\\hat{\\lambda_i}=exp\\{-5.2471 + 1.0839*progStandard + 0.03698*progHonors + 0.0702*math\\}$\n",
    "\n",
    "* We know that \"Standard\" and \"honor\" are categorical variable, so two variables can have either 0 or 1. \n",
    "* In our example, a student is in the honor program and whose math score is 53. We can plut in this information to the formula.\n",
    "* $\\hat{\\lambda_i}=exp\\{-5.2471 + 1.0839*0 + 0.03698*1 + 0.0702*53\\} \\approx 0.3145$"
   ]
  },
  {
   "cell_type": "markdown",
   "id": "9a29ad89",
   "metadata": {},
   "source": [
    "## III. Poisson Regression Inference and Goodness of Fit"
   ]
  },
  {
   "cell_type": "markdown",
   "id": "627ecea2",
   "metadata": {},
   "source": [
    "### 1. Goodness of Fit for Poission Regression I"
   ]
  },
  {
   "cell_type": "markdown",
   "id": "aeb89e9b",
   "metadata": {},
   "source": [
    "Deviance of a generalized linear model \n",
    "\n",
    "$$ D = -2l(\\hat{\\beta})$$\n",
    "\n",
    "* D: Deviance\n",
    "* $l()$ is  the log-likelihood of the GLM evaluated at the MLEs.\n",
    "* $\\hat{\\beta}$ : MLE\n",
    "* $l(\\mathbf{\\underline \\beta})=\\sum_{i=1}^{n}[y_i\\eta_i-e^{\\eta_i}-log(y_i!)]$\n",
    "\n",
    "If our modeling assumptions are correct, small deviance means a better fit. The deviance plays very similar role in generalized linear models that the residual sum of squares played in normal regression."
   ]
  },
  {
   "cell_type": "markdown",
   "id": "0b2a29b7",
   "metadata": {},
   "source": [
    "### 1). The null deviance\n",
    "The null deviance is the deviance for the null model, which is the model with an intercept term and no predictors. \n",
    "\n",
    "Without predictors, $\\lambda_i=\\beta_0 \\rightarrow \\hat{\\lambda_i}=\\bar{y}$\n",
    "\n"
   ]
  },
  {
   "cell_type": "markdown",
   "id": "9ca2a46b",
   "metadata": {},
   "source": [
    "$\\begin{eqnarray} \n",
    "D_{null} &=& -2\\sum[y_i\\hat{\\eta_i}-e^{\\hat{\\eta_i}}-log(y_i!)]\\\\\n",
    "&=&-2\\sum[y_ilog(\\hat{\\lambda_i})-\\hat{\\lambda_i}-log(y_i!)]\\\\\n",
    "&\\stackrel{plug\\hspace{0.1cm} in \\hspace{0.1cm} \\hat{\\lambda_i}=\\bar{y}}=&-2\\sum[y_ilog(\\bar{y})-\\bar{y}-log(y_i!)]\n",
    "\\end{eqnarray}$"
   ]
  },
  {
   "cell_type": "markdown",
   "id": "07ca0b64",
   "metadata": {},
   "source": [
    "#### 2). The saturated deviance\n",
    "The deivance for the satured model is the deviance for the model where each data point has its own unique parameter. If we had a parameter for every data point, then we would just use the data point to estimate the mean. \n",
    "\n",
    "<!-- We would get best fit possible of data, but ofcourse, we would be modeling noise and not the structure or the relationship. -->\n"
   ]
  },
  {
   "cell_type": "markdown",
   "id": "4a14469b",
   "metadata": {},
   "source": [
    "$D_{sat} \\stackrel{plug\\hspace{0.1cm} in \\hspace{0.1cm} \\hat{\\lambda_i}=y_i}=-2\\sum[y_ilog(y_i)-y_i-log(y_i!)]$\n",
    "\n",
    "We use it to construct the residual deviance."
   ]
  },
  {
   "cell_type": "markdown",
   "id": "adc8b5c9",
   "metadata": {},
   "source": [
    "#### 3). The residual deviance"
   ]
  },
  {
   "cell_type": "markdown",
   "id": "a395174e",
   "metadata": {},
   "source": [
    "$\\begin{eqnarray} \n",
    "D_{resid} &=& D_p - D_{sat} \\\\\n",
    "&=& -2\\sum[y_ilog(\\hat{\\lambda_i})- \\hat{\\lambda_i}-log(y_i!)]+2\\sum[y_ilog(y_i)-y_i-log(y_i!)]\\\\\n",
    "&=&\\cdots\\\\\n",
    "&=& 2\\sum[y_ilog(\\frac{y_i}{\\hat{\\lambda_i}})-(y_i-\\hat{\\lambda_i})] \\sim {\\chi}^2_{n-(p+1)}\n",
    "\\end{eqnarray}$\n",
    "\n",
    "*$D_p$ is our model"
   ]
  },
  {
   "cell_type": "markdown",
   "id": "5b2320fb",
   "metadata": {},
   "source": [
    "#### 4). Goodness of Fit\n",
    "\n",
    "$H_0$: The model with p parameters fits well enough<br>\n",
    "$\\hspace{4cm} vs$ <br>\n",
    "$H_1$: the model with p parameters does not fit well enough"
   ]
  },
  {
   "cell_type": "markdown",
   "id": "039faddc",
   "metadata": {},
   "source": [
    "#### 5) Deviance Residual"
   ]
  },
  {
   "cell_type": "markdown",
   "id": "0db72310",
   "metadata": {},
   "source": [
    "$d_i=sign{(y_i-\\hat{\\lambda_i})}\\sqrt{2[y_i(log(\\frac{y_i}{\\hat{\\lambda_i}}))-(y_i-\\hat{\\lambda_i})]}$"
   ]
  },
  {
   "cell_type": "markdown",
   "id": "c38091a5",
   "metadata": {},
   "source": [
    "### 2. Goodness of Fit for Poission Regression II"
   ]
  },
  {
   "cell_type": "markdown",
   "id": "da6d99d0",
   "metadata": {},
   "source": [
    "#### 1) Person's $\\chi^2$"
   ]
  },
  {
   "cell_type": "code",
   "execution_count": null,
   "id": "20959b08",
   "metadata": {},
   "outputs": [],
   "source": []
  }
 ],
 "metadata": {
  "kernelspec": {
   "display_name": "R",
   "language": "R",
   "name": "ir"
  },
  "language_info": {
   "codemirror_mode": "r",
   "file_extension": ".r",
   "mimetype": "text/x-r-source",
   "name": "R",
   "pygments_lexer": "r",
   "version": "4.1.3"
  }
 },
 "nbformat": 4,
 "nbformat_minor": 5
}
