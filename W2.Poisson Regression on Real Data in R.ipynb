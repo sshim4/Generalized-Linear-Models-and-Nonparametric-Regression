{
 "cells": [
  {
   "cell_type": "code",
   "execution_count": 4,
   "id": "e97cf46a",
   "metadata": {},
   "outputs": [
    {
     "name": "stdout",
     "output_type": "stream",
     "text": [
      "Updated  Tue Oct 11 17:05:23 2022"
     ]
    }
   ],
   "source": [
    "cat('Updated ', date())"
   ]
  },
  {
   "cell_type": "markdown",
   "id": "5d815bb4",
   "metadata": {},
   "source": [
    "_This is a study note while I am taking __Generalized Linear Models and Nonparametric Regression__ offered by University of Colorado Boulder in Coursera_"
   ]
  },
  {
   "cell_type": "markdown",
   "id": "6658509d",
   "metadata": {},
   "source": [
    "# Poisson Regression on Real Data in R"
   ]
  },
  {
   "cell_type": "markdown",
   "id": "1c54262e",
   "metadata": {},
   "source": [
    "The goal of the __bike__ data is to keep count of cyclists entering and leaving Queens, Manhattan and Brooklyn vis the East River information Management system collected this count data for several during 2017.\n",
    "\n",
    "Our goal will be to try to come up with a __Poission regression model__ that uses the weather data to explain or predict the total number of cyclists on the Manhattan Bridge on any given day dring the period.\n",
    "\n",
    "* date: Date the count was conducted\n",
    "* day: Day of the week the count was conducted\n",
    "* temp_h: The high temperature for that day in fahrenheit\n",
    "* temp_l: The low of temperture for that night in harenheit\n",
    "* precip: The amoung of precipitaion for that day in inches\n",
    "* bb: Total number of cyclist counts at Brooklyn Bridge in a 24 hour period\n",
    "* mb: Total number of cyclist counts at Manhatttan Bridge in a 24 hour period\n",
    "* wb: Total number of cyclist counts at Williamburg Bridge in a 24 hour period\n",
    "* qb: Total number of cyclist counts at Queensboro Bridge in a 24 hour period\n",
    "* total: The number of cyclist counts for all the East River Bridges combined in a 24 hour period"
   ]
  },
  {
   "cell_type": "markdown",
   "id": "d3236622",
   "metadata": {},
   "source": [
    "## 1. Data preparation"
   ]
  },
  {
   "cell_type": "code",
   "execution_count": 5,
   "id": "da2e9a48",
   "metadata": {},
   "outputs": [],
   "source": [
    "url <- 'https://raw.githubusercontent.com/bzaharatos/-Statistical-Modeling-for-Data-Science-Applications/master/Generalized%20Linear%20Models%20and%20Nonparametric%20Regression/Datasets/2017%20Monthly%20Bike%20Count%20Totals%20for%20East%20River%20Bridges/bike.csv'\n",
    "bike <- read.csv(url, sep = \",\", header=TRUE)"
   ]
  },
  {
   "cell_type": "code",
   "execution_count": 6,
   "id": "162de4d6",
   "metadata": {},
   "outputs": [
    {
     "data": {
      "text/html": [
       "<table class=\"dataframe\">\n",
       "<caption>A data.frame: 10 × 10</caption>\n",
       "<thead>\n",
       "\t<tr><th></th><th scope=col>ï..date</th><th scope=col>day</th><th scope=col>temp_h</th><th scope=col>temp_l</th><th scope=col>precip</th><th scope=col>bb</th><th scope=col>mb</th><th scope=col>wb</th><th scope=col>qb</th><th scope=col>total</th></tr>\n",
       "\t<tr><th></th><th scope=col>&lt;chr&gt;</th><th scope=col>&lt;chr&gt;</th><th scope=col>&lt;dbl&gt;</th><th scope=col>&lt;dbl&gt;</th><th scope=col>&lt;chr&gt;</th><th scope=col>&lt;dbl&gt;</th><th scope=col>&lt;dbl&gt;</th><th scope=col>&lt;dbl&gt;</th><th scope=col>&lt;dbl&gt;</th><th scope=col>&lt;dbl&gt;</th></tr>\n",
       "</thead>\n",
       "<tbody>\n",
       "\t<tr><th scope=row>1</th><td>4/1 </td><td>Saturday </td><td>46.0</td><td>37.0</td><td>0.00</td><td> 606</td><td>1446</td><td>1915</td><td>1430</td><td> 5397</td></tr>\n",
       "\t<tr><th scope=row>2</th><td>4/2 </td><td>Sunday   </td><td>62.1</td><td>41.0</td><td>0.00</td><td>2021</td><td>3943</td><td>4207</td><td>2862</td><td>13033</td></tr>\n",
       "\t<tr><th scope=row>3</th><td>4/3 </td><td>Monday   </td><td>63.0</td><td>50.0</td><td>0.03</td><td>2470</td><td>4988</td><td>5178</td><td>3689</td><td>16325</td></tr>\n",
       "\t<tr><th scope=row>4</th><td>4/4 </td><td>Tuesday  </td><td>51.1</td><td>46.0</td><td>1.18</td><td> 723</td><td>1913</td><td>2279</td><td>1666</td><td> 6581</td></tr>\n",
       "\t<tr><th scope=row>5</th><td>4/5 </td><td>Wednesday</td><td>63.0</td><td>46.0</td><td>0.00</td><td>2807</td><td>5276</td><td>5711</td><td>4197</td><td>17991</td></tr>\n",
       "\t<tr><th scope=row>6</th><td>4/6 </td><td>Thursday </td><td>48.9</td><td>41.0</td><td>0.73</td><td> 461</td><td>1324</td><td>1739</td><td>1372</td><td> 4896</td></tr>\n",
       "\t<tr><th scope=row>7</th><td>4/7 </td><td>Friday   </td><td>48.0</td><td>43.0</td><td>T   </td><td>1222</td><td>2955</td><td>3399</td><td>2765</td><td>10341</td></tr>\n",
       "\t<tr><th scope=row>8</th><td>4/8 </td><td>Saturday </td><td>55.9</td><td>39.9</td><td>0.00</td><td>1674</td><td>3163</td><td>4082</td><td>2691</td><td>11610</td></tr>\n",
       "\t<tr><th scope=row>9</th><td>4/9 </td><td>Sunday   </td><td>66.0</td><td>45.0</td><td>0.00</td><td>2375</td><td>4377</td><td>4886</td><td>3261</td><td>14899</td></tr>\n",
       "\t<tr><th scope=row>10</th><td>4/10</td><td>Monday   </td><td>73.9</td><td>55.0</td><td>0.00</td><td>3324</td><td>6359</td><td>6881</td><td>4731</td><td>21295</td></tr>\n",
       "</tbody>\n",
       "</table>\n"
      ],
      "text/latex": [
       "A data.frame: 10 × 10\n",
       "\\begin{tabular}{r|llllllllll}\n",
       "  & ï..date & day & temp\\_h & temp\\_l & precip & bb & mb & wb & qb & total\\\\\n",
       "  & <chr> & <chr> & <dbl> & <dbl> & <chr> & <dbl> & <dbl> & <dbl> & <dbl> & <dbl>\\\\\n",
       "\\hline\n",
       "\t1 & 4/1  & Saturday  & 46.0 & 37.0 & 0.00 &  606 & 1446 & 1915 & 1430 &  5397\\\\\n",
       "\t2 & 4/2  & Sunday    & 62.1 & 41.0 & 0.00 & 2021 & 3943 & 4207 & 2862 & 13033\\\\\n",
       "\t3 & 4/3  & Monday    & 63.0 & 50.0 & 0.03 & 2470 & 4988 & 5178 & 3689 & 16325\\\\\n",
       "\t4 & 4/4  & Tuesday   & 51.1 & 46.0 & 1.18 &  723 & 1913 & 2279 & 1666 &  6581\\\\\n",
       "\t5 & 4/5  & Wednesday & 63.0 & 46.0 & 0.00 & 2807 & 5276 & 5711 & 4197 & 17991\\\\\n",
       "\t6 & 4/6  & Thursday  & 48.9 & 41.0 & 0.73 &  461 & 1324 & 1739 & 1372 &  4896\\\\\n",
       "\t7 & 4/7  & Friday    & 48.0 & 43.0 & T    & 1222 & 2955 & 3399 & 2765 & 10341\\\\\n",
       "\t8 & 4/8  & Saturday  & 55.9 & 39.9 & 0.00 & 1674 & 3163 & 4082 & 2691 & 11610\\\\\n",
       "\t9 & 4/9  & Sunday    & 66.0 & 45.0 & 0.00 & 2375 & 4377 & 4886 & 3261 & 14899\\\\\n",
       "\t10 & 4/10 & Monday    & 73.9 & 55.0 & 0.00 & 3324 & 6359 & 6881 & 4731 & 21295\\\\\n",
       "\\end{tabular}\n"
      ],
      "text/markdown": [
       "\n",
       "A data.frame: 10 × 10\n",
       "\n",
       "| <!--/--> | ï..date &lt;chr&gt; | day &lt;chr&gt; | temp_h &lt;dbl&gt; | temp_l &lt;dbl&gt; | precip &lt;chr&gt; | bb &lt;dbl&gt; | mb &lt;dbl&gt; | wb &lt;dbl&gt; | qb &lt;dbl&gt; | total &lt;dbl&gt; |\n",
       "|---|---|---|---|---|---|---|---|---|---|---|\n",
       "| 1 | 4/1  | Saturday  | 46.0 | 37.0 | 0.00 |  606 | 1446 | 1915 | 1430 |  5397 |\n",
       "| 2 | 4/2  | Sunday    | 62.1 | 41.0 | 0.00 | 2021 | 3943 | 4207 | 2862 | 13033 |\n",
       "| 3 | 4/3  | Monday    | 63.0 | 50.0 | 0.03 | 2470 | 4988 | 5178 | 3689 | 16325 |\n",
       "| 4 | 4/4  | Tuesday   | 51.1 | 46.0 | 1.18 |  723 | 1913 | 2279 | 1666 |  6581 |\n",
       "| 5 | 4/5  | Wednesday | 63.0 | 46.0 | 0.00 | 2807 | 5276 | 5711 | 4197 | 17991 |\n",
       "| 6 | 4/6  | Thursday  | 48.9 | 41.0 | 0.73 |  461 | 1324 | 1739 | 1372 |  4896 |\n",
       "| 7 | 4/7  | Friday    | 48.0 | 43.0 | T    | 1222 | 2955 | 3399 | 2765 | 10341 |\n",
       "| 8 | 4/8  | Saturday  | 55.9 | 39.9 | 0.00 | 1674 | 3163 | 4082 | 2691 | 11610 |\n",
       "| 9 | 4/9  | Sunday    | 66.0 | 45.0 | 0.00 | 2375 | 4377 | 4886 | 3261 | 14899 |\n",
       "| 10 | 4/10 | Monday    | 73.9 | 55.0 | 0.00 | 3324 | 6359 | 6881 | 4731 | 21295 |\n",
       "\n"
      ],
      "text/plain": [
       "   ï..date day       temp_h temp_l precip bb   mb   wb   qb   total\n",
       "1  4/1     Saturday  46.0   37.0   0.00    606 1446 1915 1430  5397\n",
       "2  4/2     Sunday    62.1   41.0   0.00   2021 3943 4207 2862 13033\n",
       "3  4/3     Monday    63.0   50.0   0.03   2470 4988 5178 3689 16325\n",
       "4  4/4     Tuesday   51.1   46.0   1.18    723 1913 2279 1666  6581\n",
       "5  4/5     Wednesday 63.0   46.0   0.00   2807 5276 5711 4197 17991\n",
       "6  4/6     Thursday  48.9   41.0   0.73    461 1324 1739 1372  4896\n",
       "7  4/7     Friday    48.0   43.0   T      1222 2955 3399 2765 10341\n",
       "8  4/8     Saturday  55.9   39.9   0.00   1674 3163 4082 2691 11610\n",
       "9  4/9     Sunday    66.0   45.0   0.00   2375 4377 4886 3261 14899\n",
       "10 4/10    Monday    73.9   55.0   0.00   3324 6359 6881 4731 21295"
      ]
     },
     "metadata": {},
     "output_type": "display_data"
    }
   ],
   "source": [
    "head(bike, 10)"
   ]
  },
  {
   "cell_type": "markdown",
   "id": "ec46dfd7",
   "metadata": {},
   "source": [
    "Note: _T_ =  trace precipitation."
   ]
  },
  {
   "cell_type": "code",
   "execution_count": 7,
   "id": "9bd8d1de",
   "metadata": {},
   "outputs": [
    {
     "data": {
      "text/html": [
       "0"
      ],
      "text/latex": [
       "0"
      ],
      "text/markdown": [
       "0"
      ],
      "text/plain": [
       "[1] 0"
      ]
     },
     "metadata": {},
     "output_type": "display_data"
    }
   ],
   "source": [
    "# check for NA, somtime missing values are recored as 99999...\n",
    "sum(is.na(bike$mb))"
   ]
  },
  {
   "cell_type": "code",
   "execution_count": 8,
   "id": "11c76379",
   "metadata": {},
   "outputs": [],
   "source": [
    "# rename the first variale as date\n",
    "names(bike)[1] <- \"date\""
   ]
  },
  {
   "cell_type": "code",
   "execution_count": 9,
   "id": "ad10b9a8",
   "metadata": {},
   "outputs": [
    {
     "data": {
      "text/html": [
       "<style>\n",
       ".list-inline {list-style: none; margin:0; padding: 0}\n",
       ".list-inline>li {display: inline-block}\n",
       ".list-inline>li:not(:last-child)::after {content: \"\\00b7\"; padding: 0 .5ex}\n",
       "</style>\n",
       "<ol class=list-inline><li>'date'</li><li>'day'</li><li>'temp_h'</li><li>'temp_l'</li><li>'precip'</li><li>'bb'</li><li>'mb'</li><li>'wb'</li><li>'qb'</li><li>'total'</li></ol>\n"
      ],
      "text/latex": [
       "\\begin{enumerate*}\n",
       "\\item 'date'\n",
       "\\item 'day'\n",
       "\\item 'temp\\_h'\n",
       "\\item 'temp\\_l'\n",
       "\\item 'precip'\n",
       "\\item 'bb'\n",
       "\\item 'mb'\n",
       "\\item 'wb'\n",
       "\\item 'qb'\n",
       "\\item 'total'\n",
       "\\end{enumerate*}\n"
      ],
      "text/markdown": [
       "1. 'date'\n",
       "2. 'day'\n",
       "3. 'temp_h'\n",
       "4. 'temp_l'\n",
       "5. 'precip'\n",
       "6. 'bb'\n",
       "7. 'mb'\n",
       "8. 'wb'\n",
       "9. 'qb'\n",
       "10. 'total'\n",
       "\n",
       "\n"
      ],
      "text/plain": [
       " [1] \"date\"   \"day\"    \"temp_h\" \"temp_l\" \"precip\" \"bb\"     \"mb\"     \"wb\"    \n",
       " [9] \"qb\"     \"total\" "
      ]
     },
     "metadata": {},
     "output_type": "display_data"
    }
   ],
   "source": [
    "names(bike)"
   ]
  },
  {
   "cell_type": "code",
   "execution_count": 10,
   "id": "64872946",
   "metadata": {},
   "outputs": [],
   "source": [
    "# install.packages('tidyverse')"
   ]
  },
  {
   "cell_type": "code",
   "execution_count": 11,
   "id": "3d444c3d",
   "metadata": {
    "scrolled": true
   },
   "outputs": [
    {
     "name": "stderr",
     "output_type": "stream",
     "text": [
      "-- \u001b[1mAttaching packages\u001b[22m ------------------------------------------------------------------------------- tidyverse 1.3.2 --\n",
      "\u001b[32mv\u001b[39m \u001b[34mggplot2\u001b[39m 3.3.6      \u001b[32mv\u001b[39m \u001b[34mpurrr  \u001b[39m 0.3.5 \n",
      "\u001b[32mv\u001b[39m \u001b[34mtibble \u001b[39m 3.1.8      \u001b[32mv\u001b[39m \u001b[34mdplyr  \u001b[39m 1.0.10\n",
      "\u001b[32mv\u001b[39m \u001b[34mtidyr  \u001b[39m 1.2.1      \u001b[32mv\u001b[39m \u001b[34mstringr\u001b[39m 1.4.1 \n",
      "\u001b[32mv\u001b[39m \u001b[34mreadr  \u001b[39m 2.1.3      \u001b[32mv\u001b[39m \u001b[34mforcats\u001b[39m 0.5.2 \n",
      "-- \u001b[1mConflicts\u001b[22m ---------------------------------------------------------------------------------- tidyverse_conflicts() --\n",
      "\u001b[31mx\u001b[39m \u001b[34mdplyr\u001b[39m::\u001b[32mfilter()\u001b[39m masks \u001b[34mstats\u001b[39m::filter()\n",
      "\u001b[31mx\u001b[39m \u001b[34mdplyr\u001b[39m::\u001b[32mlag()\u001b[39m    masks \u001b[34mstats\u001b[39m::lag()\n"
     ]
    }
   ],
   "source": [
    "library(tidyverse)"
   ]
  },
  {
   "cell_type": "code",
   "execution_count": 12,
   "id": "0bb76474",
   "metadata": {},
   "outputs": [
    {
     "data": {
      "text/html": [
       "<style>\n",
       ".list-inline {list-style: none; margin:0; padding: 0}\n",
       ".list-inline>li {display: inline-block}\n",
       ".list-inline>li:not(:last-child)::after {content: \"\\00b7\"; padding: 0 .5ex}\n",
       "</style>\n",
       "<ol class=list-inline><li>'0.73'</li><li>'T'</li></ol>\n"
      ],
      "text/latex": [
       "\\begin{enumerate*}\n",
       "\\item '0.73'\n",
       "\\item 'T'\n",
       "\\end{enumerate*}\n"
      ],
      "text/markdown": [
       "1. '0.73'\n",
       "2. 'T'\n",
       "\n",
       "\n"
      ],
      "text/plain": [
       "[1] \"0.73\" \"T\"   "
      ]
     },
     "metadata": {},
     "output_type": "display_data"
    },
    {
     "data": {
      "text/html": [
       "'character'"
      ],
      "text/latex": [
       "'character'"
      ],
      "text/markdown": [
       "'character'"
      ],
      "text/plain": [
       "[1] \"character\""
      ]
     },
     "metadata": {},
     "output_type": "display_data"
    }
   ],
   "source": [
    "#replace T for 0\n",
    "bike$precip[6:7]\n",
    "typeof(bike$precip)\n",
    "\n",
    "bike = bike %>%\n",
    "            mutate(precip = fct_recode(precip, \"0\" = \"T\"))"
   ]
  },
  {
   "cell_type": "code",
   "execution_count": 136,
   "id": "9154e752",
   "metadata": {},
   "outputs": [
    {
     "data": {
      "text/html": [
       "<style>\n",
       ".list-inline {list-style: none; margin:0; padding: 0}\n",
       ".list-inline>li {display: inline-block}\n",
       ".list-inline>li:not(:last-child)::after {content: \"\\00b7\"; padding: 0 .5ex}\n",
       "</style>\n",
       "<ol class=list-inline><li>0.73</li><li>0</li></ol>\n",
       "\n",
       "<details>\n",
       "\t<summary style=display:list-item;cursor:pointer>\n",
       "\t\t<strong>Levels</strong>:\n",
       "\t</summary>\n",
       "\t<style>\n",
       "\t.list-inline {list-style: none; margin:0; padding: 0}\n",
       "\t.list-inline>li {display: inline-block}\n",
       "\t.list-inline>li:not(:last-child)::after {content: \"\\00b7\"; padding: 0 .5ex}\n",
       "\t</style>\n",
       "\t<ol class=list-inline><li>'0.00'</li><li>'0.01'</li><li>'0.02'</li><li>'0.03'</li><li>'0.04'</li><li>'0.06'</li><li>'0.07'</li><li>'0.08'</li><li>'0.09'</li><li>'0.10'</li><li>'0.11'</li><li>'0.13'</li><li>'0.15'</li><li>'0.17'</li><li>'0.18'</li><li>'0.20'</li><li>'0.22'</li><li>'0.23'</li><li>'0.25'</li><li>'0.26'</li><li>'0.29'</li><li>'0.30'</li><li>'0.34'</li><li>'0.35'</li><li>'0.42'</li><li>'0.45'</li><li>'0.53'</li><li>'0.57'</li><li>'0.58'</li><li>'0.59'</li><li>'0.73'</li><li>'0.74'</li><li>'0.76'</li><li>'0.88'</li><li>'0.91'</li><li>'1.18'</li><li>'1.29'</li><li>'1.31'</li><li>'1.35'</li><li>'1.39'</li><li>'1.78'</li><li>'3.02'</li><li>'3.03'</li><li>'0'</li></ol>\n",
       "</details>"
      ],
      "text/latex": [
       "\\begin{enumerate*}\n",
       "\\item 0.73\n",
       "\\item 0\n",
       "\\end{enumerate*}\n",
       "\n",
       "\\emph{Levels}: \\begin{enumerate*}\n",
       "\\item '0.00'\n",
       "\\item '0.01'\n",
       "\\item '0.02'\n",
       "\\item '0.03'\n",
       "\\item '0.04'\n",
       "\\item '0.06'\n",
       "\\item '0.07'\n",
       "\\item '0.08'\n",
       "\\item '0.09'\n",
       "\\item '0.10'\n",
       "\\item '0.11'\n",
       "\\item '0.13'\n",
       "\\item '0.15'\n",
       "\\item '0.17'\n",
       "\\item '0.18'\n",
       "\\item '0.20'\n",
       "\\item '0.22'\n",
       "\\item '0.23'\n",
       "\\item '0.25'\n",
       "\\item '0.26'\n",
       "\\item '0.29'\n",
       "\\item '0.30'\n",
       "\\item '0.34'\n",
       "\\item '0.35'\n",
       "\\item '0.42'\n",
       "\\item '0.45'\n",
       "\\item '0.53'\n",
       "\\item '0.57'\n",
       "\\item '0.58'\n",
       "\\item '0.59'\n",
       "\\item '0.73'\n",
       "\\item '0.74'\n",
       "\\item '0.76'\n",
       "\\item '0.88'\n",
       "\\item '0.91'\n",
       "\\item '1.18'\n",
       "\\item '1.29'\n",
       "\\item '1.31'\n",
       "\\item '1.35'\n",
       "\\item '1.39'\n",
       "\\item '1.78'\n",
       "\\item '3.02'\n",
       "\\item '3.03'\n",
       "\\item '0'\n",
       "\\end{enumerate*}\n"
      ],
      "text/markdown": [
       "1. 0.73\n",
       "2. 0\n",
       "\n",
       "\n",
       "\n",
       "**Levels**: 1. '0.00'\n",
       "2. '0.01'\n",
       "3. '0.02'\n",
       "4. '0.03'\n",
       "5. '0.04'\n",
       "6. '0.06'\n",
       "7. '0.07'\n",
       "8. '0.08'\n",
       "9. '0.09'\n",
       "10. '0.10'\n",
       "11. '0.11'\n",
       "12. '0.13'\n",
       "13. '0.15'\n",
       "14. '0.17'\n",
       "15. '0.18'\n",
       "16. '0.20'\n",
       "17. '0.22'\n",
       "18. '0.23'\n",
       "19. '0.25'\n",
       "20. '0.26'\n",
       "21. '0.29'\n",
       "22. '0.30'\n",
       "23. '0.34'\n",
       "24. '0.35'\n",
       "25. '0.42'\n",
       "26. '0.45'\n",
       "27. '0.53'\n",
       "28. '0.57'\n",
       "29. '0.58'\n",
       "30. '0.59'\n",
       "31. '0.73'\n",
       "32. '0.74'\n",
       "33. '0.76'\n",
       "34. '0.88'\n",
       "35. '0.91'\n",
       "36. '1.18'\n",
       "37. '1.29'\n",
       "38. '1.31'\n",
       "39. '1.35'\n",
       "40. '1.39'\n",
       "41. '1.78'\n",
       "42. '3.02'\n",
       "43. '3.03'\n",
       "44. '0'\n",
       "\n",
       "\n"
      ],
      "text/plain": [
       "[1] 0.73 0   \n",
       "44 Levels: 0.00 0.01 0.02 0.03 0.04 0.06 0.07 0.08 0.09 0.10 0.11 0.13 ... 0"
      ]
     },
     "metadata": {},
     "output_type": "display_data"
    },
    {
     "data": {
      "text/html": [
       "'integer'"
      ],
      "text/latex": [
       "'integer'"
      ],
      "text/markdown": [
       "'integer'"
      ],
      "text/plain": [
       "[1] \"integer\""
      ]
     },
     "metadata": {},
     "output_type": "display_data"
    },
    {
     "data": {
      "text/html": [
       "<table class=\"dataframe\">\n",
       "<caption>A data.frame: 10 × 10</caption>\n",
       "<thead>\n",
       "\t<tr><th></th><th scope=col>date</th><th scope=col>day</th><th scope=col>temp_h</th><th scope=col>temp_l</th><th scope=col>precip</th><th scope=col>bb</th><th scope=col>mb</th><th scope=col>wb</th><th scope=col>qb</th><th scope=col>total</th></tr>\n",
       "\t<tr><th></th><th scope=col>&lt;chr&gt;</th><th scope=col>&lt;chr&gt;</th><th scope=col>&lt;dbl&gt;</th><th scope=col>&lt;dbl&gt;</th><th scope=col>&lt;fct&gt;</th><th scope=col>&lt;dbl&gt;</th><th scope=col>&lt;dbl&gt;</th><th scope=col>&lt;dbl&gt;</th><th scope=col>&lt;dbl&gt;</th><th scope=col>&lt;dbl&gt;</th></tr>\n",
       "</thead>\n",
       "<tbody>\n",
       "\t<tr><th scope=row>1</th><td>4/1 </td><td>Saturday </td><td>46.0</td><td>37.0</td><td>0.00</td><td> 606</td><td>1446</td><td>1915</td><td>1430</td><td> 5397</td></tr>\n",
       "\t<tr><th scope=row>2</th><td>4/2 </td><td>Sunday   </td><td>62.1</td><td>41.0</td><td>0.00</td><td>2021</td><td>3943</td><td>4207</td><td>2862</td><td>13033</td></tr>\n",
       "\t<tr><th scope=row>3</th><td>4/3 </td><td>Monday   </td><td>63.0</td><td>50.0</td><td>0.03</td><td>2470</td><td>4988</td><td>5178</td><td>3689</td><td>16325</td></tr>\n",
       "\t<tr><th scope=row>4</th><td>4/4 </td><td>Tuesday  </td><td>51.1</td><td>46.0</td><td>1.18</td><td> 723</td><td>1913</td><td>2279</td><td>1666</td><td> 6581</td></tr>\n",
       "\t<tr><th scope=row>5</th><td>4/5 </td><td>Wednesday</td><td>63.0</td><td>46.0</td><td>0.00</td><td>2807</td><td>5276</td><td>5711</td><td>4197</td><td>17991</td></tr>\n",
       "\t<tr><th scope=row>6</th><td>4/6 </td><td>Thursday </td><td>48.9</td><td>41.0</td><td>0.73</td><td> 461</td><td>1324</td><td>1739</td><td>1372</td><td> 4896</td></tr>\n",
       "\t<tr><th scope=row>7</th><td>4/7 </td><td>Friday   </td><td>48.0</td><td>43.0</td><td>0   </td><td>1222</td><td>2955</td><td>3399</td><td>2765</td><td>10341</td></tr>\n",
       "\t<tr><th scope=row>8</th><td>4/8 </td><td>Saturday </td><td>55.9</td><td>39.9</td><td>0.00</td><td>1674</td><td>3163</td><td>4082</td><td>2691</td><td>11610</td></tr>\n",
       "\t<tr><th scope=row>9</th><td>4/9 </td><td>Sunday   </td><td>66.0</td><td>45.0</td><td>0.00</td><td>2375</td><td>4377</td><td>4886</td><td>3261</td><td>14899</td></tr>\n",
       "\t<tr><th scope=row>10</th><td>4/10</td><td>Monday   </td><td>73.9</td><td>55.0</td><td>0.00</td><td>3324</td><td>6359</td><td>6881</td><td>4731</td><td>21295</td></tr>\n",
       "</tbody>\n",
       "</table>\n"
      ],
      "text/latex": [
       "A data.frame: 10 × 10\n",
       "\\begin{tabular}{r|llllllllll}\n",
       "  & date & day & temp\\_h & temp\\_l & precip & bb & mb & wb & qb & total\\\\\n",
       "  & <chr> & <chr> & <dbl> & <dbl> & <fct> & <dbl> & <dbl> & <dbl> & <dbl> & <dbl>\\\\\n",
       "\\hline\n",
       "\t1 & 4/1  & Saturday  & 46.0 & 37.0 & 0.00 &  606 & 1446 & 1915 & 1430 &  5397\\\\\n",
       "\t2 & 4/2  & Sunday    & 62.1 & 41.0 & 0.00 & 2021 & 3943 & 4207 & 2862 & 13033\\\\\n",
       "\t3 & 4/3  & Monday    & 63.0 & 50.0 & 0.03 & 2470 & 4988 & 5178 & 3689 & 16325\\\\\n",
       "\t4 & 4/4  & Tuesday   & 51.1 & 46.0 & 1.18 &  723 & 1913 & 2279 & 1666 &  6581\\\\\n",
       "\t5 & 4/5  & Wednesday & 63.0 & 46.0 & 0.00 & 2807 & 5276 & 5711 & 4197 & 17991\\\\\n",
       "\t6 & 4/6  & Thursday  & 48.9 & 41.0 & 0.73 &  461 & 1324 & 1739 & 1372 &  4896\\\\\n",
       "\t7 & 4/7  & Friday    & 48.0 & 43.0 & 0    & 1222 & 2955 & 3399 & 2765 & 10341\\\\\n",
       "\t8 & 4/8  & Saturday  & 55.9 & 39.9 & 0.00 & 1674 & 3163 & 4082 & 2691 & 11610\\\\\n",
       "\t9 & 4/9  & Sunday    & 66.0 & 45.0 & 0.00 & 2375 & 4377 & 4886 & 3261 & 14899\\\\\n",
       "\t10 & 4/10 & Monday    & 73.9 & 55.0 & 0.00 & 3324 & 6359 & 6881 & 4731 & 21295\\\\\n",
       "\\end{tabular}\n"
      ],
      "text/markdown": [
       "\n",
       "A data.frame: 10 × 10\n",
       "\n",
       "| <!--/--> | date &lt;chr&gt; | day &lt;chr&gt; | temp_h &lt;dbl&gt; | temp_l &lt;dbl&gt; | precip &lt;fct&gt; | bb &lt;dbl&gt; | mb &lt;dbl&gt; | wb &lt;dbl&gt; | qb &lt;dbl&gt; | total &lt;dbl&gt; |\n",
       "|---|---|---|---|---|---|---|---|---|---|---|\n",
       "| 1 | 4/1  | Saturday  | 46.0 | 37.0 | 0.00 |  606 | 1446 | 1915 | 1430 |  5397 |\n",
       "| 2 | 4/2  | Sunday    | 62.1 | 41.0 | 0.00 | 2021 | 3943 | 4207 | 2862 | 13033 |\n",
       "| 3 | 4/3  | Monday    | 63.0 | 50.0 | 0.03 | 2470 | 4988 | 5178 | 3689 | 16325 |\n",
       "| 4 | 4/4  | Tuesday   | 51.1 | 46.0 | 1.18 |  723 | 1913 | 2279 | 1666 |  6581 |\n",
       "| 5 | 4/5  | Wednesday | 63.0 | 46.0 | 0.00 | 2807 | 5276 | 5711 | 4197 | 17991 |\n",
       "| 6 | 4/6  | Thursday  | 48.9 | 41.0 | 0.73 |  461 | 1324 | 1739 | 1372 |  4896 |\n",
       "| 7 | 4/7  | Friday    | 48.0 | 43.0 | 0    | 1222 | 2955 | 3399 | 2765 | 10341 |\n",
       "| 8 | 4/8  | Saturday  | 55.9 | 39.9 | 0.00 | 1674 | 3163 | 4082 | 2691 | 11610 |\n",
       "| 9 | 4/9  | Sunday    | 66.0 | 45.0 | 0.00 | 2375 | 4377 | 4886 | 3261 | 14899 |\n",
       "| 10 | 4/10 | Monday    | 73.9 | 55.0 | 0.00 | 3324 | 6359 | 6881 | 4731 | 21295 |\n",
       "\n"
      ],
      "text/plain": [
       "   date day       temp_h temp_l precip bb   mb   wb   qb   total\n",
       "1  4/1  Saturday  46.0   37.0   0.00    606 1446 1915 1430  5397\n",
       "2  4/2  Sunday    62.1   41.0   0.00   2021 3943 4207 2862 13033\n",
       "3  4/3  Monday    63.0   50.0   0.03   2470 4988 5178 3689 16325\n",
       "4  4/4  Tuesday   51.1   46.0   1.18    723 1913 2279 1666  6581\n",
       "5  4/5  Wednesday 63.0   46.0   0.00   2807 5276 5711 4197 17991\n",
       "6  4/6  Thursday  48.9   41.0   0.73    461 1324 1739 1372  4896\n",
       "7  4/7  Friday    48.0   43.0   0      1222 2955 3399 2765 10341\n",
       "8  4/8  Saturday  55.9   39.9   0.00   1674 3163 4082 2691 11610\n",
       "9  4/9  Sunday    66.0   45.0   0.00   2375 4377 4886 3261 14899\n",
       "10 4/10 Monday    73.9   55.0   0.00   3324 6359 6881 4731 21295"
      ]
     },
     "metadata": {},
     "output_type": "display_data"
    }
   ],
   "source": [
    "# check that trace precip is now zero\n",
    "bike$precip[6:7]\n",
    "typeof(bike$precip)\n",
    "\n",
    "head(bike, 10)"
   ]
  },
  {
   "cell_type": "markdown",
   "id": "b0622a71",
   "metadata": {},
   "source": [
    "Now precip variable changed to integer without \"T\""
   ]
  },
  {
   "cell_type": "code",
   "execution_count": 13,
   "id": "2c2a1edc",
   "metadata": {},
   "outputs": [
    {
     "data": {
      "text/html": [
       "<style>\n",
       ".dl-inline {width: auto; margin:0; padding: 0}\n",
       ".dl-inline>dt, .dl-inline>dd {float: none; width: auto; display: inline-block}\n",
       ".dl-inline>dt::after {content: \":\\0020\"; padding-right: .5ex}\n",
       ".dl-inline>dt:not(:first-of-type) {padding-left: .5ex}\n",
       "</style><dl class=dl-inline><dt>date</dt><dd>'character'</dd><dt>day</dt><dd>'character'</dd><dt>temp_h</dt><dd>'numeric'</dd><dt>temp_l</dt><dd>'numeric'</dd><dt>precip</dt><dd>'factor'</dd><dt>bb</dt><dd>'numeric'</dd><dt>mb</dt><dd>'numeric'</dd><dt>wb</dt><dd>'numeric'</dd><dt>qb</dt><dd>'numeric'</dd><dt>total</dt><dd>'numeric'</dd></dl>\n"
      ],
      "text/latex": [
       "\\begin{description*}\n",
       "\\item[date] 'character'\n",
       "\\item[day] 'character'\n",
       "\\item[temp\\textbackslash{}\\_h] 'numeric'\n",
       "\\item[temp\\textbackslash{}\\_l] 'numeric'\n",
       "\\item[precip] 'factor'\n",
       "\\item[bb] 'numeric'\n",
       "\\item[mb] 'numeric'\n",
       "\\item[wb] 'numeric'\n",
       "\\item[qb] 'numeric'\n",
       "\\item[total] 'numeric'\n",
       "\\end{description*}\n"
      ],
      "text/markdown": [
       "date\n",
       ":   'character'day\n",
       ":   'character'temp_h\n",
       ":   'numeric'temp_l\n",
       ":   'numeric'precip\n",
       ":   'factor'bb\n",
       ":   'numeric'mb\n",
       ":   'numeric'wb\n",
       ":   'numeric'qb\n",
       ":   'numeric'total\n",
       ":   'numeric'\n",
       "\n"
      ],
      "text/plain": [
       "       date         day      temp_h      temp_l      precip          bb \n",
       "\"character\" \"character\"   \"numeric\"   \"numeric\"    \"factor\"   \"numeric\" \n",
       "         mb          wb          qb       total \n",
       "  \"numeric\"   \"numeric\"   \"numeric\"   \"numeric\" "
      ]
     },
     "metadata": {},
     "output_type": "display_data"
    }
   ],
   "source": [
    "# check data types\n",
    "sapply(bike, class)"
   ]
  },
  {
   "cell_type": "code",
   "execution_count": 14,
   "id": "1dac3b0a",
   "metadata": {},
   "outputs": [
    {
     "name": "stderr",
     "output_type": "stream",
     "text": [
      "\n",
      "Attaching package: 'lubridate'\n",
      "\n",
      "\n",
      "The following objects are masked from 'package:base':\n",
      "\n",
      "    date, intersect, setdiff, union\n",
      "\n",
      "\n"
     ]
    }
   ],
   "source": [
    "# warngle the data\n",
    "bike <- bike %>%\n",
    "        mutate(date = as.Date(as.character(date), format='%m/%d')) %>%\n",
    "        mutate(precip = as.numeric(as.character(precip)))\n",
    "\n",
    "# fix the year of the date variable \n",
    "library(lubridate) # for the ymd() function\n",
    "bike$date = ymd(as.character(bike$date)) - years(5)\n",
    "\n",
    "# make day as factor\n",
    "bike$day <- as.factor(bike$day)"
   ]
  },
  {
   "cell_type": "markdown",
   "id": "1c709981",
   "metadata": {},
   "source": [
    "Without year, R gives the current year, so we subtract 5 to make 2017 since the data was recorded in 2017."
   ]
  },
  {
   "cell_type": "code",
   "execution_count": 15,
   "id": "7500bc8f",
   "metadata": {},
   "outputs": [
    {
     "data": {
      "text/html": [
       "<style>\n",
       ".list-inline {list-style: none; margin:0; padding: 0}\n",
       ".list-inline>li {display: inline-block}\n",
       ".list-inline>li:not(:last-child)::after {content: \"\\00b7\"; padding: 0 .5ex}\n",
       "</style>\n",
       "<ol class=list-inline><li><time datetime=\"2017-04-01\">2017-04-01</time></li><li><time datetime=\"2017-04-02\">2017-04-02</time></li><li><time datetime=\"2017-04-03\">2017-04-03</time></li><li><time datetime=\"2017-04-04\">2017-04-04</time></li><li><time datetime=\"2017-04-05\">2017-04-05</time></li></ol>\n"
      ],
      "text/latex": [
       "\\begin{enumerate*}\n",
       "\\item 2017-04-01\n",
       "\\item 2017-04-02\n",
       "\\item 2017-04-03\n",
       "\\item 2017-04-04\n",
       "\\item 2017-04-05\n",
       "\\end{enumerate*}\n"
      ],
      "text/markdown": [
       "1. 2017-04-01\n",
       "2. 2017-04-02\n",
       "3. 2017-04-03\n",
       "4. 2017-04-04\n",
       "5. 2017-04-05\n",
       "\n",
       "\n"
      ],
      "text/plain": [
       "[1] \"2017-04-01\" \"2017-04-02\" \"2017-04-03\" \"2017-04-04\" \"2017-04-05\""
      ]
     },
     "metadata": {},
     "output_type": "display_data"
    }
   ],
   "source": [
    "bike$date[1:5]"
   ]
  },
  {
   "cell_type": "code",
   "execution_count": 142,
   "id": "3b8fb53a",
   "metadata": {},
   "outputs": [
    {
     "data": {
      "text/plain": [
       "      date                   day         temp_h         temp_l     \n",
       " Min.   :2017-04-01   Friday   :30   Min.   :46.0   Min.   :37.00  \n",
       " 1st Qu.:2017-05-24   Monday   :31   1st Qu.:66.9   1st Qu.:55.23  \n",
       " Median :2017-07-16   Saturday :31   Median :75.9   Median :64.00  \n",
       " Mean   :2017-07-16   Sunday   :31   Mean   :74.2   Mean   :62.03  \n",
       " 3rd Qu.:2017-09-07   Thursday :30   3rd Qu.:82.0   3rd Qu.:70.00  \n",
       " Max.   :2017-10-31   Tuesday  :31   Max.   :93.9   Max.   :78.10  \n",
       "                      Wednesday:30                                 \n",
       "     precip             bb             mb             wb             qb      \n",
       " Min.   :0.0000   Min.   : 151   Min.   : 484   Min.   : 874   Min.   : 865  \n",
       " 1st Qu.:0.0000   1st Qu.:2298   1st Qu.:4308   1st Qu.:5115   1st Qu.:3746  \n",
       " Median :0.0000   Median :2857   Median :5608   Median :6287   Median :4681  \n",
       " Mean   :0.1318   Mean   :2680   Mean   :5345   Mean   :6052   Mean   :4550  \n",
       " 3rd Qu.:0.0375   3rd Qu.:3285   3rd Qu.:6760   3rd Qu.:7512   3rd Qu.:5692  \n",
       " Max.   :3.0300   Max.   :4960   Max.   :8239   Max.   :8873   Max.   :6582  \n",
       "                                                                             \n",
       "     total      \n",
       " Min.   : 2374  \n",
       " 1st Qu.:15705  \n",
       " Median :19367  \n",
       " Mean   :18628  \n",
       " 3rd Qu.:23152  \n",
       " Max.   :26969  \n",
       "                "
      ]
     },
     "metadata": {},
     "output_type": "display_data"
    },
    {
     "data": {
      "text/html": [
       "<style>\n",
       ".dl-inline {width: auto; margin:0; padding: 0}\n",
       ".dl-inline>dt, .dl-inline>dd {float: none; width: auto; display: inline-block}\n",
       ".dl-inline>dt::after {content: \":\\0020\"; padding-right: .5ex}\n",
       ".dl-inline>dt:not(:first-of-type) {padding-left: .5ex}\n",
       "</style><dl class=dl-inline><dt>date</dt><dd>'Date'</dd><dt>day</dt><dd>'factor'</dd><dt>temp_h</dt><dd>'numeric'</dd><dt>temp_l</dt><dd>'numeric'</dd><dt>precip</dt><dd>'numeric'</dd><dt>bb</dt><dd>'numeric'</dd><dt>mb</dt><dd>'numeric'</dd><dt>wb</dt><dd>'numeric'</dd><dt>qb</dt><dd>'numeric'</dd><dt>total</dt><dd>'numeric'</dd></dl>\n"
      ],
      "text/latex": [
       "\\begin{description*}\n",
       "\\item[date] 'Date'\n",
       "\\item[day] 'factor'\n",
       "\\item[temp\\textbackslash{}\\_h] 'numeric'\n",
       "\\item[temp\\textbackslash{}\\_l] 'numeric'\n",
       "\\item[precip] 'numeric'\n",
       "\\item[bb] 'numeric'\n",
       "\\item[mb] 'numeric'\n",
       "\\item[wb] 'numeric'\n",
       "\\item[qb] 'numeric'\n",
       "\\item[total] 'numeric'\n",
       "\\end{description*}\n"
      ],
      "text/markdown": [
       "date\n",
       ":   'Date'day\n",
       ":   'factor'temp_h\n",
       ":   'numeric'temp_l\n",
       ":   'numeric'precip\n",
       ":   'numeric'bb\n",
       ":   'numeric'mb\n",
       ":   'numeric'wb\n",
       ":   'numeric'qb\n",
       ":   'numeric'total\n",
       ":   'numeric'\n",
       "\n"
      ],
      "text/plain": [
       "     date       day    temp_h    temp_l    precip        bb        mb        wb \n",
       "   \"Date\"  \"factor\" \"numeric\" \"numeric\" \"numeric\" \"numeric\" \"numeric\" \"numeric\" \n",
       "       qb     total \n",
       "\"numeric\" \"numeric\" "
      ]
     },
     "metadata": {},
     "output_type": "display_data"
    },
    {
     "data": {
      "text/html": [
       "<table class=\"dataframe\">\n",
       "<caption>A data.frame: 6 × 10</caption>\n",
       "<thead>\n",
       "\t<tr><th></th><th scope=col>date</th><th scope=col>day</th><th scope=col>temp_h</th><th scope=col>temp_l</th><th scope=col>precip</th><th scope=col>bb</th><th scope=col>mb</th><th scope=col>wb</th><th scope=col>qb</th><th scope=col>total</th></tr>\n",
       "\t<tr><th></th><th scope=col>&lt;date&gt;</th><th scope=col>&lt;fct&gt;</th><th scope=col>&lt;dbl&gt;</th><th scope=col>&lt;dbl&gt;</th><th scope=col>&lt;dbl&gt;</th><th scope=col>&lt;dbl&gt;</th><th scope=col>&lt;dbl&gt;</th><th scope=col>&lt;dbl&gt;</th><th scope=col>&lt;dbl&gt;</th><th scope=col>&lt;dbl&gt;</th></tr>\n",
       "</thead>\n",
       "<tbody>\n",
       "\t<tr><th scope=row>1</th><td>2017-04-01</td><td>Saturday </td><td>46.0</td><td>37</td><td>0.00</td><td> 606</td><td>1446</td><td>1915</td><td>1430</td><td> 5397</td></tr>\n",
       "\t<tr><th scope=row>2</th><td>2017-04-02</td><td>Sunday   </td><td>62.1</td><td>41</td><td>0.00</td><td>2021</td><td>3943</td><td>4207</td><td>2862</td><td>13033</td></tr>\n",
       "\t<tr><th scope=row>3</th><td>2017-04-03</td><td>Monday   </td><td>63.0</td><td>50</td><td>0.03</td><td>2470</td><td>4988</td><td>5178</td><td>3689</td><td>16325</td></tr>\n",
       "\t<tr><th scope=row>4</th><td>2017-04-04</td><td>Tuesday  </td><td>51.1</td><td>46</td><td>1.18</td><td> 723</td><td>1913</td><td>2279</td><td>1666</td><td> 6581</td></tr>\n",
       "\t<tr><th scope=row>5</th><td>2017-04-05</td><td>Wednesday</td><td>63.0</td><td>46</td><td>0.00</td><td>2807</td><td>5276</td><td>5711</td><td>4197</td><td>17991</td></tr>\n",
       "\t<tr><th scope=row>6</th><td>2017-04-06</td><td>Thursday </td><td>48.9</td><td>41</td><td>0.73</td><td> 461</td><td>1324</td><td>1739</td><td>1372</td><td> 4896</td></tr>\n",
       "</tbody>\n",
       "</table>\n"
      ],
      "text/latex": [
       "A data.frame: 6 × 10\n",
       "\\begin{tabular}{r|llllllllll}\n",
       "  & date & day & temp\\_h & temp\\_l & precip & bb & mb & wb & qb & total\\\\\n",
       "  & <date> & <fct> & <dbl> & <dbl> & <dbl> & <dbl> & <dbl> & <dbl> & <dbl> & <dbl>\\\\\n",
       "\\hline\n",
       "\t1 & 2017-04-01 & Saturday  & 46.0 & 37 & 0.00 &  606 & 1446 & 1915 & 1430 &  5397\\\\\n",
       "\t2 & 2017-04-02 & Sunday    & 62.1 & 41 & 0.00 & 2021 & 3943 & 4207 & 2862 & 13033\\\\\n",
       "\t3 & 2017-04-03 & Monday    & 63.0 & 50 & 0.03 & 2470 & 4988 & 5178 & 3689 & 16325\\\\\n",
       "\t4 & 2017-04-04 & Tuesday   & 51.1 & 46 & 1.18 &  723 & 1913 & 2279 & 1666 &  6581\\\\\n",
       "\t5 & 2017-04-05 & Wednesday & 63.0 & 46 & 0.00 & 2807 & 5276 & 5711 & 4197 & 17991\\\\\n",
       "\t6 & 2017-04-06 & Thursday  & 48.9 & 41 & 0.73 &  461 & 1324 & 1739 & 1372 &  4896\\\\\n",
       "\\end{tabular}\n"
      ],
      "text/markdown": [
       "\n",
       "A data.frame: 6 × 10\n",
       "\n",
       "| <!--/--> | date &lt;date&gt; | day &lt;fct&gt; | temp_h &lt;dbl&gt; | temp_l &lt;dbl&gt; | precip &lt;dbl&gt; | bb &lt;dbl&gt; | mb &lt;dbl&gt; | wb &lt;dbl&gt; | qb &lt;dbl&gt; | total &lt;dbl&gt; |\n",
       "|---|---|---|---|---|---|---|---|---|---|---|\n",
       "| 1 | 2017-04-01 | Saturday  | 46.0 | 37 | 0.00 |  606 | 1446 | 1915 | 1430 |  5397 |\n",
       "| 2 | 2017-04-02 | Sunday    | 62.1 | 41 | 0.00 | 2021 | 3943 | 4207 | 2862 | 13033 |\n",
       "| 3 | 2017-04-03 | Monday    | 63.0 | 50 | 0.03 | 2470 | 4988 | 5178 | 3689 | 16325 |\n",
       "| 4 | 2017-04-04 | Tuesday   | 51.1 | 46 | 1.18 |  723 | 1913 | 2279 | 1666 |  6581 |\n",
       "| 5 | 2017-04-05 | Wednesday | 63.0 | 46 | 0.00 | 2807 | 5276 | 5711 | 4197 | 17991 |\n",
       "| 6 | 2017-04-06 | Thursday  | 48.9 | 41 | 0.73 |  461 | 1324 | 1739 | 1372 |  4896 |\n",
       "\n"
      ],
      "text/plain": [
       "  date       day       temp_h temp_l precip bb   mb   wb   qb   total\n",
       "1 2017-04-01 Saturday  46.0   37     0.00    606 1446 1915 1430  5397\n",
       "2 2017-04-02 Sunday    62.1   41     0.00   2021 3943 4207 2862 13033\n",
       "3 2017-04-03 Monday    63.0   50     0.03   2470 4988 5178 3689 16325\n",
       "4 2017-04-04 Tuesday   51.1   46     1.18    723 1913 2279 1666  6581\n",
       "5 2017-04-05 Wednesday 63.0   46     0.00   2807 5276 5711 4197 17991\n",
       "6 2017-04-06 Thursday  48.9   41     0.73    461 1324 1739 1372  4896"
      ]
     },
     "metadata": {},
     "output_type": "display_data"
    }
   ],
   "source": [
    "# summarize and confirm data types\n",
    "summary(bike)\n",
    "sapply(bike, class)\n",
    "head(bike)"
   ]
  },
  {
   "cell_type": "markdown",
   "id": "70f91abb",
   "metadata": {},
   "source": [
    "Nota that if there is 0 or 999.. in the summary date, we might need to think about missing values. In our example, we see that each variable is stored correctly."
   ]
  },
  {
   "cell_type": "code",
   "execution_count": 114,
   "id": "78a39a5d",
   "metadata": {},
   "outputs": [
    {
     "ename": "ERROR",
     "evalue": "Error in `$<-.data.frame`(`*tmp*`, Date, value = structure(numeric(0), class = \"Date\")): replacement has 0 rows, data has 214\n",
     "output_type": "error",
     "traceback": [
      "Error in `$<-.data.frame`(`*tmp*`, Date, value = structure(numeric(0), class = \"Date\")): replacement has 0 rows, data has 214\nTraceback:\n",
      "1. `$<-`(`*tmp*`, Date, value = structure(numeric(0), class = \"Date\"))",
      "2. `$<-.data.frame`(`*tmp*`, Date, value = structure(numeric(0), class = \"Date\"))",
      "3. stop(sprintf(ngettext(N, \"replacement has %d row, data has %d\", \n .     \"replacement has %d rows, data has %d\"), N, nrows), domain = NA)"
     ]
    }
   ],
   "source": [
    "bike$Date <-as.Date(bike$Date)"
   ]
  },
  {
   "cell_type": "markdown",
   "id": "fbe495d9",
   "metadata": {},
   "source": [
    "## 2. Modelling"
   ]
  },
  {
   "cell_type": "markdown",
   "id": "dc179cc1",
   "metadata": {},
   "source": [
    "We split the data into a training set (80%) and a test set(20%)"
   ]
  },
  {
   "cell_type": "code",
   "execution_count": 143,
   "id": "e8fb6390",
   "metadata": {},
   "outputs": [],
   "source": [
    "set.seed(8585)\n",
    "bound = floor(nrow(bike)*0.8) # define % of training and test\n",
    "\n",
    "df = bike[sample(nrow(bike)), ] # sample rows\n",
    "df_train = df[1:bound, ] # get training set\n",
    "df_test = df[(bound+1):nrow(bike), ] # get test set"
   ]
  },
  {
   "cell_type": "markdown",
   "id": "8e465d04",
   "metadata": {},
   "source": [
    "We fit a Poisson regression model on the data."
   ]
  },
  {
   "cell_type": "code",
   "execution_count": 146,
   "id": "52889a8f",
   "metadata": {},
   "outputs": [],
   "source": [
    "# Generalized linear models, family=poission which is exponential family\n",
    "glm_bike = glm (mb ~ precip + temp_h + temp_l + day, data=df_train, \n",
    "                family=poisson)"
   ]
  },
  {
   "cell_type": "code",
   "execution_count": 152,
   "id": "a71ac216",
   "metadata": {},
   "outputs": [
    {
     "data": {
      "text/plain": [
       "\n",
       "Call:\n",
       "glm(formula = mb ~ precip + temp_h + temp_l + day, family = poisson, \n",
       "    data = df_train)\n",
       "\n",
       "Deviance Residuals: \n",
       "    Min       1Q   Median       3Q      Max  \n",
       "-41.577   -7.122    2.309    8.523   38.973  \n",
       "\n",
       "Coefficients:\n",
       "               Estimate Std. Error z value Pr(>|z|)    \n",
       "(Intercept)   7.7605007  0.0088089  880.98   <2e-16 ***\n",
       "precip       -0.6733753  0.0049519 -135.98   <2e-16 ***\n",
       "temp_h        0.0232326  0.0002333   99.59   <2e-16 ***\n",
       "temp_l       -0.0139666  0.0002524  -55.34   <2e-16 ***\n",
       "dayMonday     0.0758621  0.0038756   19.57   <2e-16 ***\n",
       "daySaturday  -0.1993917  0.0042215  -47.23   <2e-16 ***\n",
       "daySunday    -0.2618583  0.0043404  -60.33   <2e-16 ***\n",
       "dayThursday   0.0999425  0.0038607   25.89   <2e-16 ***\n",
       "dayTuesday    0.1419263  0.0038452   36.91   <2e-16 ***\n",
       "dayWednesday  0.1580572  0.0038413   41.15   <2e-16 ***\n",
       "---\n",
       "Signif. codes:  0 '***' 0.001 '**' 0.01 '*' 0.05 '.' 0.1 ' ' 1\n",
       "\n",
       "(Dispersion parameter for poisson family taken to be 1)\n",
       "\n",
       "    Null deviance: 110729  on 170  degrees of freedom\n",
       "Residual deviance:  34454  on 161  degrees of freedom\n",
       "AIC: 36242\n",
       "\n",
       "Number of Fisher Scoring iterations: 4\n"
      ]
     },
     "metadata": {},
     "output_type": "display_data"
    },
    {
     "name": "stdout",
     "output_type": "stream",
     "text": [
      "If precipitaton is increased by one inch, we would expect the mean number of bikes across the Manhattan Bridge to be mutiplied by about 0.5099843 . So, half the numer of bikes."
     ]
    }
   ],
   "source": [
    "summary(glm_bike)\n",
    "\n",
    "# Interprecataion of precip. variable\n",
    "cat(\"If precipitaton is increased by one inch, we would expect the mean number of bikes across the Manhattan Bridge to be mutiplied by about\", exp(coef(glm_bike)[2]),\". So, half the numer of bikes.\")"
   ]
  },
  {
   "cell_type": "markdown",
   "id": "4cde5c08",
   "metadata": {},
   "source": [
    "Now, verify this interpretation."
   ]
  },
  {
   "cell_type": "code",
   "execution_count": 162,
   "id": "ef7b77c5",
   "metadata": {},
   "outputs": [
    {
     "data": {
      "text/html": [
       "<table class=\"dataframe\">\n",
       "<caption>A data.frame: 1 × 10</caption>\n",
       "<thead>\n",
       "\t<tr><th></th><th scope=col>date</th><th scope=col>day</th><th scope=col>temp_h</th><th scope=col>temp_l</th><th scope=col>precip</th><th scope=col>bb</th><th scope=col>mb</th><th scope=col>wb</th><th scope=col>qb</th><th scope=col>total</th></tr>\n",
       "\t<tr><th></th><th scope=col>&lt;date&gt;</th><th scope=col>&lt;fct&gt;</th><th scope=col>&lt;dbl&gt;</th><th scope=col>&lt;dbl&gt;</th><th scope=col>&lt;dbl&gt;</th><th scope=col>&lt;dbl&gt;</th><th scope=col>&lt;dbl&gt;</th><th scope=col>&lt;dbl&gt;</th><th scope=col>&lt;dbl&gt;</th><th scope=col>&lt;dbl&gt;</th></tr>\n",
       "</thead>\n",
       "<tbody>\n",
       "\t<tr><th scope=row>2</th><td>2017-04-02</td><td>Sunday</td><td>62.1</td><td>41</td><td>1</td><td>2021</td><td>3943</td><td>4207</td><td>2862</td><td>13033</td></tr>\n",
       "</tbody>\n",
       "</table>\n"
      ],
      "text/latex": [
       "A data.frame: 1 × 10\n",
       "\\begin{tabular}{r|llllllllll}\n",
       "  & date & day & temp\\_h & temp\\_l & precip & bb & mb & wb & qb & total\\\\\n",
       "  & <date> & <fct> & <dbl> & <dbl> & <dbl> & <dbl> & <dbl> & <dbl> & <dbl> & <dbl>\\\\\n",
       "\\hline\n",
       "\t2 & 2017-04-02 & Sunday & 62.1 & 41 & 1 & 2021 & 3943 & 4207 & 2862 & 13033\\\\\n",
       "\\end{tabular}\n"
      ],
      "text/markdown": [
       "\n",
       "A data.frame: 1 × 10\n",
       "\n",
       "| <!--/--> | date &lt;date&gt; | day &lt;fct&gt; | temp_h &lt;dbl&gt; | temp_l &lt;dbl&gt; | precip &lt;dbl&gt; | bb &lt;dbl&gt; | mb &lt;dbl&gt; | wb &lt;dbl&gt; | qb &lt;dbl&gt; | total &lt;dbl&gt; |\n",
       "|---|---|---|---|---|---|---|---|---|---|---|\n",
       "| 2 | 2017-04-02 | Sunday | 62.1 | 41 | 1 | 2021 | 3943 | 4207 | 2862 | 13033 |\n",
       "\n"
      ],
      "text/plain": [
       "  date       day    temp_h temp_l precip bb   mb   wb   qb   total\n",
       "2 2017-04-02 Sunday 62.1   41     1      2021 3943 4207 2862 13033"
      ]
     },
     "metadata": {},
     "output_type": "display_data"
    },
    {
     "name": "stdout",
     "output_type": "stream",
     "text": [
      "The precip estimate times the original prediction is 2198.176 .THe prediction for a one inch increase in precip (holding other predictors constant) is 2198.176 ."
     ]
    }
   ],
   "source": [
    "# a new covariabe class based on the second row of the test set and\n",
    "# take fifth coloum (precipitation variable) and then adding 1\n",
    "newdata = df_test[2, ]; newdata[5] = newdata[5] + 1 ; newdata \n",
    "\n",
    "# predict1 using original data, predict2 using new data\n",
    "predict1 = predict(glm_bike, df_test[2,], type = \"response\")\n",
    "predict2 = predict(glm_bike, newdata, type = \"response\")\n",
    "\n",
    "cat(\"The precip estimate times the original prediction is\", exp(coef(glm_bike)[2])*predict1, \".\")\n",
    "cat(\"The prediction for a one inch increase in precip (holding other predictors constant) is\", predict2, \".\")"
   ]
  },
  {
   "cell_type": "markdown",
   "id": "8043693a",
   "metadata": {},
   "source": [
    "This is helpful in understanding some of relationshio between precipitation and the number of cyclists that cross the Manhattan Bridge. "
   ]
  },
  {
   "cell_type": "markdown",
   "id": "65315963",
   "metadata": {},
   "source": [
    "We now want to know what a one standard deviation increse would loook like. To do so, we need to scale the data and note the standard deviation of the precipitation variable in the training set."
   ]
  },
  {
   "cell_type": "code",
   "execution_count": 172,
   "id": "273f2280",
   "metadata": {},
   "outputs": [
    {
     "name": "stdout",
     "output_type": "stream",
     "text": [
      "The standard deviation of precipitation is 0.3755631 ."
     ]
    }
   ],
   "source": [
    "cat(\"The standard deviation of precipitation is\", sd(df_train$precip),\".\")\n",
    "df_train_scale = df_train %>% mutate_at(c(\"precip\", \"temp_h\", \"temp_l\"), scale)\n",
    "# scale  = ( xi - mean of x )/sd of x"
   ]
  },
  {
   "cell_type": "markdown",
   "id": "d1831cce",
   "metadata": {},
   "source": [
    "We now fit a Poission regression again with the scaled data."
   ]
  },
  {
   "cell_type": "code",
   "execution_count": 174,
   "id": "73d6a7c2",
   "metadata": {},
   "outputs": [
    {
     "data": {
      "text/html": [
       "<style>\n",
       ".dl-inline {width: auto; margin:0; padding: 0}\n",
       ".dl-inline>dt, .dl-inline>dd {float: none; width: auto; display: inline-block}\n",
       ".dl-inline>dt::after {content: \":\\0020\"; padding-right: .5ex}\n",
       ".dl-inline>dt:not(:first-of-type) {padding-left: .5ex}\n",
       "</style><dl class=dl-inline><dt>(Intercept)</dt><dd>8.52140068317869</dd><dt>precip</dt><dd>-0.252894897252217</dd><dt>temp_h</dt><dd>0.237264729556711</dd><dt>temp_l</dt><dd>-0.128276909705293</dd><dt>dayMonday</dt><dd>0.0758620891614994</dd><dt>daySaturday</dt><dd>-0.199391723214535</dd><dt>daySunday</dt><dd>-0.261858265426246</dd><dt>dayThursday</dt><dd>0.0999425319296256</dd><dt>dayTuesday</dt><dd>0.141926290043043</dd><dt>dayWednesday</dt><dd>0.158057155721601</dd></dl>\n"
      ],
      "text/latex": [
       "\\begin{description*}\n",
       "\\item[(Intercept)] 8.52140068317869\n",
       "\\item[precip] -0.252894897252217\n",
       "\\item[temp\\textbackslash{}\\_h] 0.237264729556711\n",
       "\\item[temp\\textbackslash{}\\_l] -0.128276909705293\n",
       "\\item[dayMonday] 0.0758620891614994\n",
       "\\item[daySaturday] -0.199391723214535\n",
       "\\item[daySunday] -0.261858265426246\n",
       "\\item[dayThursday] 0.0999425319296256\n",
       "\\item[dayTuesday] 0.141926290043043\n",
       "\\item[dayWednesday] 0.158057155721601\n",
       "\\end{description*}\n"
      ],
      "text/markdown": [
       "(Intercept)\n",
       ":   8.52140068317869precip\n",
       ":   -0.252894897252217temp_h\n",
       ":   0.237264729556711temp_l\n",
       ":   -0.128276909705293dayMonday\n",
       ":   0.0758620891614994daySaturday\n",
       ":   -0.199391723214535daySunday\n",
       ":   -0.261858265426246dayThursday\n",
       ":   0.0999425319296256dayTuesday\n",
       ":   0.141926290043043dayWednesday\n",
       ":   0.158057155721601\n",
       "\n"
      ],
      "text/plain": [
       " (Intercept)       precip       temp_h       temp_l    dayMonday  daySaturday \n",
       "  8.52140068  -0.25289490   0.23726473  -0.12827691   0.07586209  -0.19939172 \n",
       "   daySunday  dayThursday   dayTuesday dayWednesday \n",
       " -0.26185827   0.09994253   0.14192629   0.15805716 "
      ]
     },
     "metadata": {},
     "output_type": "display_data"
    }
   ],
   "source": [
    "glm_bike_scale = glm(mb ~ precip + temp_h + temp_l + day, data=df_train_scale, family=poisson)\n",
    "coef(glm_bike_scale)"
   ]
  },
  {
   "cell_type": "code",
   "execution_count": 189,
   "id": "df5fb2a5",
   "metadata": {},
   "outputs": [
    {
     "name": "stdout",
     "output_type": "stream",
     "text": [
      "Assuming the model is correct, if precipitation is increased by one standard deviation (0.38 inches), we would expect the mean number of bikes across the Manhattan bridge to be mulpitlied by 0.776549495020493 adjusting for temperatures and day of week"
     ]
    }
   ],
   "source": [
    "cat(paste0(\"Assuming the model is correct, if precipitation is increased by \",\n",
    "           \"one standard deviation (0.38 inches), we would expect the mean \",\n",
    "           \"number of bikes across the Manhattan bridge to be mulpitlied by \",\n",
    "           exp(coef(glm_bike_scale)[2]),\n",
    "           \" adjusting for temperatures and day of week\"))"
   ]
  },
  {
   "cell_type": "markdown",
   "id": "2cfafcec",
   "metadata": {},
   "source": [
    "We have not studied whether this model is correct. One simple assessment is that we can a plot of __the predicted values $\\hat\\mu$ vs the true values__ of either the training set, or the test set.  We will discuss detaied assessment methods later."
   ]
  },
  {
   "cell_type": "markdown",
   "id": "0afc1026",
   "metadata": {},
   "source": [
    " We should expect\n",
    "\n",
    "* If the predicted values vs true valeus is lining up along the line Y=X\n",
    "* If the predictions were perfect, every point in the following plot would line up along the line. "
   ]
  },
  {
   "cell_type": "code",
   "execution_count": 197,
   "id": "fa2c492a",
   "metadata": {},
   "outputs": [
    {
     "name": "stderr",
     "output_type": "stream",
     "text": [
      "`geom_smooth()` using formula 'y ~ x'\n",
      "\n"
     ]
    },
    {
     "data": {
      "image/png": "[encoded data removed]",
      "text/plain": [
       "plot without title"
      ]
     },
     "metadata": {
      "image/png": {
       "height": 300,
       "width": 480
      }
     },
     "output_type": "display_data"
    }
   ],
   "source": [
    "n_train = length(df_train$mb)\n",
    "n_test = length(df_train$mb)\n",
    "\n",
    "mu_train = predict(glm_bike, df_train, type=\"response\")\n",
    "y_train = df_train$mb\n",
    "\n",
    "options(repr.plot.width = 8, repr.plot.height=5)\n",
    "df_test_predict = data.frame(y_train, mu_train)\n",
    "p = ggplot(df_test_predict) + geom_point(aes(y_train, mu_train))\n",
    "p = p + geom_smooth(aes(y_train, mu_train, col = '#CFB87C'), method = \"lm\", se=FALSE)\n",
    "p = p + geom_abline(aes(intercept = 0, slope = 1, col = \"grey\"))\n",
    "p = p + scale_color_identity(labels= c(\"regression line\", \"y = x\"), guide=\"legend\")\n",
    "p = p + theme_bw()\n",
    "p = p + xlab(\"True Values\") + ylab(\"Predicted Values\")\n",
    "p"
   ]
  },
  {
   "cell_type": "markdown",
   "id": "141c0aab",
   "metadata": {},
   "source": [
    "If a model is appropriate, values are lining very tightly on the y=x. In this case, it does not look that tight. We might need to fit anther model."
   ]
  },
  {
   "cell_type": "markdown",
   "id": "ebe6c681",
   "metadata": {},
   "source": [
    "The same plot on the test set shows a bit more variability, includint as further suggesting that the mode fit is less than optimal. "
   ]
  },
  {
   "cell_type": "code",
   "execution_count": 198,
   "id": "1c189513",
   "metadata": {},
   "outputs": [
    {
     "name": "stderr",
     "output_type": "stream",
     "text": [
      "`geom_smooth()` using formula 'y ~ x'\n",
      "\n"
     ]
    },
    {
     "data": {
      "image/png": "[encoded data removed]",
      "text/plain": [
       "plot without title"
      ]
     },
     "metadata": {
      "image/png": {
       "height": 300,
       "width": 480
      }
     },
     "output_type": "display_data"
    }
   ],
   "source": [
    "n_train = length(df_train$mb)\n",
    "n_test = length(df_train$mb)\n",
    "\n",
    "mu_test = predict(glm_bike, df_test, type=\"response\")\n",
    "y_test = df_test$mb\n",
    "\n",
    "options(repr.plot.width = 8, repr.plot.height=5)\n",
    "df_test_predict = data.frame(y_test, mu_test)\n",
    "p = ggplot(df_test_predict) + geom_point(aes(y_test, mu_test))\n",
    "p = p + geom_smooth(aes(y_test, mu_test, col = '#CFB87C'), method = \"lm\", se=FALSE)\n",
    "p = p + geom_abline(aes(intercept = 0, slope = 1, col = \"grey\"))\n",
    "p = p + scale_color_identity(labels= c(\"regression line\", \"y = x\"), guide=\"legend\")\n",
    "p = p + theme_bw()\n",
    "p = p + xlab(\"True Values\") + ylab(\"Predicted Values\")\n",
    "p"
   ]
  },
  {
   "cell_type": "markdown",
   "id": "d6ec7bd0",
   "metadata": {},
   "source": [
    "All of that suggests that we could do a bit better in our model."
   ]
  }
 ],
 "metadata": {
  "kernelspec": {
   "display_name": "R",
   "language": "R",
   "name": "ir"
  },
  "language_info": {
   "codemirror_mode": "r",
   "file_extension": ".r",
   "mimetype": "text/x-r-source",
   "name": "R",
   "pygments_lexer": "r",
   "version": "4.1.3"
  }
 },
 "nbformat": 4,
 "nbformat_minor": 5
}
