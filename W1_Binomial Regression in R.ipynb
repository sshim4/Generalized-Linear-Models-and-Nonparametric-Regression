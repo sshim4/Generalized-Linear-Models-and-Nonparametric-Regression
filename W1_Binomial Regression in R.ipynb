{
 "cells": [
  {
   "cell_type": "code",
   "execution_count": null,
   "id": "6e551843",
   "metadata": {},
   "outputs": [],
   "source": [
    "# install packages\n",
    "install.packages('RCurl')\n",
    "install.packages('ggplot2')"
   ]
  },
  {
   "cell_type": "markdown",
   "id": "4b34d239",
   "metadata": {},
   "source": [
    "## Goal : to predict office occupancy using the listed predictors.\n",
    "\n",
    "__Office occupancy data__\n",
    "1. Occupancy: 0 (not occupied), 1(occupied)\n",
    "2. Temperature: in Celsius\n",
    "3. Humidity: Relative humidity as a percentage\n",
    "4. Light: measured in Lux\n",
    "5. Co2: in ppm"
   ]
  },
  {
   "cell_type": "markdown",
   "id": "8a01aa2b",
   "metadata": {},
   "source": [
    "## 1. Data Preparation"
   ]
  },
  {
   "cell_type": "code",
   "execution_count": 30,
   "id": "f85e3082",
   "metadata": {},
   "outputs": [],
   "source": [
    "library(RCurl) # a package includes the function getURL(), which allowa for reading data from Github\n",
    "library(ggplot2)"
   ]
  },
  {
   "cell_type": "code",
   "execution_count": 34,
   "id": "198f363b",
   "metadata": {},
   "outputs": [],
   "source": [
    "# url <- getURL(\"https://raw.githubusercontent.com/LuisM78/Occupancy-detection-data/master/datatest.txt\")\n",
    "# occ <- read.csv(test = url)"
   ]
  },
  {
   "cell_type": "code",
   "execution_count": 35,
   "id": "09817d77",
   "metadata": {},
   "outputs": [],
   "source": [
    "# I use this way since the code above shows me error in my labtop.\n",
    "url <- \"https://raw.githubusercontent.com/LuisM78/Occupancy-detection-data/master/datatest.txt\"\n",
    "occ <-  read.csv((url))"
   ]
  },
  {
   "cell_type": "code",
   "execution_count": 27,
   "id": "0ae79cc8",
   "metadata": {},
   "outputs": [
    {
     "data": {
      "text/html": [
       "<table class=\"dataframe\">\n",
       "<caption>A data.frame: 6 × 7</caption>\n",
       "<thead>\n",
       "\t<tr><th></th><th scope=col>date</th><th scope=col>Temperature</th><th scope=col>Humidity</th><th scope=col>Light</th><th scope=col>CO2</th><th scope=col>HumidityRatio</th><th scope=col>Occupancy</th></tr>\n",
       "\t<tr><th></th><th scope=col>&lt;chr&gt;</th><th scope=col>&lt;dbl&gt;</th><th scope=col>&lt;dbl&gt;</th><th scope=col>&lt;dbl&gt;</th><th scope=col>&lt;dbl&gt;</th><th scope=col>&lt;dbl&gt;</th><th scope=col>&lt;int&gt;</th></tr>\n",
       "</thead>\n",
       "<tbody>\n",
       "\t<tr><th scope=row>140</th><td>2015-02-02 14:19:00</td><td>23.7000</td><td>26.272</td><td>585.2000</td><td>749.2000</td><td>0.004764163</td><td>1</td></tr>\n",
       "\t<tr><th scope=row>141</th><td>2015-02-02 14:19:59</td><td>23.7180</td><td>26.290</td><td>578.4000</td><td>760.4000</td><td>0.004772661</td><td>1</td></tr>\n",
       "\t<tr><th scope=row>142</th><td>2015-02-02 14:21:00</td><td>23.7300</td><td>26.230</td><td>572.6667</td><td>769.6667</td><td>0.004765153</td><td>1</td></tr>\n",
       "\t<tr><th scope=row>143</th><td>2015-02-02 14:22:00</td><td>23.7225</td><td>26.125</td><td>493.7500</td><td>774.7500</td><td>0.004743773</td><td>1</td></tr>\n",
       "\t<tr><th scope=row>144</th><td>2015-02-02 14:23:00</td><td>23.7540</td><td>26.200</td><td>488.6000</td><td>779.0000</td><td>0.004766594</td><td>1</td></tr>\n",
       "\t<tr><th scope=row>145</th><td>2015-02-02 14:23:59</td><td>23.7600</td><td>26.260</td><td>568.6667</td><td>790.0000</td><td>0.004779332</td><td>1</td></tr>\n",
       "</tbody>\n",
       "</table>\n"
      ],
      "text/latex": [
       "A data.frame: 6 × 7\n",
       "\\begin{tabular}{r|lllllll}\n",
       "  & date & Temperature & Humidity & Light & CO2 & HumidityRatio & Occupancy\\\\\n",
       "  & <chr> & <dbl> & <dbl> & <dbl> & <dbl> & <dbl> & <int>\\\\\n",
       "\\hline\n",
       "\t140 & 2015-02-02 14:19:00 & 23.7000 & 26.272 & 585.2000 & 749.2000 & 0.004764163 & 1\\\\\n",
       "\t141 & 2015-02-02 14:19:59 & 23.7180 & 26.290 & 578.4000 & 760.4000 & 0.004772661 & 1\\\\\n",
       "\t142 & 2015-02-02 14:21:00 & 23.7300 & 26.230 & 572.6667 & 769.6667 & 0.004765153 & 1\\\\\n",
       "\t143 & 2015-02-02 14:22:00 & 23.7225 & 26.125 & 493.7500 & 774.7500 & 0.004743773 & 1\\\\\n",
       "\t144 & 2015-02-02 14:23:00 & 23.7540 & 26.200 & 488.6000 & 779.0000 & 0.004766594 & 1\\\\\n",
       "\t145 & 2015-02-02 14:23:59 & 23.7600 & 26.260 & 568.6667 & 790.0000 & 0.004779332 & 1\\\\\n",
       "\\end{tabular}\n"
      ],
      "text/markdown": [
       "\n",
       "A data.frame: 6 × 7\n",
       "\n",
       "| <!--/--> | date &lt;chr&gt; | Temperature &lt;dbl&gt; | Humidity &lt;dbl&gt; | Light &lt;dbl&gt; | CO2 &lt;dbl&gt; | HumidityRatio &lt;dbl&gt; | Occupancy &lt;int&gt; |\n",
       "|---|---|---|---|---|---|---|---|\n",
       "| 140 | 2015-02-02 14:19:00 | 23.7000 | 26.272 | 585.2000 | 749.2000 | 0.004764163 | 1 |\n",
       "| 141 | 2015-02-02 14:19:59 | 23.7180 | 26.290 | 578.4000 | 760.4000 | 0.004772661 | 1 |\n",
       "| 142 | 2015-02-02 14:21:00 | 23.7300 | 26.230 | 572.6667 | 769.6667 | 0.004765153 | 1 |\n",
       "| 143 | 2015-02-02 14:22:00 | 23.7225 | 26.125 | 493.7500 | 774.7500 | 0.004743773 | 1 |\n",
       "| 144 | 2015-02-02 14:23:00 | 23.7540 | 26.200 | 488.6000 | 779.0000 | 0.004766594 | 1 |\n",
       "| 145 | 2015-02-02 14:23:59 | 23.7600 | 26.260 | 568.6667 | 790.0000 | 0.004779332 | 1 |\n",
       "\n"
      ],
      "text/plain": [
       "    date                Temperature Humidity Light    CO2      HumidityRatio\n",
       "140 2015-02-02 14:19:00 23.7000     26.272   585.2000 749.2000 0.004764163  \n",
       "141 2015-02-02 14:19:59 23.7180     26.290   578.4000 760.4000 0.004772661  \n",
       "142 2015-02-02 14:21:00 23.7300     26.230   572.6667 769.6667 0.004765153  \n",
       "143 2015-02-02 14:22:00 23.7225     26.125   493.7500 774.7500 0.004743773  \n",
       "144 2015-02-02 14:23:00 23.7540     26.200   488.6000 779.0000 0.004766594  \n",
       "145 2015-02-02 14:23:59 23.7600     26.260   568.6667 790.0000 0.004779332  \n",
       "    Occupancy\n",
       "140 1        \n",
       "141 1        \n",
       "142 1        \n",
       "143 1        \n",
       "144 1        \n",
       "145 1        "
      ]
     },
     "metadata": {},
     "output_type": "display_data"
    }
   ],
   "source": [
    "head(occ)"
   ]
  },
  {
   "cell_type": "code",
   "execution_count": 28,
   "id": "89f987c5",
   "metadata": {},
   "outputs": [
    {
     "data": {
      "text/html": [
       "<table class=\"dataframe\">\n",
       "<caption>A data.frame: 6 × 5</caption>\n",
       "<thead>\n",
       "\t<tr><th></th><th scope=col>Temperature</th><th scope=col>Humidity</th><th scope=col>Light</th><th scope=col>CO2</th><th scope=col>Occupancy</th></tr>\n",
       "\t<tr><th></th><th scope=col>&lt;dbl&gt;</th><th scope=col>&lt;dbl&gt;</th><th scope=col>&lt;dbl&gt;</th><th scope=col>&lt;dbl&gt;</th><th scope=col>&lt;int&gt;</th></tr>\n",
       "</thead>\n",
       "<tbody>\n",
       "\t<tr><th scope=row>140</th><td>23.7000</td><td>26.272</td><td>585.2000</td><td>749.2000</td><td>1</td></tr>\n",
       "\t<tr><th scope=row>141</th><td>23.7180</td><td>26.290</td><td>578.4000</td><td>760.4000</td><td>1</td></tr>\n",
       "\t<tr><th scope=row>142</th><td>23.7300</td><td>26.230</td><td>572.6667</td><td>769.6667</td><td>1</td></tr>\n",
       "\t<tr><th scope=row>143</th><td>23.7225</td><td>26.125</td><td>493.7500</td><td>774.7500</td><td>1</td></tr>\n",
       "\t<tr><th scope=row>144</th><td>23.7540</td><td>26.200</td><td>488.6000</td><td>779.0000</td><td>1</td></tr>\n",
       "\t<tr><th scope=row>145</th><td>23.7600</td><td>26.260</td><td>568.6667</td><td>790.0000</td><td>1</td></tr>\n",
       "</tbody>\n",
       "</table>\n"
      ],
      "text/latex": [
       "A data.frame: 6 × 5\n",
       "\\begin{tabular}{r|lllll}\n",
       "  & Temperature & Humidity & Light & CO2 & Occupancy\\\\\n",
       "  & <dbl> & <dbl> & <dbl> & <dbl> & <int>\\\\\n",
       "\\hline\n",
       "\t140 & 23.7000 & 26.272 & 585.2000 & 749.2000 & 1\\\\\n",
       "\t141 & 23.7180 & 26.290 & 578.4000 & 760.4000 & 1\\\\\n",
       "\t142 & 23.7300 & 26.230 & 572.6667 & 769.6667 & 1\\\\\n",
       "\t143 & 23.7225 & 26.125 & 493.7500 & 774.7500 & 1\\\\\n",
       "\t144 & 23.7540 & 26.200 & 488.6000 & 779.0000 & 1\\\\\n",
       "\t145 & 23.7600 & 26.260 & 568.6667 & 790.0000 & 1\\\\\n",
       "\\end{tabular}\n"
      ],
      "text/markdown": [
       "\n",
       "A data.frame: 6 × 5\n",
       "\n",
       "| <!--/--> | Temperature &lt;dbl&gt; | Humidity &lt;dbl&gt; | Light &lt;dbl&gt; | CO2 &lt;dbl&gt; | Occupancy &lt;int&gt; |\n",
       "|---|---|---|---|---|---|\n",
       "| 140 | 23.7000 | 26.272 | 585.2000 | 749.2000 | 1 |\n",
       "| 141 | 23.7180 | 26.290 | 578.4000 | 760.4000 | 1 |\n",
       "| 142 | 23.7300 | 26.230 | 572.6667 | 769.6667 | 1 |\n",
       "| 143 | 23.7225 | 26.125 | 493.7500 | 774.7500 | 1 |\n",
       "| 144 | 23.7540 | 26.200 | 488.6000 | 779.0000 | 1 |\n",
       "| 145 | 23.7600 | 26.260 | 568.6667 | 790.0000 | 1 |\n",
       "\n"
      ],
      "text/plain": [
       "    Temperature Humidity Light    CO2      Occupancy\n",
       "140 23.7000     26.272   585.2000 749.2000 1        \n",
       "141 23.7180     26.290   578.4000 760.4000 1        \n",
       "142 23.7300     26.230   572.6667 769.6667 1        \n",
       "143 23.7225     26.125   493.7500 774.7500 1        \n",
       "144 23.7540     26.200   488.6000 779.0000 1        \n",
       "145 23.7600     26.260   568.6667 790.0000 1        "
      ]
     },
     "metadata": {},
     "output_type": "display_data"
    }
   ],
   "source": [
    "head(occ[ , c(2,3,4,5,7)])"
   ]
  },
  {
   "cell_type": "code",
   "execution_count": 29,
   "id": "f20c773d",
   "metadata": {},
   "outputs": [
    {
     "data": {
      "text/plain": [
       "  Temperature       Humidity         Light             CO2        \n",
       " Min.   :20.20   Min.   :22.10   Min.   :   0.0   Min.   : 427.5  \n",
       " 1st Qu.:20.65   1st Qu.:23.26   1st Qu.:   0.0   1st Qu.: 466.0  \n",
       " Median :20.89   Median :25.00   Median :   0.0   Median : 580.5  \n",
       " Mean   :21.43   Mean   :25.35   Mean   : 193.2   Mean   : 717.9  \n",
       " 3rd Qu.:22.36   3rd Qu.:26.86   3rd Qu.: 442.5   3rd Qu.: 956.3  \n",
       " Max.   :24.41   Max.   :31.47   Max.   :1697.2   Max.   :1402.2  \n",
       "   Occupancy     \n",
       " Min.   :0.0000  \n",
       " 1st Qu.:0.0000  \n",
       " Median :0.0000  \n",
       " Mean   :0.3647  \n",
       " 3rd Qu.:1.0000  \n",
       " Max.   :1.0000  "
      ]
     },
     "metadata": {},
     "output_type": "display_data"
    }
   ],
   "source": [
    "summary(occ[ , c(2,3,4,5,7)])"
   ]
  },
  {
   "cell_type": "markdown",
   "id": "6dc82431",
   "metadata": {},
   "source": [
    "We see many data has zero in Light variable. It may be very skewed. And Occupany is a categorical variable, it is not neceaary to be give numerical summary."
   ]
  },
  {
   "cell_type": "markdown",
   "id": "612d159c",
   "metadata": {},
   "source": [
    "## 2. Modelling using GLM function"
   ]
  },
  {
   "cell_type": "code",
   "execution_count": 40,
   "id": "001678a9",
   "metadata": {},
   "outputs": [
    {
     "data": {
      "text/html": [
       "FALSE"
      ],
      "text/latex": [
       "FALSE"
      ],
      "text/markdown": [
       "FALSE"
      ],
      "text/plain": [
       "[1] FALSE"
      ]
     },
     "metadata": {},
     "output_type": "display_data"
    }
   ],
   "source": [
    "is.factor(occ$Occupancy)"
   ]
  },
  {
   "cell_type": "code",
   "execution_count": 41,
   "id": "1bfe1539",
   "metadata": {},
   "outputs": [],
   "source": [
    "occ$Occupancy <- as.factor(occ$Occupancy)"
   ]
  },
  {
   "cell_type": "code",
   "execution_count": 42,
   "id": "0ee16a7b",
   "metadata": {},
   "outputs": [],
   "source": [
    "glmod <- glm(Occupancy ~ Temperature + Humidity + Light + CO2, \n",
    "             data=occ, family=\"binomial\")"
   ]
  },
  {
   "cell_type": "code",
   "execution_count": 43,
   "id": "98427e4b",
   "metadata": {},
   "outputs": [
    {
     "data": {
      "text/plain": [
       "\n",
       "Call:\n",
       "glm(formula = Occupancy ~ Temperature + Humidity + Light + CO2, \n",
       "    family = \"binomial\", data = occ)\n",
       "\n",
       "Deviance Residuals: \n",
       "    Min       1Q   Median       3Q      Max  \n",
       "-3.4969  -0.0624  -0.0179   0.1038   2.6544  \n",
       "\n",
       "Coefficients:\n",
       "              Estimate Std. Error z value Pr(>|z|)    \n",
       "(Intercept) -29.316563  11.038232  -2.656  0.00791 ** \n",
       "Temperature  -0.333612   0.318492  -1.047  0.29488    \n",
       "Humidity      1.353727   0.298368   4.537  5.7e-06 ***\n",
       "Light         0.021921   0.001586  13.819  < 2e-16 ***\n",
       "CO2          -0.006839   0.003257  -2.099  0.03578 *  \n",
       "---\n",
       "Signif. codes:  0 '***' 0.001 '**' 0.01 '*' 0.05 '.' 0.1 ' ' 1\n",
       "\n",
       "(Dispersion parameter for binomial family taken to be 1)\n",
       "\n",
       "    Null deviance: 3496.96  on 2664  degrees of freedom\n",
       "Residual deviance:  375.66  on 2660  degrees of freedom\n",
       "AIC: 385.66\n",
       "\n",
       "Number of Fisher Scoring iterations: 9\n"
      ]
     },
     "metadata": {},
     "output_type": "display_data"
    }
   ],
   "source": [
    "summary(glmod)"
   ]
  },
  {
   "cell_type": "markdown",
   "id": "ccba3477",
   "metadata": {},
   "source": [
    "* $\\hat{\\beta_0}$ = -29.316563 : Assuming the model is correct, the avrage log odds of an offce being occupied when temperature, humidity, light, and Co2 are all equal to zero, is approximately - 29.3.\n",
    "    * The odds scale: $e^{\\hat{\\beta_0}}\\approx 0$ and this seems to make sense. This tells about the average odds. The odds that in offices occupied when the temperaure, humidity, light, and Co2 are all equal to zero, is 0\n",
    "*$\\hat{\\beta_3}$ = 0.021921: A one Lux increase in light with all other predictors held constant, would result in approximately 0.022 to increase in the log odds on average.\n",
    "    * The odds scale: $e^{\\hat{\\beta_3}}\\approx 1.02$ If one lux increases in light with all other predictors held constant, it would results in an average __multipicate__ of increase, in odds of 1.02."
   ]
  },
  {
   "cell_type": "markdown",
   "id": "c7a90e92",
   "metadata": {},
   "source": [
    "## 3. Mathematical formula"
   ]
  },
  {
   "cell_type": "markdown",
   "id": "d1dd63c1",
   "metadata": {},
   "source": [
    "* Estimated odds of occupation\n",
    "\n",
    "$$e^{\\hat{\\eta}}=e^{\\hat{\\beta_0}+\\hat{\\beta_1}x_1+\\hat{\\beta_2}x_2+\\hat{\\beta_3}x_3+\\hat{\\beta_4}x_4}=\\frac{\\hat{p}}{1-\\hat{p}} $$\n",
    "\n",
    "* One Lux increase in light ($x_3$)\n",
    "\n",
    "$$e^{{\\hat{\\eta}}_{+1}}\n",
    "=e^{\\hat{\\beta_0}+\\hat{\\beta_1}x_1+\\hat{\\beta_2}x_2+\\hat{\\beta_3}(x_3+1)+\\hat{\\beta_4}x_4}\n",
    "=e^{\\hat{\\beta_3}}e^{\\hat{\\beta_0}+\\hat{\\beta_1}x_1+\\hat{\\beta_2}x_2+\\hat{\\beta_3}x_3+\\hat{\\beta_4}x_4}\n",
    "=e^{\\hat{\\beta_3}}e^{\\hat{\\eta}}\n",
    "=e^{\\hat{\\beta_3}}\\frac{\\hat{p}}{1-\\hat{p}}\n",
    "$$\n",
    "\n",
    "This is adjustable for Temperature, humidity, and Co2."
   ]
  }
 ],
 "metadata": {
  "kernelspec": {
   "display_name": "R",
   "language": "R",
   "name": "ir"
  },
  "language_info": {
   "codemirror_mode": "r",
   "file_extension": ".r",
   "mimetype": "text/x-r-source",
   "name": "R",
   "pygments_lexer": "r",
   "version": "4.1.3"
  }
 },
 "nbformat": 4,
 "nbformat_minor": 5
}
