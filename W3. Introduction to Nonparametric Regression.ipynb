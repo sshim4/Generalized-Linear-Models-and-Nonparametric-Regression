{
 "cells": [
  {
   "cell_type": "code",
   "execution_count": 58,
   "id": "6e6df38b",
   "metadata": {},
   "outputs": [
    {
     "name": "stdout",
     "output_type": "stream",
     "text": [
      "Last updated  Sat Oct 22 14:03:49 2022"
     ]
    }
   ],
   "source": [
    "cat('Last updated ', date())"
   ]
  },
  {
   "cell_type": "markdown",
   "id": "7fa5b890",
   "metadata": {},
   "source": [
    "_This is a study note while I am studyig __Generalized Linear Models and Nonparametric Regression__ offered by University of Colorado Boulder in Coursera_"
   ]
  },
  {
   "cell_type": "markdown",
   "id": "75192cda",
   "metadata": {},
   "source": [
    "# Week3. Introduction to Nonparametric Regression"
   ]
  },
  {
   "cell_type": "markdown",
   "id": "b8a98437",
   "metadata": {},
   "source": [
    "## I. Nonparametric Regression Theory"
   ]
  },
  {
   "cell_type": "markdown",
   "id": "594af8cb",
   "metadata": {},
   "source": [
    "### 1. Introduction to Nonparametric Regression Model"
   ]
  },
  {
   "cell_type": "markdown",
   "id": "1087d2fa",
   "metadata": {},
   "source": [
    "__1) Motivation__: Parametric model"
   ]
  },
  {
   "cell_type": "markdown",
   "id": "0ed96820",
   "metadata": {},
   "source": [
    "A parametric statistical model is a family of probability distributions with a finite set of parameters.<br>\n",
    "\n",
    "_Example_: The normal regression model : $\\mathbf Y\\sim N(X\\beta, \\sigma^2I_n)$\n",
    "\n",
    "* $X\\beta$: p+1 parameters (including $\\beta_0$)\n",
    "* $\\sigma^2I_n$: 1 parameter ($\\sigma$)\n",
    "\n",
    "Overall, we need to know p+2 parameters to estimate in this model.\n",
    "\n",
    "The Poisson and the Binomial we have studied are all parametric models. For example, a binomial reponse with a linear predictor and a logit link function.\n",
    "\n",
    "We call that a nonparametric model is a family of probability distributions with infinitely many parameters."
   ]
  },
  {
   "cell_type": "markdown",
   "id": "c8c5a4da",
   "metadata": {},
   "source": [
    "__2) Motivation__: Non-Parametric model"
   ]
  },
  {
   "cell_type": "markdown",
   "id": "6432cff1",
   "metadata": {},
   "source": [
    "A nonparametric statistical model is a family of probability distributions with infinitely many parameters.\n",
    "\n",
    "_Example_:  $\\mathbf Y\\sim N(f(\\mathbf x _1), \\sigma^2I_n)$\n",
    "\n",
    "\n",
    "* Suppose $f(\\mathbf x _1)$ is an arbitrary function. $x_1 \\in [-1,1]$ . This can be any function that has a domain from -1 to 1. Since this function is arbitrary on this interval, no finite set of parameters could spefity its form. We would need an infinite numbers of parameters to specify exactly what this funcion would be. We would need infinite data so what are trying to estimate it."
   ]
  },
  {
   "cell_type": "markdown",
   "id": "64bbf6bc",
   "metadata": {},
   "source": [
    "__3) Motivation__: General form"
   ]
  },
  {
   "cell_type": "markdown",
   "id": "c9b9e7e6",
   "metadata": {},
   "source": [
    "We are trying to model the mean of the response in the following way.\n",
    "\n",
    "A relatively general form of a statistical modeling problem is\n",
    "\n",
    "$$\\mu_i = E(Y_i)=f(x_{i,1},x_{i,2}, \\cdots, x_{i,p} )$$\n",
    "\n",
    "\n",
    "* In Normal regression, $f(\\mathbf x)=\\beta_0+\\beta_1x_{i,1}+\\cdots+\\beta_px_{i,p}$\n",
    "\n",
    "\n",
    "* In Poission regression, $f(\\mathbf x)=exp\\{\\beta_0+\\beta_1x_{i,1}+\\cdots+\\beta_px_{i,p}\\}$\n",
    "\n",
    "Non parametric regression allows us to be more flexible with the form of f.\n",
    "\n",
    "Rather than choose the function form beforehand, e.g:\n",
    "*  $f(\\mathbf x)=\\beta_0+\\beta_1x_{i,1}+\\cdots+\\beta_px_{i,p}$ (normal linear regression)\n",
    "*  $f(\\mathbf x)=exp\\{\\beta_0+\\beta_1x_{i,1}+\\cdots+\\beta_px_{i,p}\\}$ (Poission regression)"
   ]
  },
  {
   "cell_type": "markdown",
   "id": "f4cb39fb",
   "metadata": {},
   "source": [
    "__4) Parametric vs Nonparametric Modeling__"
   ]
  },
  {
   "cell_type": "markdown",
   "id": "21bc6c83",
   "metadata": {},
   "source": [
    "We learn $ f$ by assuming it comes from some smooth family of functions. In this case, the set of potential fits to the data is much larger than the parametric approach."
   ]
  },
  {
   "cell_type": "code",
   "execution_count": 59,
   "id": "fef9abe7",
   "metadata": {},
   "outputs": [
    {
     "data": {
      "text/html": [
       "<table class=\"dataframe\">\n",
       "<caption>A data.frame: 6 × 2</caption>\n",
       "<thead>\n",
       "\t<tr><th></th><th scope=col>x</th><th scope=col>y</th></tr>\n",
       "\t<tr><th></th><th scope=col>&lt;dbl&gt;</th><th scope=col>&lt;dbl&gt;</th></tr>\n",
       "</thead>\n",
       "<tbody>\n",
       "\t<tr><th scope=row>1</th><td>0.45172571</td><td>5.501308</td></tr>\n",
       "\t<tr><th scope=row>2</th><td>1.23826681</td><td>3.177046</td></tr>\n",
       "\t<tr><th scope=row>3</th><td>0.64241945</td><td>4.291206</td></tr>\n",
       "\t<tr><th scope=row>4</th><td>1.38704049</td><td>3.152961</td></tr>\n",
       "\t<tr><th scope=row>5</th><td>1.47728256</td><td>2.933100</td></tr>\n",
       "\t<tr><th scope=row>6</th><td>0.07155998</td><td>4.225805</td></tr>\n",
       "</tbody>\n",
       "</table>\n"
      ],
      "text/latex": [
       "A data.frame: 6 × 2\n",
       "\\begin{tabular}{r|ll}\n",
       "  & x & y\\\\\n",
       "  & <dbl> & <dbl>\\\\\n",
       "\\hline\n",
       "\t1 & 0.45172571 & 5.501308\\\\\n",
       "\t2 & 1.23826681 & 3.177046\\\\\n",
       "\t3 & 0.64241945 & 4.291206\\\\\n",
       "\t4 & 1.38704049 & 3.152961\\\\\n",
       "\t5 & 1.47728256 & 2.933100\\\\\n",
       "\t6 & 0.07155998 & 4.225805\\\\\n",
       "\\end{tabular}\n"
      ],
      "text/markdown": [
       "\n",
       "A data.frame: 6 × 2\n",
       "\n",
       "| <!--/--> | x &lt;dbl&gt; | y &lt;dbl&gt; |\n",
       "|---|---|---|\n",
       "| 1 | 0.45172571 | 5.501308 |\n",
       "| 2 | 1.23826681 | 3.177046 |\n",
       "| 3 | 0.64241945 | 4.291206 |\n",
       "| 4 | 1.38704049 | 3.152961 |\n",
       "| 5 | 1.47728256 | 2.933100 |\n",
       "| 6 | 0.07155998 | 4.225805 |\n",
       "\n"
      ],
      "text/plain": [
       "  x          y       \n",
       "1 0.45172571 5.501308\n",
       "2 1.23826681 3.177046\n",
       "3 0.64241945 4.291206\n",
       "4 1.38704049 3.152961\n",
       "5 1.47728256 2.933100\n",
       "6 0.07155998 4.225805"
      ]
     },
     "metadata": {},
     "output_type": "display_data"
    }
   ],
   "source": [
    "set.seed(123)\n",
    "\n",
    "n = 150\n",
    "x = runif(n, 0, pi/2) \n",
    "y = sin(pi*x) + rnorm(n, 0, 0.5) + 4\n",
    "\n",
    "df = data.frame(x = x, y = y)\n",
    "head(df)"
   ]
  },
  {
   "cell_type": "code",
   "execution_count": 60,
   "id": "035f1871",
   "metadata": {},
   "outputs": [
    {
     "data": {
      "image/png": "[encoded data removed]",
      "text/plain": [
       "Plot with title \"f(x) == sin(pi * x)\""
      ]
     },
     "metadata": {
      "image/png": {
       "height": 360,
       "width": 360
      }
     },
     "output_type": "display_data"
    }
   ],
   "source": [
    "options(repr.plot.width=6, repr.plot.height=6)\n",
    "\n",
    "library(ggplot2)\n",
    "plot(y ~ x, main = expression(f(x) == sin(pi*x)), pch = 16, col = alpha(\"grey\", 0.8))\n",
    "lines(smooth.spline(x, y, spar = 1))"
   ]
  },
  {
   "cell_type": "markdown",
   "id": "e93c68a5",
   "metadata": {},
   "source": [
    "__5) Advantage vs Disadvantage__ of the nonparametric approach:"
   ]
  },
  {
   "cell_type": "markdown",
   "id": "b8e0c496",
   "metadata": {},
   "source": [
    "__Advantage__\n",
    "\n",
    "1. Flexigility\n",
    "2. Fewer distributional assumptions\n",
    "\n",
    "__Disadvantage__\n",
    "1. Less efficient when structure of the relationship is available.\n",
    "2. Interpretation difficulties \n",
    "\n",
    "3. We don't really have a formulaic way of describing the relationship between the predictors and the reponse."
   ]
  },
  {
   "cell_type": "markdown",
   "id": "7aa4d0b6",
   "metadata": {},
   "source": [
    "### 2. Motivating Kernel Estimators"
   ]
  },
  {
   "cell_type": "code",
   "execution_count": 61,
   "id": "8263d6bc",
   "metadata": {},
   "outputs": [],
   "source": [
    "setwd('C:/Users/shims/Desktop/Generalized Linear Models and Nonparametric Regression')"
   ]
  },
  {
   "cell_type": "code",
   "execution_count": 62,
   "id": "bb8d015d",
   "metadata": {},
   "outputs": [],
   "source": [
    "bone <- read.csv('bone.csv', head=TRUE)"
   ]
  },
  {
   "cell_type": "code",
   "execution_count": 63,
   "id": "c09533fb",
   "metadata": {},
   "outputs": [],
   "source": [
    "y=bone$spnbmd\n",
    "x=bone$age"
   ]
  },
  {
   "cell_type": "code",
   "execution_count": 64,
   "id": "439fc756",
   "metadata": {},
   "outputs": [],
   "source": [
    "library(ggplot2)"
   ]
  },
  {
   "cell_type": "markdown",
   "id": "48c208be",
   "metadata": {},
   "source": [
    "__1) Simple Linear model__"
   ]
  },
  {
   "cell_type": "code",
   "execution_count": 65,
   "id": "3bd42bf0",
   "metadata": {},
   "outputs": [
    {
     "name": "stderr",
     "output_type": "stream",
     "text": [
      "`geom_smooth()` using formula 'y ~ x'\n",
      "\n"
     ]
    },
    {
     "data": {
      "image/png": "[encoded data removed]",
      "text/plain": [
       "plot without title"
      ]
     },
     "metadata": {
      "image/png": {
       "height": 360,
       "width": 360
      }
     },
     "output_type": "display_data"
    }
   ],
   "source": [
    "ggplot(bone, aes(x = x, y = y)) + \n",
    "    geom_point(alpha = 0.5) + \n",
    "    geom_smooth(method = \"lm\", col = \"black\") +\n",
    "    theme_bw() + # background color \n",
    "    labs(x = \"Age\", y='Relative Spinal bone mineral density') "
   ]
  },
  {
   "cell_type": "markdown",
   "id": "8a9e6c0c",
   "metadata": {},
   "source": [
    "The plot between Age and Bone density does not appear a linear realationship. A better way to diagnose non-linearity would be to look at the residuals vs fitted values of this linear regression model. We see that there is an evidence of non-constant variance. Also, we see that there is some non-liner structure in the following plot."
   ]
  },
  {
   "cell_type": "code",
   "execution_count": 66,
   "id": "cdec8357",
   "metadata": {},
   "outputs": [
    {
     "data": {
      "image/png": "[encoded data removed]",
      "text/plain": [
       "plot without title"
      ]
     },
     "metadata": {
      "image/png": {
       "height": 360,
       "width": 360
      }
     },
     "output_type": "display_data"
    }
   ],
   "source": [
    "model1 <- lm(y~x)\n",
    "res<-summary(model1)$residuals\n",
    "fitted<-predict(model1)\n",
    "plot(fitted, res, xlab='Fitted values', ylab=\"Residuals\")\n",
    "abline(h=0,lwd=3)"
   ]
  },
  {
   "cell_type": "markdown",
   "id": "023d6300",
   "metadata": {},
   "source": [
    "__2) Polynomial model__"
   ]
  },
  {
   "cell_type": "markdown",
   "id": "4d681864",
   "metadata": {},
   "source": [
    "We could try something like adding polynomial terms to the model. \n",
    "$ Y_i = \\underbrace{\\beta_0+\\beta_1x_i+\\beta_2x^2_i+\\cdots+\\beta_dx^d_i}_\\text{f($x_i$)} + \\epsilon_i$\n",
    "\n",
    "Where d is the degree of the polynomial that we would like to fit.\n",
    "* d=1 : simple linear regression model\n",
    "* d=2 : adding in the square term\n",
    "* d=3 : cubic term\n",
    "\n",
    "Note that if you start with d=5, you need to contain $x, x^2, x^3, x^4, x^5$ in your model."
   ]
  },
  {
   "cell_type": "code",
   "execution_count": 67,
   "id": "db01f89d",
   "metadata": {},
   "outputs": [
    {
     "data": {
      "image/png": "[encoded data removed]",
      "text/plain": [
       "plot without title"
      ]
     },
     "metadata": {
      "image/png": {
       "height": 360,
       "width": 360
      }
     },
     "output_type": "display_data"
    }
   ],
   "source": [
    "ggplot(bone, aes(x = x, y = y)) + \n",
    "    geom_point(alpha = 0.5) + \n",
    "    geom_smooth(method = \"lm\", col = \"black\", formula=y ~ poly(x, 4, raw=TRUE)) +\n",
    "    theme_bw() + # background color \n",
    "    labs(x = \"Age\", y='Relative Spinal bone mineral density') +\n",
    "    ggtitle(\"d=4\") +\n",
    "    theme(plot.title = element_text(hjust = 0.5))"
   ]
  },
  {
   "cell_type": "markdown",
   "id": "cdb64acf",
   "metadata": {},
   "source": [
    "Let see the plot of residuals vs fitted value. It sill show some sings of misfit. Suppose we have several predictors. How would we think about eliminating different terms when we have many possible predictors.? An automated way to decide on the form of x is Kernel smoothing as one non -parametric method."
   ]
  },
  {
   "cell_type": "code",
   "execution_count": 68,
   "id": "83e7bbd9",
   "metadata": {},
   "outputs": [
    {
     "data": {
      "image/png": "[encoded data removed]",
      "text/plain": [
       "plot without title"
      ]
     },
     "metadata": {
      "image/png": {
       "height": 360,
       "width": 360
      }
     },
     "output_type": "display_data"
    }
   ],
   "source": [
    "model2 <- lm(y~poly(x,4))\n",
    "res2<-summary(model2)$residuals\n",
    "fitted2<-predict(model2)\n",
    "plot(fitted2, res2, xlab='Fitted values', ylab=\"Residuals\")\n",
    "abline(h=0,lwd=3)"
   ]
  },
  {
   "cell_type": "markdown",
   "id": "045b9a23",
   "metadata": {},
   "source": [
    "__3) Kernel estimator__"
   ]
  },
  {
   "cell_type": "markdown",
   "id": "a80c745b",
   "metadata": {},
   "source": [
    "This looks similar to the degree 4 polynomial, but we did not make a choice about what the degree of the polymonial is. But we have to make some choice in the Kernel estimator and will discuss later."
   ]
  },
  {
   "cell_type": "code",
   "execution_count": 69,
   "id": "7883d13b",
   "metadata": {},
   "outputs": [],
   "source": [
    "z <- ksmooth(x=bone$age, y=bone$spnbmd, kernel=\"normal\", bandwidth=1)"
   ]
  },
  {
   "cell_type": "code",
   "execution_count": 70,
   "id": "1fd1eafa",
   "metadata": {
    "scrolled": false
   },
   "outputs": [
    {
     "data": {
      "image/png": "[encoded data removed]",
      "text/plain": [
       "plot without title"
      ]
     },
     "metadata": {
      "image/png": {
       "height": 360,
       "width": 360
      }
     },
     "output_type": "display_data"
    }
   ],
   "source": [
    "plot(spnbmd ~ age, data=bone, pch=16, cex=0.8, col = alpha(\"gray\", 0.9), xlab=\"Age\", ylab=\"Relataive Spinal bone mineral density\")\n",
    "lines(z, lwd=3, col = alpha(\"black\", 0.9))"
   ]
  },
  {
   "cell_type": "markdown",
   "id": "cbb02a6b",
   "metadata": {},
   "source": [
    "### 3. Kernel Estimators"
   ]
  },
  {
   "cell_type": "markdown",
   "id": "53dd04c7",
   "metadata": {},
   "source": [
    "__1) Definition__"
   ]
  },
  {
   "cell_type": "markdown",
   "id": "fa8a30d6",
   "metadata": {},
   "source": [
    "A kernel estimator can be understood as a simple weighted local moving average of the reponse. $f$ is not specified and it is to be estimated from the data.\n",
    "\n",
    "Model: $Y_i = f(x_i)+\\epsilon_i$, $\\epsilon_i \\sim N(0, \\sigma^2)$\n",
    "\n",
    "## $\\hat {f}_\\lambda (x) = \\frac{\\frac{1}{n\\lambda}\\sum_{i=1}^n K(\\frac{x-x_i}{\\lambda})Y_i}{\\frac{1}{n\\lambda}\\sum_{i=1}^n K(\\frac{x-x_i}{\\lambda})}$\n",
    "\n",
    "\n",
    "\n",
    "* K is a function of $\\frac{x-x_i}{\\lambda}$. \n",
    "* The $\\lambda$ and $K(\\cdot)$ is basically the weight. \n",
    "If we define $w_i=\\frac{1}{\\lambda}K(\\frac{x-x_i}{\\lambda})$ ,  \n",
    "the function would be \n",
    "$\\hat {f}_\\lambda (x) = \\frac{\\frac{1}{n} \\sum_{i=1}^n w_i Y_i}\n",
    "                             {\\frac{1}{n}\\sum_{i=1}^n w_i}$"
   ]
  },
  {
   "cell_type": "markdown",
   "id": "e846d72b",
   "metadata": {},
   "source": [
    "__Definition__ : A _kernel_ is a nonnegative, real-valued function $K$ such that $K(x)=K(-x)$ for all values of $x$(symmetry) and $\\int K(x) dx = 1$ (normalization). \n",
    "\n",
    "__Note__: Non-negarivitiy and nomralization are defining features of Probability density funcions(PDFs), so we can use PDFs a kernels, ex. normal pdf as kernel."
   ]
  },
  {
   "cell_type": "markdown",
   "id": "6f0f515a",
   "metadata": {},
   "source": [
    "__2). Commnly used kernels__"
   ]
  },
  {
   "cell_type": "markdown",
   "id": "1dd334d5",
   "metadata": {},
   "source": [
    "1. Uniform/ rectangular:  $K(x)=\\frac{1}{2}, \\;\\; -1 \\leq x \\leq 1$\n",
    "2. Gaussian/Normal: $K(x) = \\frac{1}{\\sqrt{2\\pi}}exp\\{\\frac{-x^2}{2}\\}$\n",
    "3. EpanechnikovL $K(x) = \\frac{3}{4}(1-x)^2,  \\;\\; -1 \\leq x \\leq 1 $"
   ]
  },
  {
   "cell_type": "markdown",
   "id": "4ed0469e",
   "metadata": {},
   "source": [
    "__3). Kernel Estimators__"
   ]
  },
  {
   "cell_type": "markdown",
   "id": "e5af4b5b",
   "metadata": {},
   "source": [
    "The _bandwidth_ or _smoothing parameter_ ($\\lambda$) __controls__ the smoothness or bumpiness of the estimate, $\\hat {f}$. In general, smaller $\\lambda$ values will give bumpier fits and larger $\\lambda$ values will give smoother fits."
   ]
  },
  {
   "cell_type": "code",
   "execution_count": 71,
   "id": "0e61532f",
   "metadata": {},
   "outputs": [],
   "source": [
    "z1 <- ksmooth(x=bone$age, y=bone$spnbmd, kernel=\"normal\", bandwidth=0.1)\n",
    "z2 <- ksmooth(x=bone$age, y=bone$spnbmd, kernel=\"normal\", bandwidth=2)\n",
    "z3 <- ksmooth(x=bone$age, y=bone$spnbmd, kernel=\"normal\", bandwidth=10)"
   ]
  },
  {
   "cell_type": "code",
   "execution_count": 72,
   "id": "45b8eb8a",
   "metadata": {},
   "outputs": [
    {
     "data": {
      "image/png": "[encoded data removed]",
      "text/plain": [
       "plot without title"
      ]
     },
     "metadata": {
      "image/png": {
       "height": 360,
       "width": 360
      }
     },
     "output_type": "display_data"
    }
   ],
   "source": [
    "plot(spnbmd ~ age, data=bone, pch=16, cex=0.8, col = alpha(\"gray\", 0.9), xlab=\"Age\", ylab=\"Relataive Spinal bone mineral density\")\n",
    "lines(z1, lwd=3, col = alpha(\"black\", 0.9))\n",
    "lines(z2, lwd=3, col = alpha(\"#046A38\", 0.9))\n",
    "lines(z3, lwd=3, col = alpha(\"#B9975B\", 0.9))\n",
    "\n",
    "\n",
    "legend(x=20, y=0.2, lwd=3, lty=c(1,1,1), legend=c( expression(paste(lambda, \"=0.1\")),  \n",
    "                               expression(paste(lambda, \"=2\")),\n",
    "                            expression(paste(lambda, \"=10\"))),\n",
    "                     col=c('black', '#046A38', '#B9975B'), cex=1.2)"
   ]
  },
  {
   "cell_type": "markdown",
   "id": "91847e61",
   "metadata": {},
   "source": [
    "We see that when $\\lambda$ =0.1, the curve is sensitive in the fit. "
   ]
  },
  {
   "cell_type": "markdown",
   "id": "eef300d0",
   "metadata": {},
   "source": [
    "__4) Bandwidth Selection__ - We can use cross-validation method. "
   ]
  },
  {
   "cell_type": "markdown",
   "id": "ec4fb0ea",
   "metadata": {},
   "source": [
    "### 4. Smoothing Splines"
   ]
  },
  {
   "cell_type": "markdown",
   "id": "23b818d4",
   "metadata": {},
   "source": [
    "__1) Introduction__\n",
    "\n",
    "Another nonparametric regression method is \"Smoothing Splines\".\n",
    "\n",
    "Given the model $Y_i = f(x_i) + \\epsilon_i $ , we might consider choosing $\\hat f $ by minimizing:\n",
    "$$ MSE  = \\frac{1}{n}\\sum_{i=1}^n (Y_i - f(x_i))^2$$\n",
    "\n",
    "Instead of minimizing the MSE, we can minimize the sum of MSE and the oter term. The $\\int$ term is called the roughness penalty. THe roughness penalty will basically penalize certain functions for being too wiggly or too rough. We have also $\\lambda$ which is a real number and greater than 0, it is a smoothing parameter. It will control how much the roughness penalty matters in this minimization problem.\n",
    "\n",
    "\n",
    "$$\\underbrace{ \\frac{1}{n}\\sum_{i=1}^n (Y_i - f(x_i))^2}_\\text{fit} + \n",
    "  \\underbrace{  \\lambda \\int [f^{\\prime\\prime}(x)]^2dx}_\\text{smoothness}$$\n",
    "  \n",
    "  * fit : the smaller the term is the closer the fit will be the data.\n",
    "  * smootheness: It penalizes functions that have more curvature.\n",
    "      * If $f(x)$ is a linear, $f^{\\prime\\prime}(x)=0$ and $\\int \n",
    "      f^{\\prime\\prime}(x)^2dx=0$ . That is great for minimization. But actually, we have more complexed model, so the smoothness term is to be positive not just zero."
   ]
  },
  {
   "cell_type": "markdown",
   "id": "6e47634e",
   "metadata": {},
   "source": [
    "__2) Example__"
   ]
  },
  {
   "cell_type": "markdown",
   "id": "11931486",
   "metadata": {},
   "source": [
    "__Definition__: A _spline_ is a piecewise function, where each segment is a polynomial. \n",
    "\n",
    "__Definition__: A _**cubic**_ spline is a spline where the segment polyomials are each of __degress three__. \n",
    "\n",
    "Splines are meant to be continuous and have continuous derivatives. "
   ]
  },
  {
   "cell_type": "markdown",
   "id": "08870029",
   "metadata": {},
   "source": []
  },
  {
   "cell_type": "markdown",
   "id": "8fb7e8a0",
   "metadata": {},
   "source": [
    "## Graph is under-construcction. "
   ]
  },
  {
   "cell_type": "code",
   "execution_count": 73,
   "id": "632938cf",
   "metadata": {},
   "outputs": [
    {
     "name": "stderr",
     "output_type": "stream",
     "text": [
      "Warning message:\n",
      "\"package 'splines' is a base package, and should not be updated\"\n"
     ]
    }
   ],
   "source": [
    "install.packages('splines')"
   ]
  },
  {
   "cell_type": "code",
   "execution_count": 74,
   "id": "6abc2cae",
   "metadata": {},
   "outputs": [],
   "source": [
    "x <- c(0,1,2,3,4,5,6,7,8,9,10)\n",
    "y <- c(1,1,0.9,0.5, -0.3, -0.9, -0.7, 0.7, 0.7, -0.9, 0.1)"
   ]
  },
  {
   "cell_type": "code",
   "execution_count": 75,
   "id": "071bbf35",
   "metadata": {},
   "outputs": [],
   "source": [
    "xy<- data.frame(cbind(x,y))"
   ]
  },
  {
   "cell_type": "code",
   "execution_count": 76,
   "id": "1a7ff99d",
   "metadata": {},
   "outputs": [],
   "source": [
    "func = splinefun(x=x, y=y, method=\"fmm\",  ties = mean)"
   ]
  },
  {
   "cell_type": "code",
   "execution_count": 14,
   "id": "e923ea7b",
   "metadata": {},
   "outputs": [],
   "source": [
    "lm.poly <- lm( y ~ poly(x, 3))"
   ]
  },
  {
   "cell_type": "code",
   "execution_count": 16,
   "id": "34fca002",
   "metadata": {},
   "outputs": [
    {
     "data": {
      "text/plain": [
       "\n",
       "Call:\n",
       "lm(formula = y ~ poly(x, 3))\n",
       "\n",
       "Coefficients:\n",
       "(Intercept)  poly(x, 3)1  poly(x, 3)2  poly(x, 3)3  \n",
       "     0.1909      -1.2109       0.8979      -0.1557  \n"
      ]
     },
     "metadata": {},
     "output_type": "display_data"
    }
   ],
   "source": [
    "lm.poly "
   ]
  },
  {
   "cell_type": "code",
   "execution_count": 20,
   "id": "3852f55e",
   "metadata": {},
   "outputs": [
    {
     "ename": "ERROR",
     "evalue": "Error in bs(x, df = 3): could not find function \"bs\"\n",
     "output_type": "error",
     "traceback": [
      "Error in bs(x, df = 3): could not find function \"bs\"\nTraceback:\n",
      "1. lm(y ~ bs(x, df = 3))",
      "2. eval(mf, parent.frame())",
      "3. eval(mf, parent.frame())",
      "4. stats::model.frame(formula = y ~ bs(x, df = 3), drop.unused.levels = TRUE)",
      "5. model.frame.default(formula = y ~ bs(x, df = 3), drop.unused.levels = TRUE)",
      "6. eval(predvars, data, env)",
      "7. eval(predvars, data, env)"
     ]
    }
   ],
   "source": [
    "lm( y ~ bs(x, df=3))"
   ]
  },
  {
   "cell_type": "code",
   "execution_count": 11,
   "id": "9ccec62b",
   "metadata": {
    "scrolled": true
   },
   "outputs": [
    {
     "ename": "ERROR",
     "evalue": "Error in ns(x): could not find function \"ns\"\n",
     "output_type": "error",
     "traceback": [
      "Error in ns(x): could not find function \"ns\"\nTraceback:\n"
     ]
    }
   ],
   "source": [
    "ns(x)"
   ]
  },
  {
   "cell_type": "code",
   "execution_count": 17,
   "id": "a9eda7f5",
   "metadata": {
    "scrolled": true
   },
   "outputs": [
    {
     "name": "stderr",
     "output_type": "stream",
     "text": [
      "Warning message in abline(lm.poly):\n",
      "\"only using the first two of 4 regression coefficients\"\n"
     ]
    },
    {
     "data": {
      "image/png": "[encoded data removed]",
      "text/plain": [
       "plot without title"
      ]
     },
     "metadata": {
      "image/png": {
       "height": 420,
       "width": 420
      }
     },
     "output_type": "display_data"
    }
   ],
   "source": [
    "plot( x, y, col='blue')\n",
    "lines(smooth.spline(x, y, spar = 0), col=\"orange\", lwd=3)\n",
    "lines(smooth.spline(x, y, spar = 0.3, , cv=TRUE), lwd=3, lty=2)\n",
    "abline(lm.poly)"
   ]
  },
  {
   "cell_type": "code",
   "execution_count": null,
   "id": "a43c68ce",
   "metadata": {},
   "outputs": [],
   "source": [
    "https://timodenk.com/blog/cubic-spline-interpolation/"
   ]
  },
  {
   "cell_type": "markdown",
   "id": "adce449a",
   "metadata": {},
   "source": [
    "__3) Smoothing Splines__\n",
    "\n",
    "__Definition__: A _**smoothing spline**_ is a spline desigend to balance fit with smoothness. The smoothing spline is defined in terms of the minimization of the function from \n",
    "\n",
    "$$\\underbrace{ \\frac{1}{n}\\sum_{i=1}^n (Y_i - f(x_i))^2}_\\text{fit} + \n",
    "  \\underbrace{  \\lambda \\int [f^{\\prime\\prime}(x)]^2dx}_\\text{smoothness}$$\n",
    "\n",
    "\n",
    "In the following figure:\n",
    "\n",
    "* the dotted line: a cubic spline\n",
    "* the solid line: a cubic smoothing spline\n",
    "\n",
    "The regular cubic spline is more wiggly than the cubic smoothing spline becase of the second term of the function."
   ]
  },
  {
   "cell_type": "code",
   "execution_count": null,
   "id": "eb3cd501",
   "metadata": {},
   "outputs": [],
   "source": [
    "## Graph is under-construcction. "
   ]
  },
  {
   "cell_type": "code",
   "execution_count": 44,
   "id": "3dc8c821",
   "metadata": {},
   "outputs": [],
   "source": [
    "x <- c(0, 1, 2, 3, 4, 5, 6)\n",
    "y <- c(1, 2, 0.5, 1.5, 2.5, 2.5, 0.5)"
   ]
  },
  {
   "cell_type": "code",
   "execution_count": 49,
   "id": "28f10476",
   "metadata": {},
   "outputs": [
    {
     "data": {
      "image/png": "[encoded data removed]",
      "text/plain": [
       "plot without title"
      ]
     },
     "metadata": {
      "image/png": {
       "height": 360,
       "width": 600
      }
     },
     "output_type": "display_data"
    }
   ],
   "source": [
    "plot(x, y)\n",
    "lines(smooth.spline(x,y, spar = 0.4))"
   ]
  },
  {
   "cell_type": "markdown",
   "id": "61f157be",
   "metadata": {},
   "source": [
    "A cubic smoothing spline is the class of functions that minimizes\n",
    "\n",
    "\n",
    "$$\\underbrace{ \\frac{1}{n}\\sum_{i=1}^n (Y_i - f(x_i))^2}_\\text{fit} + \n",
    "  \\underbrace{  \\lambda \\int [f^{\\prime\\prime}(x)]^2dx}_\\text{smoothness}$$\n",
    "\n",
    "Since we know the form of the solution, the estimation problem is reduced to a parametric problem of estimating coefficients of the piecewise polynomials. "
   ]
  },
  {
   "cell_type": "markdown",
   "id": "15f15392",
   "metadata": {},
   "source": [
    "__4) Smoothing Splines in R__"
   ]
  },
  {
   "cell_type": "code",
   "execution_count": 36,
   "id": "f8bcfa3b",
   "metadata": {},
   "outputs": [
    {
     "data": {
      "text/html": [
       "<table class=\"dataframe\">\n",
       "<caption>A data.frame: 6 × 2</caption>\n",
       "<thead>\n",
       "\t<tr><th></th><th scope=col>x</th><th scope=col>y</th></tr>\n",
       "\t<tr><th></th><th scope=col>&lt;dbl&gt;</th><th scope=col>&lt;dbl&gt;</th></tr>\n",
       "</thead>\n",
       "<tbody>\n",
       "\t<tr><th scope=row>1</th><td>0.45172571</td><td>5.501308</td></tr>\n",
       "\t<tr><th scope=row>2</th><td>1.23826681</td><td>3.177046</td></tr>\n",
       "\t<tr><th scope=row>3</th><td>0.64241945</td><td>4.291206</td></tr>\n",
       "\t<tr><th scope=row>4</th><td>1.38704049</td><td>3.152961</td></tr>\n",
       "\t<tr><th scope=row>5</th><td>1.47728256</td><td>2.933100</td></tr>\n",
       "\t<tr><th scope=row>6</th><td>0.07155998</td><td>4.225805</td></tr>\n",
       "</tbody>\n",
       "</table>\n"
      ],
      "text/latex": [
       "A data.frame: 6 × 2\n",
       "\\begin{tabular}{r|ll}\n",
       "  & x & y\\\\\n",
       "  & <dbl> & <dbl>\\\\\n",
       "\\hline\n",
       "\t1 & 0.45172571 & 5.501308\\\\\n",
       "\t2 & 1.23826681 & 3.177046\\\\\n",
       "\t3 & 0.64241945 & 4.291206\\\\\n",
       "\t4 & 1.38704049 & 3.152961\\\\\n",
       "\t5 & 1.47728256 & 2.933100\\\\\n",
       "\t6 & 0.07155998 & 4.225805\\\\\n",
       "\\end{tabular}\n"
      ],
      "text/markdown": [
       "\n",
       "A data.frame: 6 × 2\n",
       "\n",
       "| <!--/--> | x &lt;dbl&gt; | y &lt;dbl&gt; |\n",
       "|---|---|---|\n",
       "| 1 | 0.45172571 | 5.501308 |\n",
       "| 2 | 1.23826681 | 3.177046 |\n",
       "| 3 | 0.64241945 | 4.291206 |\n",
       "| 4 | 1.38704049 | 3.152961 |\n",
       "| 5 | 1.47728256 | 2.933100 |\n",
       "| 6 | 0.07155998 | 4.225805 |\n",
       "\n"
      ],
      "text/plain": [
       "  x          y       \n",
       "1 0.45172571 5.501308\n",
       "2 1.23826681 3.177046\n",
       "3 0.64241945 4.291206\n",
       "4 1.38704049 3.152961\n",
       "5 1.47728256 2.933100\n",
       "6 0.07155998 4.225805"
      ]
     },
     "metadata": {},
     "output_type": "display_data"
    }
   ],
   "source": [
    "set.seed(123)\n",
    "\n",
    "n = 150\n",
    "x = runif(n, 0, pi/2) \n",
    "y = sin(pi*x) + rnorm(n, 0, 0.5) + 4\n",
    "\n",
    "df = data.frame(x = x, y = y)\n",
    "head(df)"
   ]
  },
  {
   "cell_type": "code",
   "execution_count": 42,
   "id": "454e3249",
   "metadata": {},
   "outputs": [
    {
     "data": {
      "image/png": "[encoded data removed]",
      "text/plain": [
       "Plot with title \"f(x) == sin(pi * x)\""
      ]
     },
     "metadata": {
      "image/png": {
       "height": 360,
       "width": 600
      }
     },
     "output_type": "display_data"
    }
   ],
   "source": [
    "options(repr.plot.width=10, repr.plot.height=6)\n",
    "\n",
    "par(mfrow=c(1,2))\n",
    "\n",
    "library(ggplot2)\n",
    "plot(y ~ x, main = expression(f(x) == sin(pi*x)), pch = 16, col = alpha(\"grey\", 0.8))\n",
    "lines(smooth.spline(x, y, spar = 0.5))\n",
    "\n",
    "plot(y ~ x, main = expression(f(x) == sin(pi*x)), pch = 16, col = alpha(\"grey\", 0.8))\n",
    "lines(smooth.spline(x,y, spar = 1))"
   ]
  },
  {
   "cell_type": "markdown",
   "id": "5f2767c0",
   "metadata": {},
   "source": [
    "The two plots will show different values of a function of $\\lambda$. Different $\\lambda$ will give you different fits. The left graph is with small $\\lambda$ and the right graph with relatively large $\\lambda$. (small $\\lambda$ is placing low emphasis on smoothness.)\n",
    "\n",
    "In the R function, __smooth.spline(x,y, spar= ...)__ spar is a function of $\\lambda$.\n",
    "\n",
    "You can try many $\\lambda$s, and then you can choose one, but there also are automatic methods for choosing $\\lambda$ like cross-validation."
   ]
  },
  {
   "cell_type": "markdown",
   "id": "7a135ddd",
   "metadata": {},
   "source": [
    "### 5. Loess: Locally Estimated Scatterplot Smoothing"
   ]
  },
  {
   "cell_type": "markdown",
   "id": "c8ed6fef",
   "metadata": {},
   "source": [
    "__1) General Structure of fitting a statistical model__\n",
    "\n",
    "Given the model $Y_i = f(x_i) + \\epsilon_i $ , we might consider choosing $\\hat f $ by minimizing:\n",
    "$$ MSE  = \\frac{1}{n}\\sum_{i=1}^n (Y_i - f(x_i))^2$$"
   ]
  },
  {
   "cell_type": "markdown",
   "id": "14b0d3cc",
   "metadata": {},
   "source": [
    "__2) $f(x)=?$__\n",
    "\n",
    "* In the linear regression, we set $f(x)$ is a linear fuction parameters.Then we can use R funcion.\n",
    "\n",
    "* We can set up $f(x)$ taylor expansion. Why this is helpful? Suppose...the talyor expansion term is coeffiecit term.  $f(x) \\approx \n",
    "       \\underbrace{ f(x_0)}_\\text{$\\beta_0$} + \n",
    "       \\underbrace{ \\frac{f^{\\prime}(x_0)}{1!}}_\\text{$\\beta_1$}(x-x_0) \n",
    "+\\cdots+ \\underbrace{\\frac{f^{(p)}(x_0)}{p!}}_\\text{$\\beta_p$}(x-x_0)^p$\n",
    "\n",
    "We can interpret this as a polynomial of degree p with coefficients. That puts us back in to the linear regression context. \n"
   ]
  },
  {
   "cell_type": "markdown",
   "id": "77979cc6",
   "metadata": {},
   "source": [
    "__3) $MSE_{Taylor}$__"
   ]
  },
  {
   "cell_type": "markdown",
   "id": "288823bf",
   "metadata": {},
   "source": [
    "We can obtain MSE of polynomial\n",
    "\n",
    "$MSE_{Taylor} = \\frac{1}{n}\n",
    "                \\sum_{i=1}^{n} \n",
    "                (Y_i - \n",
    "                \\sum_{j=0}^p\n",
    "                \\beta_j(x-x_0)^p)^2)$\n",
    "                \n",
    "Where $\\beta_j = \\frac{f^{(j)}(x_0)}{j!}$\n",
    "\n",
    "So we can estimate those terms using ordinary least squares. > we have a linear square problem."
   ]
  },
  {
   "cell_type": "markdown",
   "id": "a2780d76",
   "metadata": {},
   "source": [
    "__MSE using taylor expansion using a weight funcion__\n",
    "\n",
    "\n",
    "$MSE^w_{Taylor} = \\frac{1}{n}\n",
    "                \\sum_{i=1}^{n} \\underbrace{ w_i(x-x_0)}_\\text{(*)}\n",
    "                (Y_i - \n",
    "                \\sum_{j=0}^p\n",
    "                \\beta_j(x-x_0)^p)^2)$\n",
    "                \n",
    "Where $\\beta_j = \\frac{f^{(j)}(x_0)}{j!}$, \n",
    "\n",
    "(*) only care about points very close to $x_0$\n",
    "\n",
    "\n",
    "There are different possible weight function you can use, the standard one is\n",
    "\n",
    "\n",
    "$w_i(x) =\\begin{cases} (1 - |x|^3)^3  & if \\; |x| <1 \\\\\n",
    "                         1  & if  \\; |x| \\ge 1\n",
    "       \\end{cases}$\n",
    "       \n",
    "       \n",
    "* R has easy ways of fitting the loess model to the data. "
   ]
  },
  {
   "cell_type": "markdown",
   "id": "7038d973",
   "metadata": {},
   "source": [
    "__4) Advantages and disadvantaages to the loess mothod.__\n",
    "\n",
    "* Advantages:\n",
    "    1. Flexible fit ( we can use pre-specified model such aslinear regression model)\n",
    "    2. Relatively simple to implement\n",
    "    3. Uncertainty quantification\n",
    "    \n",
    "    \n",
    "* Disadvantages:\n",
    "    1. Can be computationally expensive\n",
    "    2. Interpretation cna be more difficult\n",
    "    3. Requires relarively large, densely smpled data in order to produce a good model. If you have a pretty sparse data set, then this could be problematic in giving a nice fit. "
   ]
  },
  {
   "cell_type": "code",
   "execution_count": null,
   "id": "04056ccb",
   "metadata": {},
   "outputs": [],
   "source": []
  }
 ],
 "metadata": {
  "kernelspec": {
   "display_name": "R",
   "language": "R",
   "name": "ir"
  },
  "language_info": {
   "codemirror_mode": "r",
   "file_extension": ".r",
   "mimetype": "text/x-r-source",
   "name": "R",
   "pygments_lexer": "r",
   "version": "4.1.3"
  }
 },
 "nbformat": 4,
 "nbformat_minor": 5
}
