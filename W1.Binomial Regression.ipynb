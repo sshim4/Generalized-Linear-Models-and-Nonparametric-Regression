{
 "cells": [
  {
   "cell_type": "code",
   "execution_count": 2,
   "id": "3a34af28",
   "metadata": {},
   "outputs": [
    {
     "name": "stdout",
     "output_type": "stream",
     "text": [
      "Last updated  Tue Oct 11 17:15:38 2022"
     ]
    }
   ],
   "source": [
    "cat('Last updated ', date())"
   ]
  },
  {
   "cell_type": "markdown",
   "id": "6e103e49",
   "metadata": {},
   "source": [
    "_This is a study note while I am taking __Generalized Linear Models and Nonparametric Regression__ offered by University of Colorado Boulder in Coursera_"
   ]
  },
  {
   "cell_type": "markdown",
   "id": "0d5ace2f",
   "metadata": {},
   "source": [
    "__markdown mathematical formula__\n",
    "https://nocomplexity.com/documents/jupyterlab/notebooks/TypesettingEquations.html"
   ]
  },
  {
   "cell_type": "markdown",
   "id": "48175f06",
   "metadata": {},
   "source": [
    "# I. Introduaction to Binomial Regression"
   ]
  },
  {
   "cell_type": "markdown",
   "id": "912ca09f",
   "metadata": {},
   "source": [
    "Each $y_i$ is a realization from a bionomially distribution random varaible $Y_i$. $Y_i \\sim binomial(n_i, p_i)$\n",
    "* $\\mathbf{y}$ : Reponse\n",
    "* $\\mathbf{x_1, x_2, \\cdots, x_p}$ : Covariate class"
   ]
  },
  {
   "cell_type": "markdown",
   "id": "1299b067",
   "metadata": {},
   "source": [
    "\\begin{pmatrix}\n",
    "\\mathbf{y} & \\mathbf{x_1} & \\mathbf{x_2}  & \\mathbf{\\cdots} & \\mathbf{x_p}\\\\\n",
    "        y_1 &  x_{1,1} & x_{1,2} & \\cdots & x_{1,p}   \\\\\n",
    "        y_2 &  x_{2,1} & x_{2,2} & \\cdots & x_{2,p}   \\\\\n",
    "        \\vdots & \\vdots & \\vdots & \\ddots & \\vdots \\\\ \n",
    "        y_n & x_{n,1} & x_{n,2} & \\cdots & x_{n,p}\n",
    "\\end{pmatrix}  "
   ]
  },
  {
   "cell_type": "markdown",
   "id": "29753307",
   "metadata": {},
   "source": [
    "Logistic regression: a special case of bionomial regression: y_i is a realization from \n",
    "$$Y_i \\stackrel{i}{\\sim} binomial(1, p_i)$$ , which is Bernoulli distribution."
   ]
  },
  {
   "cell_type": "markdown",
   "id": "fbdd9287",
   "metadata": {},
   "source": [
    "## 1. Random Component"
   ]
  },
  {
   "cell_type": "markdown",
   "id": "f36eb4a2",
   "metadata": {},
   "source": [
    "Random component. Each $y_i$ is a realization of $Y_i \\sim binomial(n_i, p_i)$ <br> And we assume tht the $Y_i$s are indendent."
   ]
  },
  {
   "cell_type": "markdown",
   "id": "95d8c3d9",
   "metadata": {},
   "source": [
    "__Goals:__\n",
    "1. Predict or explain $E(Y_i) = \\mu_i = n_ip_i$\n",
    "\n",
    "2. Predict or explain __$p_i$__ using a covariate class, $x_{i,1}, \\cdots, x_{i,p}$"
   ]
  },
  {
   "cell_type": "markdown",
   "id": "b2615aa5",
   "metadata": {},
   "source": [
    "__systematic component__: is a __linear combination__ of the covariate class for explaining or predicting the probability of success $p_i$.\n",
    "\n",
    "$$\\eta_i = \\beta_0 + \\beta x_{i,1} + \\cdots + \\beta_p x_{i,p}$$\n",
    "\n",
    "However, we cannot simlpy use $\\eta$ directly to predict $p_i$ because this systematic component will be bewtween 0 and 1, which required of probabilities. The linear predictor here could predict a value of2, and that would not be a good prediction of a probability which nedds to be between 0 and 1. Thus, we must have a way to link this linear predictor to the probabiliy of successm and that is what the link function does."
   ]
  },
  {
   "cell_type": "markdown",
   "id": "6480e049",
   "metadata": {},
   "source": [
    "__The link function__, g, describes how the mean reponse, $\\mu = E(Y) $ (or some function of the mean), is linked $\\eta$:\n",
    "\n",
    "$$g(\\mu_i)=\\eta_i = \\beta_0 + \\beta x_{i,1} + \\cdots + \\beta_p x_{i,p}$$ or\n",
    "\n",
    "$$g(p_i)=\\eta_i = \\beta_0 + \\beta x_{i,1} + \\cdots + \\beta_p x_{i,p}$$\n",
    "\n",
    "The link function link the mean of the reponse to the linear predictor. In our case, we could use the mearn or we will link the probabiliy of success."
   ]
  },
  {
   "cell_type": "markdown",
   "id": "f5fa42fd",
   "metadata": {},
   "source": [
    "__Link functions__: There are different choices for link functions.\n",
    "\n",
    "1. The canonical link function is __Logit__ link ( most popular/defaut in R):\n",
    "\n",
    "$$ \\eta_i \\stackrel{set} =  g(p_i)=log(\\frac{p_i}{1-p_i}) = \\theta $$\n",
    "\n",
    "* this is the canonical link function because it relates the linear predictor $\\eta$ to the canonical parameter $\\theta$ from the exponencial family. \n",
    "\n",
    "2. Probit link function: \n",
    "$$g(p_i) = \\Phi ^{-1}(p_i) $$, $\\Phi ^{-1}$ : Iverse of standard normal distribution.  "
   ]
  },
  {
   "cell_type": "markdown",
   "id": "672a28ac",
   "metadata": {},
   "source": [
    "## II. Binomial Regression Parameter Estimation"
   ]
  },
  {
   "cell_type": "markdown",
   "id": "ff23b3ea",
   "metadata": {},
   "source": [
    "### Binomial/Logistic Regression \n",
    "\n",
    "Parameter estimation - Maximum likelihood estimation\n",
    "\n",
    "1. Marginal pmf\n",
    "2. Joing pmf\n",
    "3. Likelihood funcion\n",
    "4. Log-likelihood function\n",
    "5. Maximize\n"
   ]
  },
  {
   "cell_type": "markdown",
   "id": "31639410",
   "metadata": {},
   "source": [
    "### 1. Marginal pmf\n",
    "$P(Y_i=y_i) = {n_i \\choose y_i}p_i^{y_i}(1-p_i)^{n_i-y_i}$, <br>\n",
    "where  <br>\n",
    "$p_i= \\frac{e^{\\theta_i}}{1+e^{\\theta_i}}$, <br> \n",
    "$\\theta_i = log(\\frac{p_i}{1-p_i})=\\eta_i=\\beta_0+\\beta1x_{i,1}+\\cdots+\\beta_px_{i,p}$"
   ]
  },
  {
   "cell_type": "markdown",
   "id": "07ae49ba",
   "metadata": {},
   "source": [
    "### 2. Joing pmf\n",
    "Because we assume each $Y_i$s are independent"
   ]
  },
  {
   "cell_type": "markdown",
   "id": "23418906",
   "metadata": {},
   "source": [
    "$$\\begin{eqnarray} \n",
    "f(\\mathbf{\\underline y}; n_i, p_i) &=& \\prod_{i=1}^{n} {n_i \\choose y_i}p_i^{y_i}(1-p_i)^{n_i-y_i} \\\\\n",
    " &=& \\prod_{i=1}^{n}{n_i \\choose y_i} [\\frac{e^{\\eta_i}}{{1+e^{\\eta_i}}}]^{y_i}(1- [\\frac{e^{\\eta_i}}{{1+e^{\\eta_i}}}])^{n_i-y_i}\n",
    "\\end{eqnarray}$$"
   ]
  },
  {
   "cell_type": "markdown",
   "id": "d94c02c2",
   "metadata": {},
   "source": [
    "### 3. Likelihood function "
   ]
  },
  {
   "cell_type": "markdown",
   "id": "2f7203ae",
   "metadata": {},
   "source": [
    "$$\\begin{eqnarray} \n",
    "L(\\mathbf{{\\underline \\beta}})&=&f(\\mathbf{\\underline y}; n_i, p_i)\\\\\n",
    "&=& \\prod_{i=1}^{n}{n_i \\choose y_i} [\\frac{e^{\\eta_i}}{{1+e^{\\eta_i}}}]^{y_i}(1- [\\frac{e^{\\eta_i}}{{1+e^{\\eta_i}}}])^{n_i-y_i}\n",
    "\\end{eqnarray}$$"
   ]
  },
  {
   "cell_type": "markdown",
   "id": "d39e4ef7",
   "metadata": {},
   "source": [
    "Where $\\mathbf{{\\underline \\beta}} = (\\eta_1, \\eta_2, \\cdots, \\eta_k)^T $"
   ]
  },
  {
   "cell_type": "markdown",
   "id": "f469f52c",
   "metadata": {},
   "source": [
    "### 4. Log-likelihood function"
   ]
  },
  {
   "cell_type": "markdown",
   "id": "8035cb58",
   "metadata": {},
   "source": [
    "$$\\begin{eqnarray} \n",
    "l(\\mathbf{{\\underline \\beta}}) &=& log L(\\mathbf{{\\underline \\beta}})\\\\\n",
    "&=& \\sum_{i=1}^{n}[y_i\\eta_i - n_i log(1+e^{\\eta_i}) + log{n_i \\choose y_i}]\\\\\n",
    "\\end{eqnarray}$$"
   ]
  },
  {
   "cell_type": "markdown",
   "id": "bfa2f9bf",
   "metadata": {},
   "source": [
    "But, you see that this log likelihood is not liear. That means we cannot use straightforward linear techniques to get analytic solutions to this maximization problem. "
   ]
  },
  {
   "cell_type": "markdown",
   "id": "66334c59",
   "metadata": {},
   "source": [
    "### 5. Maximize"
   ]
  },
  {
   "cell_type": "markdown",
   "id": "79dd5ce0",
   "metadata": {},
   "source": [
    "Instaed, we will some iterative technique. So, we won't get an exact solution.\n",
    "We will get an approximation solution usaing a numerical iterative technique."
   ]
  },
  {
   "cell_type": "markdown",
   "id": "40aa56ce",
   "metadata": {},
   "source": [
    "## III. Interpretaion of Binomial Regression"
   ]
  },
  {
   "cell_type": "markdown",
   "id": "ce1e00a9",
   "metadata": {},
   "source": [
    "Editing..."
   ]
  }
 ],
 "metadata": {
  "kernelspec": {
   "display_name": "R",
   "language": "R",
   "name": "ir"
  },
  "language_info": {
   "codemirror_mode": "r",
   "file_extension": ".r",
   "mimetype": "text/x-r-source",
   "name": "R",
   "pygments_lexer": "r",
   "version": "4.1.3"
  }
 },
 "nbformat": 4,
 "nbformat_minor": 5
}
