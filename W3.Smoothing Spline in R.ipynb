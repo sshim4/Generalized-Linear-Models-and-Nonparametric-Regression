{
 "cells": [
  {
   "cell_type": "code",
   "execution_count": 1,
   "id": "d6020531",
   "metadata": {},
   "outputs": [
    {
     "name": "stdout",
     "output_type": "stream",
     "text": [
      "Last updated  Sat Oct 22 13:13:38 2022"
     ]
    }
   ],
   "source": [
    "cat('Last updated ', date())"
   ]
  },
  {
   "cell_type": "markdown",
   "id": "80bd631e",
   "metadata": {},
   "source": [
    "_This is a study note while I am studyig __Generalized Linear Models and Nonparametric Regression__ offered by University of Colorado Boulder in Coursera_"
   ]
  },
  {
   "cell_type": "markdown",
   "id": "656acd20",
   "metadata": {},
   "source": [
    "### Smoothing Spline in R"
   ]
  },
  {
   "cell_type": "markdown",
   "id": "ac73b800",
   "metadata": {},
   "source": [
    "Suppose $U(0,\\pi/2)$, and let $Y = \\sin(\\pi x) + \\varepsilon$, where $\\varepsilon \\overset{iid}{\\sim} N(0,0.5^2)$."
   ]
  },
  {
   "cell_type": "code",
   "execution_count": 39,
   "id": "307f8874",
   "metadata": {},
   "outputs": [
    {
     "data": {
      "text/html": [
       "<table class=\"dataframe\">\n",
       "<caption>A data.frame: 6 × 2</caption>\n",
       "<thead>\n",
       "\t<tr><th></th><th scope=col>x</th><th scope=col>y</th></tr>\n",
       "\t<tr><th></th><th scope=col>&lt;dbl&gt;</th><th scope=col>&lt;dbl&gt;</th></tr>\n",
       "</thead>\n",
       "<tbody>\n",
       "\t<tr><th scope=row>1</th><td>0.45172571</td><td>5.501308</td></tr>\n",
       "\t<tr><th scope=row>2</th><td>1.23826681</td><td>3.177046</td></tr>\n",
       "\t<tr><th scope=row>3</th><td>0.64241945</td><td>4.291206</td></tr>\n",
       "\t<tr><th scope=row>4</th><td>1.38704049</td><td>3.152961</td></tr>\n",
       "\t<tr><th scope=row>5</th><td>1.47728256</td><td>2.933100</td></tr>\n",
       "\t<tr><th scope=row>6</th><td>0.07155998</td><td>4.225805</td></tr>\n",
       "</tbody>\n",
       "</table>\n"
      ],
      "text/latex": [
       "A data.frame: 6 × 2\n",
       "\\begin{tabular}{r|ll}\n",
       "  & x & y\\\\\n",
       "  & <dbl> & <dbl>\\\\\n",
       "\\hline\n",
       "\t1 & 0.45172571 & 5.501308\\\\\n",
       "\t2 & 1.23826681 & 3.177046\\\\\n",
       "\t3 & 0.64241945 & 4.291206\\\\\n",
       "\t4 & 1.38704049 & 3.152961\\\\\n",
       "\t5 & 1.47728256 & 2.933100\\\\\n",
       "\t6 & 0.07155998 & 4.225805\\\\\n",
       "\\end{tabular}\n"
      ],
      "text/markdown": [
       "\n",
       "A data.frame: 6 × 2\n",
       "\n",
       "| <!--/--> | x &lt;dbl&gt; | y &lt;dbl&gt; |\n",
       "|---|---|---|\n",
       "| 1 | 0.45172571 | 5.501308 |\n",
       "| 2 | 1.23826681 | 3.177046 |\n",
       "| 3 | 0.64241945 | 4.291206 |\n",
       "| 4 | 1.38704049 | 3.152961 |\n",
       "| 5 | 1.47728256 | 2.933100 |\n",
       "| 6 | 0.07155998 | 4.225805 |\n",
       "\n"
      ],
      "text/plain": [
       "  x          y       \n",
       "1 0.45172571 5.501308\n",
       "2 1.23826681 3.177046\n",
       "3 0.64241945 4.291206\n",
       "4 1.38704049 3.152961\n",
       "5 1.47728256 2.933100\n",
       "6 0.07155998 4.225805"
      ]
     },
     "metadata": {},
     "output_type": "display_data"
    }
   ],
   "source": [
    "set.seed(123)\n",
    "\n",
    "n = 150\n",
    "x = runif(n, 0, pi/2) \n",
    "y = sin(pi*x) + rnorm(n, 0, 0.5) + 4\n",
    "\n",
    "df = data.frame(x = x, y = y)\n",
    "head(df)"
   ]
  },
  {
   "cell_type": "markdown",
   "id": "dc981eb7",
   "metadata": {},
   "source": [
    "A cubic smoothing spline is the class of functions that minimizes\n",
    "\n",
    "\n",
    "$$\\underbrace{ \\frac{1}{n}\\sum_{i=1}^n (Y_i - f(x_i))^2}_\\text{fit} + \n",
    "  \\underbrace{  \\lambda \\int [f^{\\prime\\prime}(x)]^2dx}_\\text{smoothness}$$"
   ]
  },
  {
   "cell_type": "markdown",
   "id": "e2f85259",
   "metadata": {},
   "source": [
    "In the R function, __smooth.spline(x,y, spar= ...)__ spar is a function of $\\lambda$."
   ]
  },
  {
   "cell_type": "code",
   "execution_count": null,
   "id": "9d098f2e",
   "metadata": {},
   "outputs": [],
   "source": [
    "# install.packages('cowplot')\n",
    "library(cowplot)\n",
    "library(ggplot2)"
   ]
  },
  {
   "cell_type": "code",
   "execution_count": 40,
   "id": "674c8b3a",
   "metadata": {},
   "outputs": [
    {
     "data": {
      "image/png": "[encoded data removed]",
      "text/plain": [
       "Plot with title \"f(x) == sin(pi * x)\""
      ]
     },
     "metadata": {
      "image/png": {
       "height": 240,
       "width": 600
      }
     },
     "output_type": "display_data"
    }
   ],
   "source": [
    "\n",
    "\n",
    "options(repr.plot.width=10, repr.plot.height=4)\n",
    "par(mfrow=c(1,3))\n",
    "\n",
    "plot(y ~ x, main = expression(f(x) == sin(pi*x)) , pch = 16, col = alpha(\"grey\", 0.8), cex.axis = 2, cex.lab = 2, cex.main = 2, lwd=5)\n",
    "lines(smooth.spline(x, y, spar = 0.5))\n",
    "\n",
    "plot(y ~ x, main = expression(f(x) == sin(pi*x)), pch = 16, col = alpha(\"grey\", 0.8), cex.axis = 2, cex.lab = 2, cex.main = 2, lwd=5)\n",
    "lines(smooth.spline(x,y, spar = 1))\n",
    "\n",
    "plot(y ~ x, main = expression(f(x) == sin(pi*x)), pch = 16, col = alpha(\"grey\", 0.8), cex.axis = 2, cex.lab = 2, cex.main = 2, lwd=5)\n",
    "lines(smooth.spline(x,y))"
   ]
  },
  {
   "cell_type": "markdown",
   "id": "8972586d",
   "metadata": {},
   "source": [
    "__How to choose $\\lambda$? Use Leave-One-Out Cross-Validation (LOOCV)__"
   ]
  },
  {
   "cell_type": "code",
   "execution_count": 41,
   "id": "79c89eed",
   "metadata": {},
   "outputs": [
    {
     "name": "stdout",
     "output_type": "stream",
     "text": [
      "The cross validation procedure chooses spar =  1 ."
     ]
    }
   ],
   "source": [
    "spar_seq = seq(from=0.05,to=1, by=0.05) # grid of spar values\n",
    "CV_err_spar = rep(NA,length(spar_seq)) \n",
    "\n",
    "for(j in 1:length(spar_seq)){\n",
    "    spar_using = spar_seq[j] \n",
    "    CV_err = rep(NA, n) #recall that n is the sample size, as defined above\n",
    "    for(i in 1:n){\n",
    "        x_test = x[i] #leave one x value out for CV\n",
    "        y_test = y[i] #leave one y value out for CV\n",
    "\n",
    "        x_tr = x[-i] #make the remaining x values the x values for the training set\n",
    "        y_tr = y[-i] #make the remaining y values the y values for the training set\n",
    "     \n",
    "    y_test_predict = predict(smooth.spline(x = x_tr,y = y_tr, spar = spar_using), x_test) #predicted value in test set\n",
    "    CV_err[i] = (y_test - y_test_predict$y)^2 # squared error\n",
    "    }\n",
    "    \n",
    "CV_err_spar[j] = mean(CV_err) #CV: mean of the squared errors\n",
    "    \n",
    "}\n",
    "\n",
    "s = spar_seq[which.min(CV_err_spar)] #the \"best\" spar value, as measured by leave-one-out CV\n",
    "\n",
    "cat(\"The cross validation procedure chooses spar = \", s, \".\")"
   ]
  },
  {
   "cell_type": "markdown",
   "id": "75e04ae3",
   "metadata": {},
   "source": [
    "We can plot the \"leave one out cross validation error\"  𝐶𝑉(𝑠𝑝𝑎𝑟)  as a function of spar to visualize the minimum."
   ]
  },
  {
   "cell_type": "code",
   "execution_count": 32,
   "id": "1dabf993",
   "metadata": {},
   "outputs": [
    {
     "data": {
      "text/html": [
       "<style>\n",
       ".list-inline {list-style: none; margin:0; padding: 0}\n",
       ".list-inline>li {display: inline-block}\n",
       ".list-inline>li:not(:last-child)::after {content: \"\\00b7\"; padding: 0 .5ex}\n",
       "</style>\n",
       "<ol class=list-inline><li>0.05</li><li>0.1</li><li>0.15</li><li>0.2</li><li>0.25</li><li>0.3</li><li>0.35</li><li>0.4</li><li>0.45</li><li>0.5</li><li>0.55</li><li>0.6</li><li>0.65</li><li>0.7</li><li>0.75</li><li>0.8</li><li>0.85</li><li>0.9</li><li>0.95</li><li>1</li></ol>\n"
      ],
      "text/latex": [
       "\\begin{enumerate*}\n",
       "\\item 0.05\n",
       "\\item 0.1\n",
       "\\item 0.15\n",
       "\\item 0.2\n",
       "\\item 0.25\n",
       "\\item 0.3\n",
       "\\item 0.35\n",
       "\\item 0.4\n",
       "\\item 0.45\n",
       "\\item 0.5\n",
       "\\item 0.55\n",
       "\\item 0.6\n",
       "\\item 0.65\n",
       "\\item 0.7\n",
       "\\item 0.75\n",
       "\\item 0.8\n",
       "\\item 0.85\n",
       "\\item 0.9\n",
       "\\item 0.95\n",
       "\\item 1\n",
       "\\end{enumerate*}\n"
      ],
      "text/markdown": [
       "1. 0.05\n",
       "2. 0.1\n",
       "3. 0.15\n",
       "4. 0.2\n",
       "5. 0.25\n",
       "6. 0.3\n",
       "7. 0.35\n",
       "8. 0.4\n",
       "9. 0.45\n",
       "10. 0.5\n",
       "11. 0.55\n",
       "12. 0.6\n",
       "13. 0.65\n",
       "14. 0.7\n",
       "15. 0.75\n",
       "16. 0.8\n",
       "17. 0.85\n",
       "18. 0.9\n",
       "19. 0.95\n",
       "20. 1\n",
       "\n",
       "\n"
      ],
      "text/plain": [
       " [1] 0.05 0.10 0.15 0.20 0.25 0.30 0.35 0.40 0.45 0.50 0.55 0.60 0.65 0.70 0.75\n",
       "[16] 0.80 0.85 0.90 0.95 1.00"
      ]
     },
     "metadata": {},
     "output_type": "display_data"
    }
   ],
   "source": [
    "spar_seq"
   ]
  },
  {
   "cell_type": "code",
   "execution_count": 47,
   "id": "7f1ce1d2",
   "metadata": {},
   "outputs": [
    {
     "data": {
      "image/png": "[encoded data removed]",
      "text/plain": [
       "plot without title"
      ]
     },
     "metadata": {
      "image/png": {
       "height": 420,
       "width": 420
      }
     },
     "output_type": "display_data"
    }
   ],
   "source": [
    "options(repr.plot.width=7, repr.plot.height=7) \n",
    "plot(x=spar_seq, y=CV_err_spar, type=\"b\", lwd=2, col=\"#046A38\", \n",
    "      xlab=\"spar\", ylab= expression(CV(spar)))"
   ]
  },
  {
   "cell_type": "code",
   "execution_count": 43,
   "id": "c1550a32",
   "metadata": {},
   "outputs": [
    {
     "name": "stdout",
     "output_type": "stream",
     "text": [
      "And, we can plot the simulated data and fitted smoothing spline fit using the spar of  1 ."
     ]
    }
   ],
   "source": [
    "cat(\"And, we can plot the simulated data and fitted smoothing spline fit using the spar of \", s, \".\")"
   ]
  },
  {
   "cell_type": "code",
   "execution_count": 44,
   "id": "fc57ecd8",
   "metadata": {},
   "outputs": [
    {
     "data": {
      "image/png": "[encoded data removed]",
      "text/plain": [
       "Plot with title \"f(x) == sin(pi * x)\""
      ]
     },
     "metadata": {
      "image/png": {
       "height": 420,
       "width": 420
      }
     },
     "output_type": "display_data"
    }
   ],
   "source": [
    "plot(y ~ x, main = expression(f(x) == sin(pi*x)), pch = 16, col = alpha(\"grey\", 0.8))\n",
    "lines(smooth.spline(x,y, spar = s))"
   ]
  }
 ],
 "metadata": {
  "kernelspec": {
   "display_name": "R",
   "language": "R",
   "name": "ir"
  },
  "language_info": {
   "codemirror_mode": "r",
   "file_extension": ".r",
   "mimetype": "text/x-r-source",
   "name": "R",
   "pygments_lexer": "r",
   "version": "4.1.3"
  }
 },
 "nbformat": 4,
 "nbformat_minor": 5
}
