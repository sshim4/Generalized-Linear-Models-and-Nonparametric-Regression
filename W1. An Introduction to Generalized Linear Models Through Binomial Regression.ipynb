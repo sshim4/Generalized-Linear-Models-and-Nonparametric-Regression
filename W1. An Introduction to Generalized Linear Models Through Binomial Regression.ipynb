{
 "cells": [
  {
   "cell_type": "code",
   "execution_count": 1,
   "id": "8a43a8f7",
   "metadata": {},
   "outputs": [
    {
     "name": "stdout",
     "output_type": "stream",
     "text": [
      "Last updated  Tue Oct 11 17:17:29 2022"
     ]
    }
   ],
   "source": [
    "cat('Last updated ', date())"
   ]
  },
  {
   "cell_type": "markdown",
   "id": "dbf7a490",
   "metadata": {},
   "source": [
    "_This is a study note while I am taking __Generalized Linear Models and Nonparametric Regression__ offered by University of Colorado Boulder in Coursera_"
   ]
  },
  {
   "cell_type": "markdown",
   "id": "55d95b0d",
   "metadata": {},
   "source": [
    "__markdown mathematical formula__\n",
    "https://nocomplexity.com/documents/jupyterlab/notebooks/TypesettingEquations.html"
   ]
  },
  {
   "cell_type": "markdown",
   "id": "c2e2dc14",
   "metadata": {},
   "source": [
    "# I. From Linear Models to Generalized Linear Models"
   ]
  },
  {
   "cell_type": "markdown",
   "id": "9a645fc3",
   "metadata": {},
   "source": [
    "## 1. Multiple linear regression (MLR) assumptions\n",
    "\n",
    "1. Linearity : $E(\\underline y) = X\\underline \\beta$ where $\\underline y = (y_1, ..., y_n)^T$\n",
    "2. Independence: $Cov(\\epsilon_i, \\epsilon_j)=0$, $i \\neq j$\n",
    "3. Homoscedasticity: $Var(y_i) = Var(\\epsilon_i)=\\sigma^2$\n",
    "4. Nomality: $\\epsilon_i \\stackrel{iid}{\\sim} N(0, \\sigma^2) $\n"
   ]
  },
  {
   "cell_type": "markdown",
   "id": "7e4a40ea",
   "metadata": {},
   "source": [
    "__Example__: Researchers are interested in predicting whether a political candidate will win an upcoming election. The reponse variable is binary: win or lose. Important predictors might me the amount of money spent on the campaign, the amount of time spent campaigning, and whether or not a candidate is an incumbent. <br>\n",
    "\n",
    "__What of, if any, assmuptions are violated here?__ <br>\n",
    "1. Continuity/Normality of the reponse: This may violate normality assumpiton. In the nomality assumtion, $\\epsilon$ is Nomal, so $\\underline y$ is also normal. But the reponsevariable is binary, it may follow Bernoulli distribution. \n",
    "\n",
    "2. homoscedasticity:  Also, we see that we also violate the constant variance, homoscedasticity assumption. $Var(Y_i)=\\sigma_i^2=np_i(1-p_i)$ The variance differs at each i."
   ]
  },
  {
   "cell_type": "markdown",
   "id": "5dd3627b",
   "metadata": {},
   "source": [
    "## 2. Binomial Distribution\n",
    "Let $Y_i \\sim binomial(n, p_i)$ for $i=1, 2, ..., n$ and let $y=0, 1, ..., n$ then\n",
    "\n",
    "1. Probabiliy mass function (pmf): $P(Y_i=y) = {n \\choose y}p_i^y(1-p_i)^{n-y}$\n",
    "2. Mean: $E(Y_i)=\\mu_i=np_i$\n",
    "3. Variance: $Var(Y_i)=\\sigma_i^2=np_i(1-p_i)$"
   ]
  },
  {
   "cell_type": "markdown",
   "id": "c2136b24",
   "metadata": {},
   "source": [
    "In this example, we use binomial regression (of which a special case is logistic regression)\n",
    "Binomial regression is a specific type of generalized linear model (GLM).\n",
    "Other GLMs allow for other types of data such as possion regression for count data."
   ]
  },
  {
   "cell_type": "markdown",
   "id": "771c9254",
   "metadata": {},
   "source": [
    "## 3. Overview of GLM\n",
    "__GLMs__ extend the linear model framework to non-normal reponses (e.g, counts). We can also extend linear models in other ways. \n",
    "1. Nonlinear structure: Nonparametric and semiparametric models allow us to capture data where the predictors are nonlinearly related to the reponse.\n",
    "\n",
    "2. Correlation structure: Mixed effects models account for data with a grouped, nested, or hierarchical structure."
   ]
  },
  {
   "cell_type": "markdown",
   "id": "8d478046",
   "metadata": {},
   "source": [
    "# II. The Components of a GLM"
   ]
  },
  {
   "cell_type": "markdown",
   "id": "8b296747",
   "metadata": {},
   "source": [
    "Let\n",
    "* $\\boldsymbol{x}_j=(x_{1,j}, ..., x_{n,j})^T$, $j= 1, ..., p $ be a set of predictors; p is number of predictors. \n",
    "* $\\boldsymbol{Y}=(Y_1, ..., Y_n)^T$ be a response\n",
    "* $\\boldsymbol{\\beta}=(\\beta_0, \\beta_1, ..., \\beta_p)^T$ be a vector of parameters. \n",
    "A GLM has three components:\n",
    "1. __A random component: The response is the random component__. The reponse conditioned on the predictors must be a rondom variable from __the exponential family of distribution__.\n",
    "\n",
    "2. A systematic component: A systemetic component is a linear combination of predictor measurements and parameters.\n",
    "    * The systematic component is supposed to explain variability in the reponse y.\n",
    "    * Linear combination:  $\\eta=\\beta_0+\\beta_1x_1+...+\\beta_px_p$\n",
    "\n",
    "\n",
    "3. Link funciton: The link function relates the random and systematic components together. \n",
    "    * The link function, g, describe how the mean reponse, $\\mu=E(\\boldsymbol{Y})$, is linked $\\eta$\n",
    "    * $g(\\mu_i)=\\eta_i=\\beta_0+\\beta_1x_{i1}+...+\\beta_px_{ip}$\n",
    "    * We requiare a monotone contimuous and differentiable function. But, there are some convenient choices for certain data types.\"\n",
    "    \n",
    "In the case of a normal distibution, the GLM reduces to a standard linear regression model. y|x is normal and normal distib and ion is in exponential familiy and "
   ]
  },
  {
   "cell_type": "markdown",
   "id": "9e581fa8",
   "metadata": {},
   "source": [
    "# III. The Exponential Family of Distibution"
   ]
  },
  {
   "cell_type": "markdown",
   "id": "013d427c",
   "metadata": {},
   "source": [
    "Definition: $\\boldsymbol{Y}$ is a random variable from the _exponential family_ if the distribution can be written as:\n",
    "$$f(y; \\theta, \\phi)=exp\\{\\frac{y\\theta-b(\\theta)}{a(\\phi)}\\}+c(y,\\phi) $$\n",
    "* $\\theta$ : the canonical parameter of the natural parameter, and it represents the location of the distribution. \n",
    "* $\\phi$ : the dispersion parameter, which represents the scale"
   ]
  },
  {
   "cell_type": "markdown",
   "id": "27babfd8",
   "metadata": {},
   "source": [
    "__Example__: Show that $Y \\sim binomial(n, p)$, where n is known, is a member of the exponential family."
   ]
  },
  {
   "cell_type": "markdown",
   "id": "30efedb4",
   "metadata": {},
   "source": [
    "$$\\begin{eqnarray} \n",
    "f(y; n, p) &=& P(Y=y; n,p) \\\\\n",
    " &=& exp\\{log[{n \\choose y}p^y(1-p)^{n-y}]\\} \\\\\n",
    " &=& exp\\{log {n \\choose y} + ylog(p) + (n-y)log(1-p)\\} \\\\\n",
    " &=& exp\\{log {n \\choose y} + ylog(p) + nlog(1-p) - y log(1-p)\\}\\\\\n",
    " &=& exp\\{ylog(\\frac{p}{1-p}) + nlog(1-p) + log {n \\choose y} \\}\n",
    "\\end{eqnarray}$$"
   ]
  },
  {
   "cell_type": "markdown",
   "id": "368d846f",
   "metadata": {},
   "source": [
    "In the last expression, \n",
    "\n",
    "* $ \\theta = log(\\frac{p}{1-p}) $ implies that $p= \\frac{e^\\theta}{1+e^\\theta}$\n",
    "* $ b(\\theta ) = nlog(1-p) $\n",
    "* $ c(y,\\phi) = log {n \\choose y}   $"
   ]
  },
  {
   "cell_type": "markdown",
   "id": "18a61fbe",
   "metadata": {},
   "source": [
    "__Exponential Family Mean and Variance__ <br>\n",
    "If $Y$ is a random variable from the exponential family, then:\n",
    "*  $\\mu = E(Y) =  b^\\prime (\\theta)$\n",
    "* $\\sigma^2 = Var(Y) = b^{\\prime\\prime}(\\theta)\\phi$"
   ]
  },
  {
   "cell_type": "markdown",
   "id": "4f4774b6",
   "metadata": {},
   "source": [
    "__Conclusions, in the GLM__\n",
    "1. Response must be from the exponential family\n",
    "2. because the canonical parameter plays a role\n",
    "3. Many of the common distributions - e.g., binomial, poisson, normal, exponential - are from the exponential family."
   ]
  }
 ],
 "metadata": {
  "kernelspec": {
   "display_name": "R",
   "language": "R",
   "name": "ir"
  },
  "language_info": {
   "codemirror_mode": "r",
   "file_extension": ".r",
   "mimetype": "text/x-r-source",
   "name": "R",
   "pygments_lexer": "r",
   "version": "4.1.3"
  }
 },
 "nbformat": 4,
 "nbformat_minor": 5
}
