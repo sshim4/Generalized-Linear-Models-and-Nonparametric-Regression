{
 "cells": [
  {
   "cell_type": "code",
   "execution_count": 1,
   "id": "d6020531",
   "metadata": {},
   "outputs": [
    {
     "name": "stdout",
     "output_type": "stream",
     "text": [
      "Last updated  Sat Oct 22 13:13:38 2022"
     ]
    }
   ],
   "source": [
    "cat('Last updated ', date())"
   ]
  },
  {
   "cell_type": "markdown",
   "id": "80bd631e",
   "metadata": {},
   "source": [
    "_This is a study note while I am studyig __Generalized Linear Models and Nonparametric Regression__ offered by University of Colorado Boulder in Coursera_"
   ]
  },
  {
   "cell_type": "markdown",
   "id": "656acd20",
   "metadata": {},
   "source": [
    "### Loess Fit in R"
   ]
  },
  {
   "cell_type": "markdown",
   "id": "1a398ec3",
   "metadata": {},
   "source": [
    "__MSE using taylor expansion using a weight funcion__\n",
    "\n",
    "\n",
    "$MSE^w_{Taylor} = \\frac{1}{n}\n",
    "                \\sum_{i=1}^{n} \\underbrace{ w_i(x-x_0)}_\\text{(*)}\n",
    "                (Y_i - \n",
    "                \\sum_{j=0}^p\n",
    "                \\beta_j(x-x_0)^p)^2)$\n",
    "                \n",
    "Where $\\beta_j = \\frac{f^{(j)}(x_0)}{j!}$, \n",
    "\n",
    "(*) only care about points very close to $x_0$\n",
    "\n",
    "\n",
    "There are different possible weight function you can use, the standard one is\n",
    "\n",
    "\n",
    "$w_i(x) =\\begin{cases} (1 - |x|^3)^3  & if \\; |x| <1 \\\\\n",
    "                         1  & if  \\; |x| \\ge 1\n",
    "       \\end{cases}$\n",
    "       "
   ]
  },
  {
   "cell_type": "markdown",
   "id": "72c72ef6",
   "metadata": {},
   "source": [
    "Suppose $U(0,\\pi/2)$, and let $Y = \\sin(\\pi x) + \\varepsilon$, where $\\varepsilon \\overset{iid}{\\sim} N(0,0.5^2)$."
   ]
  },
  {
   "cell_type": "code",
   "execution_count": 22,
   "id": "50b5460b",
   "metadata": {},
   "outputs": [
    {
     "data": {
      "text/html": [
       "<table class=\"dataframe\">\n",
       "<caption>A data.frame: 6 × 2</caption>\n",
       "<thead>\n",
       "\t<tr><th></th><th scope=col>x</th><th scope=col>y</th></tr>\n",
       "\t<tr><th></th><th scope=col>&lt;dbl&gt;</th><th scope=col>&lt;dbl&gt;</th></tr>\n",
       "</thead>\n",
       "<tbody>\n",
       "\t<tr><th scope=row>1</th><td>0.45172571</td><td>5.501308</td></tr>\n",
       "\t<tr><th scope=row>2</th><td>1.23826681</td><td>3.177046</td></tr>\n",
       "\t<tr><th scope=row>3</th><td>0.64241945</td><td>4.291206</td></tr>\n",
       "\t<tr><th scope=row>4</th><td>1.38704049</td><td>3.152961</td></tr>\n",
       "\t<tr><th scope=row>5</th><td>1.47728256</td><td>2.933100</td></tr>\n",
       "\t<tr><th scope=row>6</th><td>0.07155998</td><td>4.225805</td></tr>\n",
       "</tbody>\n",
       "</table>\n"
      ],
      "text/latex": [
       "A data.frame: 6 × 2\n",
       "\\begin{tabular}{r|ll}\n",
       "  & x & y\\\\\n",
       "  & <dbl> & <dbl>\\\\\n",
       "\\hline\n",
       "\t1 & 0.45172571 & 5.501308\\\\\n",
       "\t2 & 1.23826681 & 3.177046\\\\\n",
       "\t3 & 0.64241945 & 4.291206\\\\\n",
       "\t4 & 1.38704049 & 3.152961\\\\\n",
       "\t5 & 1.47728256 & 2.933100\\\\\n",
       "\t6 & 0.07155998 & 4.225805\\\\\n",
       "\\end{tabular}\n"
      ],
      "text/markdown": [
       "\n",
       "A data.frame: 6 × 2\n",
       "\n",
       "| <!--/--> | x &lt;dbl&gt; | y &lt;dbl&gt; |\n",
       "|---|---|---|\n",
       "| 1 | 0.45172571 | 5.501308 |\n",
       "| 2 | 1.23826681 | 3.177046 |\n",
       "| 3 | 0.64241945 | 4.291206 |\n",
       "| 4 | 1.38704049 | 3.152961 |\n",
       "| 5 | 1.47728256 | 2.933100 |\n",
       "| 6 | 0.07155998 | 4.225805 |\n",
       "\n"
      ],
      "text/plain": [
       "  x          y       \n",
       "1 0.45172571 5.501308\n",
       "2 1.23826681 3.177046\n",
       "3 0.64241945 4.291206\n",
       "4 1.38704049 3.152961\n",
       "5 1.47728256 2.933100\n",
       "6 0.07155998 4.225805"
      ]
     },
     "metadata": {},
     "output_type": "display_data"
    }
   ],
   "source": [
    "set.seed(123)\n",
    "\n",
    "n = 150\n",
    "x = runif(n, 0, pi/2) \n",
    "y = sin(pi*x) + rnorm(n, 0, 0.5) + 4\n",
    "\n",
    "df = data.frame(x = x, y = y)\n",
    "head(df)"
   ]
  },
  {
   "cell_type": "code",
   "execution_count": 25,
   "id": "25c06fbd",
   "metadata": {},
   "outputs": [],
   "source": [
    "setwd('C:/Users/shims/Desktop/Generalized Linear Models and Nonparametric Regression')"
   ]
  },
  {
   "cell_type": "code",
   "execution_count": 26,
   "id": "0c8a913c",
   "metadata": {},
   "outputs": [],
   "source": [
    "library(cowplot)\n",
    "library(ggplot2)"
   ]
  },
  {
   "cell_type": "markdown",
   "id": "a0448e64",
   "metadata": {},
   "source": [
    "__Loess vs Linear__"
   ]
  },
  {
   "cell_type": "code",
   "execution_count": 41,
   "id": "a585d5b3",
   "metadata": {},
   "outputs": [
    {
     "name": "stderr",
     "output_type": "stream",
     "text": [
      "`geom_smooth()` using formula 'y ~ x'\n",
      "\n",
      "`geom_smooth()` using formula 'y ~ x'\n",
      "\n",
      "Saving 6.67 x 6.67 in image\n",
      "\n"
     ]
    },
    {
     "data": {
      "image/png": "[encoded data removed]",
      "text/plain": [
       "plot without title"
      ]
     },
     "metadata": {
      "image/png": {
       "height": 300,
       "width": 600
      }
     },
     "output_type": "display_data"
    }
   ],
   "source": [
    "options(repr.plot.width = 10, repr.plot.height = 5)\n",
    "\n",
    "plot1 <- ggplot(df, aes(x = x, y = y)) + \n",
    "    geom_point(alpha = 0.5) + \n",
    "    geom_smooth( method = \"loess\",  col = \"#046A38\") + \n",
    "    theme_bw() \n",
    "\n",
    "plot2 <- ggplot(df, aes(x = x, y = y)) + \n",
    "    geom_point(alpha = 0.5) + \n",
    "    geom_smooth(method = \"lm\", col = \"black\") +\n",
    "    theme_bw()  \n",
    "\n",
    "plot_grid(plot1, plot2, labels = \"AUTO\")\n",
    "ggsave(\"plot.pdf\")"
   ]
  },
  {
   "cell_type": "markdown",
   "id": "c69d941b",
   "metadata": {},
   "source": [
    "In the graph, we see that the loess captures the systematic variability in the data much better then linear regression does. "
   ]
  },
  {
   "cell_type": "markdown",
   "id": "5828bf00",
   "metadata": {},
   "source": [
    "__Fit a loess model__"
   ]
  },
  {
   "cell_type": "code",
   "execution_count": 49,
   "id": "6830aea8",
   "metadata": {},
   "outputs": [
    {
     "name": "stdout",
     "output_type": "stream",
     "text": [
      "Here are the predicted values:  4.401635 4.821459 4.904826 4.597158 ."
     ]
    }
   ],
   "source": [
    "l = loess(y ~ x, data = df) #fit a model\n",
    "newdata = seq(0.1,0.75, length.out = 4) # new data\n",
    "pred = predict(l, newdata, se = T) # prediction\n",
    "# se =T to obtain the standard error associated with the model. \n",
    "cat(\"Here are the predicted values: \", pred$fit, \".\")"
   ]
  },
  {
   "cell_type": "code",
   "execution_count": 51,
   "id": "45d99194",
   "metadata": {},
   "outputs": [
    {
     "data": {
      "text/html": [
       "<dl>\n",
       "\t<dt>$fit</dt>\n",
       "\t\t<dd><style>\n",
       ".list-inline {list-style: none; margin:0; padding: 0}\n",
       ".list-inline>li {display: inline-block}\n",
       ".list-inline>li:not(:last-child)::after {content: \"\\00b7\"; padding: 0 .5ex}\n",
       "</style>\n",
       "<ol class=list-inline><li>4.40163546441502</li><li>4.82145857320152</li><li>4.90482632678217</li><li>4.59715776819578</li></ol>\n",
       "</dd>\n",
       "\t<dt>$se.fit</dt>\n",
       "\t\t<dd><style>\n",
       ".list-inline {list-style: none; margin:0; padding: 0}\n",
       ".list-inline>li {display: inline-block}\n",
       ".list-inline>li:not(:last-child)::after {content: \"\\00b7\"; padding: 0 .5ex}\n",
       "</style>\n",
       "<ol class=list-inline><li>0.109165577127516</li><li>0.0654127665432502</li><li>0.0726286448936648</li><li>0.0787045449108641</li></ol>\n",
       "</dd>\n",
       "\t<dt>$residual.scale</dt>\n",
       "\t\t<dd>0.484592804886908</dd>\n",
       "\t<dt>$df</dt>\n",
       "\t\t<dd>145.273111295016</dd>\n",
       "</dl>\n"
      ],
      "text/latex": [
       "\\begin{description}\n",
       "\\item[\\$fit] \\begin{enumerate*}\n",
       "\\item 4.40163546441502\n",
       "\\item 4.82145857320152\n",
       "\\item 4.90482632678217\n",
       "\\item 4.59715776819578\n",
       "\\end{enumerate*}\n",
       "\n",
       "\\item[\\$se.fit] \\begin{enumerate*}\n",
       "\\item 0.109165577127516\n",
       "\\item 0.0654127665432502\n",
       "\\item 0.0726286448936648\n",
       "\\item 0.0787045449108641\n",
       "\\end{enumerate*}\n",
       "\n",
       "\\item[\\$residual.scale] 0.484592804886908\n",
       "\\item[\\$df] 145.273111295016\n",
       "\\end{description}\n"
      ],
      "text/markdown": [
       "$fit\n",
       ":   1. 4.40163546441502\n",
       "2. 4.82145857320152\n",
       "3. 4.90482632678217\n",
       "4. 4.59715776819578\n",
       "\n",
       "\n",
       "\n",
       "$se.fit\n",
       ":   1. 0.109165577127516\n",
       "2. 0.0654127665432502\n",
       "3. 0.0726286448936648\n",
       "4. 0.0787045449108641\n",
       "\n",
       "\n",
       "\n",
       "$residual.scale\n",
       ":   0.484592804886908\n",
       "$df\n",
       ":   145.273111295016\n",
       "\n",
       "\n"
      ],
      "text/plain": [
       "$fit\n",
       "[1] 4.401635 4.821459 4.904826 4.597158\n",
       "\n",
       "$se.fit\n",
       "[1] 0.10916558 0.06541277 0.07262864 0.07870454\n",
       "\n",
       "$residual.scale\n",
       "[1] 0.4845928\n",
       "\n",
       "$df\n",
       "[1] 145.2731\n"
      ]
     },
     "metadata": {},
     "output_type": "display_data"
    },
    {
     "name": "stdout",
     "output_type": "stream",
     "text": [
      " Here are the confidence intervals associated with predictions at the new data:"
     ]
    },
    {
     "data": {
      "text/html": [
       "<table class=\"dataframe\">\n",
       "<caption>A matrix: 4 × 2 of type dbl</caption>\n",
       "<tbody>\n",
       "\t<tr><td>4.185878</td><td>4.617393</td></tr>\n",
       "\t<tr><td>4.692175</td><td>4.950742</td></tr>\n",
       "\t<tr><td>4.761281</td><td>5.048372</td></tr>\n",
       "\t<tr><td>4.441604</td><td>4.752712</td></tr>\n",
       "</tbody>\n",
       "</table>\n"
      ],
      "text/latex": [
       "A matrix: 4 × 2 of type dbl\n",
       "\\begin{tabular}{ll}\n",
       "\t 4.185878 & 4.617393\\\\\n",
       "\t 4.692175 & 4.950742\\\\\n",
       "\t 4.761281 & 5.048372\\\\\n",
       "\t 4.441604 & 4.752712\\\\\n",
       "\\end{tabular}\n"
      ],
      "text/markdown": [
       "\n",
       "A matrix: 4 × 2 of type dbl\n",
       "\n",
       "| 4.185878 | 4.617393 |\n",
       "| 4.692175 | 4.950742 |\n",
       "| 4.761281 | 5.048372 |\n",
       "| 4.441604 | 4.752712 |\n",
       "\n"
      ],
      "text/plain": [
       "     [,1]     [,2]    \n",
       "[1,] 4.185878 4.617393\n",
       "[2,] 4.692175 4.950742\n",
       "[3,] 4.761281 5.048372\n",
       "[4,] 4.441604 4.752712"
      ]
     },
     "metadata": {},
     "output_type": "display_data"
    }
   ],
   "source": [
    "p\n",
    "ce = cbind(pred$fit - qt(0.975,pred$df)*pred$se, pred$fit + qt(0.975,pred$df)*pred$se)\n",
    "\n",
    "cat(\" Here are the confidence intervals associated with predictions at the new data:\")\n",
    "ce"
   ]
  }
 ],
 "metadata": {
  "kernelspec": {
   "display_name": "R",
   "language": "R",
   "name": "ir"
  },
  "language_info": {
   "codemirror_mode": "r",
   "file_extension": ".r",
   "mimetype": "text/x-r-source",
   "name": "R",
   "pygments_lexer": "r",
   "version": "4.1.3"
  }
 },
 "nbformat": 4,
 "nbformat_minor": 5
}
